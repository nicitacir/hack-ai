{
 "cells": [
  {
   "cell_type": "markdown",
   "metadata": {},
   "source": [
    "## Описание задачи"
   ]
  },
  {
   "cell_type": "markdown",
   "metadata": {},
   "source": [
    "Технологии искусственного интеллекта трансформируют сферу управления персоналом, позволяя решать практические HR-задачи. Уже\n",
    "сейчас умные алгоритмы могут подобрать кадры, спланировать размер фонда заработной платы, выбрать образовательные курсы, оценить\n",
    "мотивацию, эффективность труда и даже спрогнозировать карьерное развитие специалиста.\n",
    "Аналитика по определению карьерной траектории строится, в том числе, на основе данных по использованию различных корпоративных\n",
    "информационных систем (система мониторинга рабочего времени, сервисы видеоконференцсвязи, IP-телефонии, СЭД, СКУД, электронная почта). Таким образом, для некоторых профессий, связанных с активным использованием электронных устройств (программист, бухгалтер, маркетолог и т.д.), можно выделить цифровой профиль успешных специалистов, выполняющих задачи своевременно и качественно и получающих новые должности.\n",
    "\n",
    "Имея на руках данные о повышении работников и информацию об ихактивности, истории посещения офиса и успеваемости по задачам, можно получить прогнозную модель, которая будет предсказывать изменение должности сотрудников автоматически.\n",
    "\n",
    "На основе метаданных работников разработайте прогнозную модель,которая будет предсказывать, какой тип повышения получитсотрудник в будущем.\n",
    "\n",
    "В качестве метрики выступает **Recall** по столбцу **type**"
   ]
  },
  {
   "cell_type": "markdown",
   "metadata": {
    "id": "FH0ZYdNyQzug"
   },
   "source": [
    "## Загрузим нужные библиотеки"
   ]
  },
  {
   "cell_type": "code",
   "execution_count": 1,
   "metadata": {
    "id": "BwNGqMidQiRi"
   },
   "outputs": [],
   "source": [
    "import pandas as pd\n",
    "import seaborn as sns\n",
    "import matplotlib.pyplot as plt\n",
    "from sklearn.model_selection import train_test_split\n",
    "from sklearn.ensemble import RandomForestClassifier\n",
    "from sklearn.metrics import recall_score\n",
    "import numpy as np\n",
    "from sklearn.model_selection import GridSearchCV\n",
    "from sklearn.linear_model import LogisticRegression\n",
    "from sklearn.model_selection import RandomizedSearchCV\n",
    "\n",
    "%matplotlib inline\n",
    "import warnings\n",
    "warnings.filterwarnings('ignore')"
   ]
  },
  {
   "cell_type": "code",
   "execution_count": 2,
   "metadata": {
    "colab": {
     "base_uri": "https://localhost:8080/"
    },
    "id": "3TZUcuZ33rM5",
    "outputId": "92f02201-8f54-42cc-a2cc-c664ee69c0b0"
   },
   "outputs": [],
   "source": [
    "df_train = pd.read_csv(r'C:\\project_jupyter\\saha\\train.csv')\n",
    "df_test = pd.read_csv(r'C:\\project_jupyter\\saha\\test.csv')\n",
    "\n",
    "df_calls = pd.read_csv(r'C:\\project_jupyter\\saha\\Calls.csv')\n",
    "df_connection_time = pd.read_csv(r'C:\\project_jupyter\\saha\\ConnectionTime.csv')\n",
    "df_ed = pd.read_csv(r'C:\\project_jupyter\\saha\\Education.csv')\n",
    "df_skud = pd.read_csv(r'C:\\project_jupyter\\saha\\SKUD.csv')\n",
    "df_tasks = pd.read_csv(r'C:\\project_jupyter\\saha\\Tasks.csv')\n"
   ]
  },
  {
   "cell_type": "markdown",
   "metadata": {
    "id": "GywlangPRAEm"
   },
   "source": [
    "## Рассмотрим датасет по ближе"
   ]
  },
  {
   "cell_type": "markdown",
   "metadata": {},
   "source": [
    "* Calls.csv — файл, содержащий данные о звонках\n",
    "* ConnectionTime.csv — определение опозданий по данным\n",
    "* Education.csv — файл, содержащий данные об образовании сотрудников\n",
    "* SKUD.csv — файл, содержащий данные прихода/ухода сотрудников на рабочее место \n",
    "* Tasks.csv — файл, содержащий данные о исполнение задач\n",
    "* TimenNetwork.csv — интервалы времени в сети в системе учета рабочего времени сотрудника за компьютером\n",
    "* WorkingDay.csv — файл, содержащий интервалы времени активности система учета рабочего времени сотрудника за компьютером\n",
    "* train.csv — файл, содержащий данные сотрудников с типом повышения для тренировки\n",
    "* test.csv — пример файла для отправки, содержит id работников, для которых требуется предсказать тип повышения."
   ]
  },
  {
   "cell_type": "code",
   "execution_count": 3,
   "metadata": {},
   "outputs": [
    {
     "data": {
      "text/html": [
       "<div>\n",
       "<style scoped>\n",
       "    .dataframe tbody tr th:only-of-type {\n",
       "        vertical-align: middle;\n",
       "    }\n",
       "\n",
       "    .dataframe tbody tr th {\n",
       "        vertical-align: top;\n",
       "    }\n",
       "\n",
       "    .dataframe thead th {\n",
       "        text-align: right;\n",
       "    }\n",
       "</style>\n",
       "<table border=\"1\" class=\"dataframe\">\n",
       "  <thead>\n",
       "    <tr style=\"text-align: right;\">\n",
       "      <th></th>\n",
       "      <th>id</th>\n",
       "      <th>type</th>\n",
       "    </tr>\n",
       "  </thead>\n",
       "  <tbody>\n",
       "    <tr>\n",
       "      <th>0</th>\n",
       "      <td>ОРГ1-02649</td>\n",
       "      <td>0</td>\n",
       "    </tr>\n",
       "    <tr>\n",
       "      <th>1</th>\n",
       "      <td>ОРГ2-05929</td>\n",
       "      <td>0</td>\n",
       "    </tr>\n",
       "    <tr>\n",
       "      <th>2</th>\n",
       "      <td>ОРГ2-05859</td>\n",
       "      <td>0</td>\n",
       "    </tr>\n",
       "    <tr>\n",
       "      <th>3</th>\n",
       "      <td>ОРГ1-00279</td>\n",
       "      <td>0</td>\n",
       "    </tr>\n",
       "    <tr>\n",
       "      <th>4</th>\n",
       "      <td>ОРГ2-01613</td>\n",
       "      <td>0</td>\n",
       "    </tr>\n",
       "  </tbody>\n",
       "</table>\n",
       "</div>"
      ],
      "text/plain": [
       "           id  type\n",
       "0  ОРГ1-02649     0\n",
       "1  ОРГ2-05929     0\n",
       "2  ОРГ2-05859     0\n",
       "3  ОРГ1-00279     0\n",
       "4  ОРГ2-01613     0"
      ]
     },
     "execution_count": 3,
     "metadata": {},
     "output_type": "execute_result"
    }
   ],
   "source": [
    "df_test.head()"
   ]
  },
  {
   "cell_type": "code",
   "execution_count": 4,
   "metadata": {
    "colab": {
     "base_uri": "https://localhost:8080/",
     "height": 143
    },
    "id": "gvcl_K3FQ-os",
    "outputId": "d3bd5bb7-9e48-4fbc-bdf7-cf82401a203d",
    "scrolled": false
   },
   "outputs": [
    {
     "data": {
      "text/html": [
       "<div>\n",
       "<style scoped>\n",
       "    .dataframe tbody tr th:only-of-type {\n",
       "        vertical-align: middle;\n",
       "    }\n",
       "\n",
       "    .dataframe tbody tr th {\n",
       "        vertical-align: top;\n",
       "    }\n",
       "\n",
       "    .dataframe thead th {\n",
       "        text-align: right;\n",
       "    }\n",
       "</style>\n",
       "<table border=\"1\" class=\"dataframe\">\n",
       "  <thead>\n",
       "    <tr style=\"text-align: right;\">\n",
       "      <th></th>\n",
       "      <th>Date</th>\n",
       "      <th>CallTime</th>\n",
       "      <th>NumberOfCalls</th>\n",
       "      <th>Вид учета времени</th>\n",
       "      <th>InOut</th>\n",
       "      <th>id</th>\n",
       "    </tr>\n",
       "  </thead>\n",
       "  <tbody>\n",
       "    <tr>\n",
       "      <th>0</th>\n",
       "      <td>2021-08-16 00:00:00,000</td>\n",
       "      <td>0,00027777777777777778</td>\n",
       "      <td>1</td>\n",
       "      <td>Будни</td>\n",
       "      <td>ToUser</td>\n",
       "      <td>ОРГ1-01945</td>\n",
       "    </tr>\n",
       "    <tr>\n",
       "      <th>1</th>\n",
       "      <td>2021-09-21 00:00:00,000</td>\n",
       "      <td>0,00027777777777777778</td>\n",
       "      <td>1</td>\n",
       "      <td>Будни</td>\n",
       "      <td>ToUser</td>\n",
       "      <td>ОРГ1-01945</td>\n",
       "    </tr>\n",
       "    <tr>\n",
       "      <th>2</th>\n",
       "      <td>2021-01-11 00:00:00,000</td>\n",
       "      <td>0,00027777777777777778</td>\n",
       "      <td>1</td>\n",
       "      <td>Будни</td>\n",
       "      <td>ToUser</td>\n",
       "      <td>ОРГ1-01945</td>\n",
       "    </tr>\n",
       "  </tbody>\n",
       "</table>\n",
       "</div>"
      ],
      "text/plain": [
       "                      Date                CallTime  NumberOfCalls  \\\n",
       "0  2021-08-16 00:00:00,000  0,00027777777777777778              1   \n",
       "1  2021-09-21 00:00:00,000  0,00027777777777777778              1   \n",
       "2  2021-01-11 00:00:00,000  0,00027777777777777778              1   \n",
       "\n",
       "  Вид учета времени   InOut          id  \n",
       "0             Будни  ToUser  ОРГ1-01945  \n",
       "1             Будни  ToUser  ОРГ1-01945  \n",
       "2             Будни  ToUser  ОРГ1-01945  "
      ]
     },
     "execution_count": 4,
     "metadata": {},
     "output_type": "execute_result"
    }
   ],
   "source": [
    "df_calls.head(3)"
   ]
  },
  {
   "cell_type": "markdown",
   "metadata": {},
   "source": [
    "Выделим самый главный признак - количество звонков"
   ]
  },
  {
   "cell_type": "code",
   "execution_count": 5,
   "metadata": {},
   "outputs": [
    {
     "data": {
      "text/html": [
       "<div>\n",
       "<style scoped>\n",
       "    .dataframe tbody tr th:only-of-type {\n",
       "        vertical-align: middle;\n",
       "    }\n",
       "\n",
       "    .dataframe tbody tr th {\n",
       "        vertical-align: top;\n",
       "    }\n",
       "\n",
       "    .dataframe thead th {\n",
       "        text-align: right;\n",
       "    }\n",
       "</style>\n",
       "<table border=\"1\" class=\"dataframe\">\n",
       "  <thead>\n",
       "    <tr style=\"text-align: right;\">\n",
       "      <th></th>\n",
       "      <th>id</th>\n",
       "      <th>NumberOfCalls</th>\n",
       "    </tr>\n",
       "  </thead>\n",
       "  <tbody>\n",
       "    <tr>\n",
       "      <th>0</th>\n",
       "      <td>ОРГ1-00004</td>\n",
       "      <td>5655</td>\n",
       "    </tr>\n",
       "    <tr>\n",
       "      <th>1</th>\n",
       "      <td>ОРГ1-00005</td>\n",
       "      <td>3501</td>\n",
       "    </tr>\n",
       "    <tr>\n",
       "      <th>2</th>\n",
       "      <td>ОРГ1-00028</td>\n",
       "      <td>2083</td>\n",
       "    </tr>\n",
       "    <tr>\n",
       "      <th>3</th>\n",
       "      <td>ОРГ1-00030</td>\n",
       "      <td>3003</td>\n",
       "    </tr>\n",
       "    <tr>\n",
       "      <th>4</th>\n",
       "      <td>ОРГ1-00044</td>\n",
       "      <td>4032</td>\n",
       "    </tr>\n",
       "    <tr>\n",
       "      <th>...</th>\n",
       "      <td>...</td>\n",
       "      <td>...</td>\n",
       "    </tr>\n",
       "    <tr>\n",
       "      <th>1066</th>\n",
       "      <td>ОРГ2-05629</td>\n",
       "      <td>8</td>\n",
       "    </tr>\n",
       "    <tr>\n",
       "      <th>1067</th>\n",
       "      <td>ОРГ2-05862</td>\n",
       "      <td>5</td>\n",
       "    </tr>\n",
       "    <tr>\n",
       "      <th>1068</th>\n",
       "      <td>ОРГ2-05932</td>\n",
       "      <td>23</td>\n",
       "    </tr>\n",
       "    <tr>\n",
       "      <th>1069</th>\n",
       "      <td>ОРГ2-06006</td>\n",
       "      <td>1</td>\n",
       "    </tr>\n",
       "    <tr>\n",
       "      <th>1070</th>\n",
       "      <td>ОРГ2-06638</td>\n",
       "      <td>143</td>\n",
       "    </tr>\n",
       "  </tbody>\n",
       "</table>\n",
       "<p>1071 rows × 2 columns</p>\n",
       "</div>"
      ],
      "text/plain": [
       "              id  NumberOfCalls\n",
       "0     ОРГ1-00004           5655\n",
       "1     ОРГ1-00005           3501\n",
       "2     ОРГ1-00028           2083\n",
       "3     ОРГ1-00030           3003\n",
       "4     ОРГ1-00044           4032\n",
       "...          ...            ...\n",
       "1066  ОРГ2-05629              8\n",
       "1067  ОРГ2-05862              5\n",
       "1068  ОРГ2-05932             23\n",
       "1069  ОРГ2-06006              1\n",
       "1070  ОРГ2-06638            143\n",
       "\n",
       "[1071 rows x 2 columns]"
      ]
     },
     "execution_count": 5,
     "metadata": {},
     "output_type": "execute_result"
    }
   ],
   "source": [
    "df_calls_pt=df_calls[['NumberOfCalls','id']].groupby('id').sum()\n",
    "df_calls_pt= df_calls_pt.reset_index()\n",
    "df_calls_pt"
   ]
  },
  {
   "cell_type": "code",
   "execution_count": 6,
   "metadata": {
    "colab": {
     "base_uri": "https://localhost:8080/",
     "height": 187
    },
    "id": "zb9qIPOq4I-0",
    "outputId": "dc408614-268a-4981-f457-a62f91467bf3",
    "scrolled": false
   },
   "outputs": [
    {
     "data": {
      "text/html": [
       "<div>\n",
       "<style scoped>\n",
       "    .dataframe tbody tr th:only-of-type {\n",
       "        vertical-align: middle;\n",
       "    }\n",
       "\n",
       "    .dataframe tbody tr th {\n",
       "        vertical-align: top;\n",
       "    }\n",
       "\n",
       "    .dataframe thead th {\n",
       "        text-align: right;\n",
       "    }\n",
       "</style>\n",
       "<table border=\"1\" class=\"dataframe\">\n",
       "  <thead>\n",
       "    <tr style=\"text-align: right;\">\n",
       "      <th></th>\n",
       "      <th>dateNum</th>\n",
       "      <th>maxLogOff</th>\n",
       "      <th>Нормативное время начала раб.дня</th>\n",
       "      <th>Фактич. время начала раб.дня</th>\n",
       "      <th>Время опоздания</th>\n",
       "      <th>Признак опоздания</th>\n",
       "      <th>Вых/Будни</th>\n",
       "      <th>id</th>\n",
       "    </tr>\n",
       "  </thead>\n",
       "  <tbody>\n",
       "    <tr>\n",
       "      <th>0</th>\n",
       "      <td>2021-12-15 00:00:00,000</td>\n",
       "      <td>2021-12-15 17:30:27,246</td>\n",
       "      <td>1899-12-30 08:30:00,000</td>\n",
       "      <td>1899-12-30 08:24:18,606</td>\n",
       "      <td>NaN</td>\n",
       "      <td>NaN</td>\n",
       "      <td>Будни</td>\n",
       "      <td>ОРГ1-02782</td>\n",
       "    </tr>\n",
       "    <tr>\n",
       "      <th>1</th>\n",
       "      <td>2021-12-15 00:00:00,000</td>\n",
       "      <td>2021-12-15 16:30:13,330</td>\n",
       "      <td>1899-12-30 08:30:00,000</td>\n",
       "      <td>1899-12-30 01:05:20,513</td>\n",
       "      <td>NaN</td>\n",
       "      <td>NaN</td>\n",
       "      <td>Будни</td>\n",
       "      <td>ОРГ1-01407</td>\n",
       "    </tr>\n",
       "    <tr>\n",
       "      <th>2</th>\n",
       "      <td>2021-12-15 00:00:00,000</td>\n",
       "      <td>2021-12-15 15:27:37,246</td>\n",
       "      <td>1899-12-30 08:30:00,000</td>\n",
       "      <td>1899-12-30 05:47:33,156</td>\n",
       "      <td>NaN</td>\n",
       "      <td>NaN</td>\n",
       "      <td>Будни</td>\n",
       "      <td>ОРГ1-01909</td>\n",
       "    </tr>\n",
       "  </tbody>\n",
       "</table>\n",
       "</div>"
      ],
      "text/plain": [
       "                   dateNum                maxLogOff  \\\n",
       "0  2021-12-15 00:00:00,000  2021-12-15 17:30:27,246   \n",
       "1  2021-12-15 00:00:00,000  2021-12-15 16:30:13,330   \n",
       "2  2021-12-15 00:00:00,000  2021-12-15 15:27:37,246   \n",
       "\n",
       "  Нормативное время начала раб.дня Фактич. время начала раб.дня  \\\n",
       "0          1899-12-30 08:30:00,000      1899-12-30 08:24:18,606   \n",
       "1          1899-12-30 08:30:00,000      1899-12-30 01:05:20,513   \n",
       "2          1899-12-30 08:30:00,000      1899-12-30 05:47:33,156   \n",
       "\n",
       "  Время опоздания Признак опоздания Вых/Будни          id  \n",
       "0             NaN               NaN     Будни  ОРГ1-02782  \n",
       "1             NaN               NaN     Будни  ОРГ1-01407  \n",
       "2             NaN               NaN     Будни  ОРГ1-01909  "
      ]
     },
     "execution_count": 6,
     "metadata": {},
     "output_type": "execute_result"
    }
   ],
   "source": [
    "df_connection_time.head(3)"
   ]
  },
  {
   "cell_type": "markdown",
   "metadata": {},
   "source": [
    "Выделим самый главный признак - опаздания сотрудников"
   ]
  },
  {
   "cell_type": "code",
   "execution_count": 7,
   "metadata": {},
   "outputs": [
    {
     "data": {
      "text/html": [
       "<div>\n",
       "<style scoped>\n",
       "    .dataframe tbody tr th:only-of-type {\n",
       "        vertical-align: middle;\n",
       "    }\n",
       "\n",
       "    .dataframe tbody tr th {\n",
       "        vertical-align: top;\n",
       "    }\n",
       "\n",
       "    .dataframe thead th {\n",
       "        text-align: right;\n",
       "    }\n",
       "</style>\n",
       "<table border=\"1\" class=\"dataframe\">\n",
       "  <thead>\n",
       "    <tr style=\"text-align: right;\">\n",
       "      <th></th>\n",
       "      <th>id</th>\n",
       "      <th>Признак опоздания</th>\n",
       "    </tr>\n",
       "  </thead>\n",
       "  <tbody>\n",
       "    <tr>\n",
       "      <th>0</th>\n",
       "      <td>ОРГ1-00004</td>\n",
       "      <td>275</td>\n",
       "    </tr>\n",
       "    <tr>\n",
       "      <th>1</th>\n",
       "      <td>ОРГ1-00028</td>\n",
       "      <td>35</td>\n",
       "    </tr>\n",
       "    <tr>\n",
       "      <th>2</th>\n",
       "      <td>ОРГ1-00030</td>\n",
       "      <td>57</td>\n",
       "    </tr>\n",
       "    <tr>\n",
       "      <th>3</th>\n",
       "      <td>ОРГ1-00044</td>\n",
       "      <td>33</td>\n",
       "    </tr>\n",
       "    <tr>\n",
       "      <th>4</th>\n",
       "      <td>ОРГ1-00046</td>\n",
       "      <td>178</td>\n",
       "    </tr>\n",
       "    <tr>\n",
       "      <th>...</th>\n",
       "      <td>...</td>\n",
       "      <td>...</td>\n",
       "    </tr>\n",
       "    <tr>\n",
       "      <th>1583</th>\n",
       "      <td>ОРГ2-08179</td>\n",
       "      <td>0</td>\n",
       "    </tr>\n",
       "    <tr>\n",
       "      <th>1584</th>\n",
       "      <td>ОРГ2-08181</td>\n",
       "      <td>3</td>\n",
       "    </tr>\n",
       "    <tr>\n",
       "      <th>1585</th>\n",
       "      <td>ОРГ2-08203</td>\n",
       "      <td>7</td>\n",
       "    </tr>\n",
       "    <tr>\n",
       "      <th>1586</th>\n",
       "      <td>ОРГ2-08204</td>\n",
       "      <td>1</td>\n",
       "    </tr>\n",
       "    <tr>\n",
       "      <th>1587</th>\n",
       "      <td>ОРГ2-08215</td>\n",
       "      <td>4</td>\n",
       "    </tr>\n",
       "  </tbody>\n",
       "</table>\n",
       "<p>1588 rows × 2 columns</p>\n",
       "</div>"
      ],
      "text/plain": [
       "              id  Признак опоздания\n",
       "0     ОРГ1-00004                275\n",
       "1     ОРГ1-00028                 35\n",
       "2     ОРГ1-00030                 57\n",
       "3     ОРГ1-00044                 33\n",
       "4     ОРГ1-00046                178\n",
       "...          ...                ...\n",
       "1583  ОРГ2-08179                  0\n",
       "1584  ОРГ2-08181                  3\n",
       "1585  ОРГ2-08203                  7\n",
       "1586  ОРГ2-08204                  1\n",
       "1587  ОРГ2-08215                  4\n",
       "\n",
       "[1588 rows x 2 columns]"
      ]
     },
     "execution_count": 7,
     "metadata": {},
     "output_type": "execute_result"
    }
   ],
   "source": [
    "df_connection_time_pt=df_connection_time[['id','Признак опоздания']].groupby('id').count()\n",
    "df_connection_time_pt = df_connection_time_pt.reset_index()\n",
    "df_connection_time_pt"
   ]
  },
  {
   "cell_type": "code",
   "execution_count": 8,
   "metadata": {
    "colab": {
     "base_uri": "https://localhost:8080/",
     "height": 143
    },
    "id": "ih0T_woR4bhP",
    "outputId": "25c7ff30-99ac-4d29-9ab1-84228a9f71d5",
    "scrolled": true
   },
   "outputs": [
    {
     "data": {
      "text/html": [
       "<div>\n",
       "<style scoped>\n",
       "    .dataframe tbody tr th:only-of-type {\n",
       "        vertical-align: middle;\n",
       "    }\n",
       "\n",
       "    .dataframe tbody tr th {\n",
       "        vertical-align: top;\n",
       "    }\n",
       "\n",
       "    .dataframe thead th {\n",
       "        text-align: right;\n",
       "    }\n",
       "</style>\n",
       "<table border=\"1\" class=\"dataframe\">\n",
       "  <thead>\n",
       "    <tr style=\"text-align: right;\">\n",
       "      <th></th>\n",
       "      <th>Табельный номер руководителя</th>\n",
       "      <th>id</th>\n",
       "      <th>Вид образования</th>\n",
       "      <th>Специальность</th>\n",
       "    </tr>\n",
       "  </thead>\n",
       "  <tbody>\n",
       "    <tr>\n",
       "      <th>0</th>\n",
       "      <td>NaN</td>\n",
       "      <td>ОРГ1-00131</td>\n",
       "      <td>Высшее образование - бакалавриат</td>\n",
       "      <td>Юриспруденция</td>\n",
       "    </tr>\n",
       "    <tr>\n",
       "      <th>1</th>\n",
       "      <td>NaN</td>\n",
       "      <td>ОРГ1-03220</td>\n",
       "      <td>Среднее профессиональное образование</td>\n",
       "      <td>Финансы</td>\n",
       "    </tr>\n",
       "    <tr>\n",
       "      <th>2</th>\n",
       "      <td>NaN</td>\n",
       "      <td>ОРГ1-03008</td>\n",
       "      <td>Высшее образование</td>\n",
       "      <td>Юриспруденция</td>\n",
       "    </tr>\n",
       "  </tbody>\n",
       "</table>\n",
       "</div>"
      ],
      "text/plain": [
       "  Табельный номер руководителя          id  \\\n",
       "0                          NaN  ОРГ1-00131   \n",
       "1                          NaN  ОРГ1-03220   \n",
       "2                          NaN  ОРГ1-03008   \n",
       "\n",
       "                        Вид образования  Специальность  \n",
       "0      Высшее образование - бакалавриат  Юриспруденция  \n",
       "1  Среднее профессиональное образование        Финансы  \n",
       "2                    Высшее образование  Юриспруденция  "
      ]
     },
     "execution_count": 8,
     "metadata": {},
     "output_type": "execute_result"
    }
   ],
   "source": [
    "df_ed.head(3)"
   ]
  },
  {
   "cell_type": "markdown",
   "metadata": {},
   "source": [
    "Выделим самый главный признак - вид образования и закодируем его"
   ]
  },
  {
   "cell_type": "code",
   "execution_count": 9,
   "metadata": {},
   "outputs": [
    {
     "data": {
      "text/html": [
       "<div>\n",
       "<style scoped>\n",
       "    .dataframe tbody tr th:only-of-type {\n",
       "        vertical-align: middle;\n",
       "    }\n",
       "\n",
       "    .dataframe tbody tr th {\n",
       "        vertical-align: top;\n",
       "    }\n",
       "\n",
       "    .dataframe thead th {\n",
       "        text-align: right;\n",
       "    }\n",
       "</style>\n",
       "<table border=\"1\" class=\"dataframe\">\n",
       "  <thead>\n",
       "    <tr style=\"text-align: right;\">\n",
       "      <th></th>\n",
       "      <th>Вид образования</th>\n",
       "      <th>id</th>\n",
       "    </tr>\n",
       "  </thead>\n",
       "  <tbody>\n",
       "    <tr>\n",
       "      <th>0</th>\n",
       "      <td>2</td>\n",
       "      <td>ОРГ1-00131</td>\n",
       "    </tr>\n",
       "    <tr>\n",
       "      <th>1</th>\n",
       "      <td>15</td>\n",
       "      <td>ОРГ1-03220</td>\n",
       "    </tr>\n",
       "    <tr>\n",
       "      <th>2</th>\n",
       "      <td>1</td>\n",
       "      <td>ОРГ1-03008</td>\n",
       "    </tr>\n",
       "    <tr>\n",
       "      <th>3</th>\n",
       "      <td>2</td>\n",
       "      <td>ОРГ1-00922</td>\n",
       "    </tr>\n",
       "    <tr>\n",
       "      <th>4</th>\n",
       "      <td>1</td>\n",
       "      <td>ОРГ1-00922</td>\n",
       "    </tr>\n",
       "    <tr>\n",
       "      <th>...</th>\n",
       "      <td>...</td>\n",
       "      <td>...</td>\n",
       "    </tr>\n",
       "    <tr>\n",
       "      <th>5604</th>\n",
       "      <td>6</td>\n",
       "      <td>ОРГ2-08601</td>\n",
       "    </tr>\n",
       "    <tr>\n",
       "      <th>5605</th>\n",
       "      <td>6</td>\n",
       "      <td>ОРГ2-08622</td>\n",
       "    </tr>\n",
       "    <tr>\n",
       "      <th>5606</th>\n",
       "      <td>15</td>\n",
       "      <td>ОРГ2-04773</td>\n",
       "    </tr>\n",
       "    <tr>\n",
       "      <th>5607</th>\n",
       "      <td>3</td>\n",
       "      <td>ОРГ2-05048</td>\n",
       "    </tr>\n",
       "    <tr>\n",
       "      <th>5608</th>\n",
       "      <td>6</td>\n",
       "      <td>ОРГ2-02124</td>\n",
       "    </tr>\n",
       "  </tbody>\n",
       "</table>\n",
       "<p>5323 rows × 2 columns</p>\n",
       "</div>"
      ],
      "text/plain": [
       "      Вид образования          id\n",
       "0                   2  ОРГ1-00131\n",
       "1                  15  ОРГ1-03220\n",
       "2                   1  ОРГ1-03008\n",
       "3                   2  ОРГ1-00922\n",
       "4                   1  ОРГ1-00922\n",
       "...               ...         ...\n",
       "5604                6  ОРГ2-08601\n",
       "5605                6  ОРГ2-08622\n",
       "5606               15  ОРГ2-04773\n",
       "5607                3  ОРГ2-05048\n",
       "5608                6  ОРГ2-02124\n",
       "\n",
       "[5323 rows x 2 columns]"
      ]
     },
     "execution_count": 9,
     "metadata": {},
     "output_type": "execute_result"
    }
   ],
   "source": [
    "df_ed[\"Вид образования\"] = df_ed[\"Вид образования\"].astype('category')\n",
    "df_ed[\"Вид образования\"] = df_ed[\"Вид образования\"].cat.codes\n",
    "df_ed_pt = df_ed[['Вид образования','id']].drop_duplicates()\n",
    "df_ed_pt"
   ]
  },
  {
   "cell_type": "code",
   "execution_count": 10,
   "metadata": {
    "scrolled": false
   },
   "outputs": [
    {
     "data": {
      "text/html": [
       "<div>\n",
       "<style scoped>\n",
       "    .dataframe tbody tr th:only-of-type {\n",
       "        vertical-align: middle;\n",
       "    }\n",
       "\n",
       "    .dataframe tbody tr th {\n",
       "        vertical-align: top;\n",
       "    }\n",
       "\n",
       "    .dataframe thead th {\n",
       "        text-align: right;\n",
       "    }\n",
       "</style>\n",
       "<table border=\"1\" class=\"dataframe\">\n",
       "  <thead>\n",
       "    <tr style=\"text-align: right;\">\n",
       "      <th></th>\n",
       "      <th>Дата</th>\n",
       "      <th>Приход.1</th>\n",
       "      <th>Уход.1</th>\n",
       "      <th>Длительность общая</th>\n",
       "      <th>Длительность раб.дня без обеда</th>\n",
       "      <th>Вых/Будни</th>\n",
       "      <th>id</th>\n",
       "    </tr>\n",
       "  </thead>\n",
       "  <tbody>\n",
       "    <tr>\n",
       "      <th>0</th>\n",
       "      <td>2021-03-01 00:00:00,000</td>\n",
       "      <td>1899-12-30 08:11:00,000</td>\n",
       "      <td>1899-12-30 17:32:00,000</td>\n",
       "      <td>9,35</td>\n",
       "      <td>8,35</td>\n",
       "      <td>Будни</td>\n",
       "      <td>ОРГ1-00791</td>\n",
       "    </tr>\n",
       "    <tr>\n",
       "      <th>1</th>\n",
       "      <td>2021-03-01 00:00:00,000</td>\n",
       "      <td>1899-12-30 08:25:00,000</td>\n",
       "      <td>1899-12-30 17:32:00,000</td>\n",
       "      <td>9,1166666666666671</td>\n",
       "      <td>8,1166666666666671</td>\n",
       "      <td>Будни</td>\n",
       "      <td>ОРГ1-01826</td>\n",
       "    </tr>\n",
       "    <tr>\n",
       "      <th>2</th>\n",
       "      <td>2021-03-01 00:00:00,000</td>\n",
       "      <td>1899-12-30 08:31:00,000</td>\n",
       "      <td>1899-12-30 17:32:00,000</td>\n",
       "      <td>9,0166666666666657</td>\n",
       "      <td>8,0166666666666657</td>\n",
       "      <td>Будни</td>\n",
       "      <td>ОРГ1-00713</td>\n",
       "    </tr>\n",
       "    <tr>\n",
       "      <th>3</th>\n",
       "      <td>2021-03-01 00:00:00,000</td>\n",
       "      <td>1899-12-30 08:31:00,000</td>\n",
       "      <td>1899-12-30 17:32:00,000</td>\n",
       "      <td>9,0166666666666657</td>\n",
       "      <td>8,0166666666666657</td>\n",
       "      <td>Будни</td>\n",
       "      <td>ОРГ1-02127</td>\n",
       "    </tr>\n",
       "    <tr>\n",
       "      <th>4</th>\n",
       "      <td>2021-03-01 00:00:00,000</td>\n",
       "      <td>1899-12-30 08:19:00,000</td>\n",
       "      <td>1899-12-30 17:32:00,000</td>\n",
       "      <td>9,2166666666666668</td>\n",
       "      <td>8,2166666666666668</td>\n",
       "      <td>Будни</td>\n",
       "      <td>ОРГ1-01739</td>\n",
       "    </tr>\n",
       "  </tbody>\n",
       "</table>\n",
       "</div>"
      ],
      "text/plain": [
       "                      Дата                 Приход.1                   Уход.1  \\\n",
       "0  2021-03-01 00:00:00,000  1899-12-30 08:11:00,000  1899-12-30 17:32:00,000   \n",
       "1  2021-03-01 00:00:00,000  1899-12-30 08:25:00,000  1899-12-30 17:32:00,000   \n",
       "2  2021-03-01 00:00:00,000  1899-12-30 08:31:00,000  1899-12-30 17:32:00,000   \n",
       "3  2021-03-01 00:00:00,000  1899-12-30 08:31:00,000  1899-12-30 17:32:00,000   \n",
       "4  2021-03-01 00:00:00,000  1899-12-30 08:19:00,000  1899-12-30 17:32:00,000   \n",
       "\n",
       "   Длительность общая Длительность раб.дня без обеда Вых/Будни          id  \n",
       "0                9,35                           8,35     Будни  ОРГ1-00791  \n",
       "1  9,1166666666666671             8,1166666666666671     Будни  ОРГ1-01826  \n",
       "2  9,0166666666666657             8,0166666666666657     Будни  ОРГ1-00713  \n",
       "3  9,0166666666666657             8,0166666666666657     Будни  ОРГ1-02127  \n",
       "4  9,2166666666666668             8,2166666666666668     Будни  ОРГ1-01739  "
      ]
     },
     "execution_count": 10,
     "metadata": {},
     "output_type": "execute_result"
    }
   ],
   "source": [
    "df_skud.head()"
   ]
  },
  {
   "cell_type": "markdown",
   "metadata": {},
   "source": [
    "Выделим самый главный признак - длительность рабочего дня для сотрдуника(без учета обеда)"
   ]
  },
  {
   "cell_type": "code",
   "execution_count": 11,
   "metadata": {},
   "outputs": [],
   "source": [
    "\n",
    "df_skud['Длительность раб.дня без обеда'] = df_skud['Длительность раб.дня без обеда'].apply(lambda x: float(x.split()[0].replace(',','.')))\n",
    "df_skud_pt=df_skud[['Длительность раб.дня без обеда','id']].groupby('id').sum()\n"
   ]
  },
  {
   "cell_type": "code",
   "execution_count": 12,
   "metadata": {},
   "outputs": [
    {
     "data": {
      "text/html": [
       "<div>\n",
       "<style scoped>\n",
       "    .dataframe tbody tr th:only-of-type {\n",
       "        vertical-align: middle;\n",
       "    }\n",
       "\n",
       "    .dataframe tbody tr th {\n",
       "        vertical-align: top;\n",
       "    }\n",
       "\n",
       "    .dataframe thead th {\n",
       "        text-align: right;\n",
       "    }\n",
       "</style>\n",
       "<table border=\"1\" class=\"dataframe\">\n",
       "  <thead>\n",
       "    <tr style=\"text-align: right;\">\n",
       "      <th></th>\n",
       "      <th>id</th>\n",
       "      <th>Длительность раб.дня без обеда</th>\n",
       "    </tr>\n",
       "  </thead>\n",
       "  <tbody>\n",
       "    <tr>\n",
       "      <th>0</th>\n",
       "      <td>ОРГ1-00002</td>\n",
       "      <td>596.116667</td>\n",
       "    </tr>\n",
       "    <tr>\n",
       "      <th>1</th>\n",
       "      <td>ОРГ1-00004</td>\n",
       "      <td>269.316667</td>\n",
       "    </tr>\n",
       "    <tr>\n",
       "      <th>2</th>\n",
       "      <td>ОРГ1-00005</td>\n",
       "      <td>292.633333</td>\n",
       "    </tr>\n",
       "    <tr>\n",
       "      <th>3</th>\n",
       "      <td>ОРГ1-00008</td>\n",
       "      <td>70.000000</td>\n",
       "    </tr>\n",
       "    <tr>\n",
       "      <th>4</th>\n",
       "      <td>ОРГ1-00010</td>\n",
       "      <td>252.366667</td>\n",
       "    </tr>\n",
       "    <tr>\n",
       "      <th>...</th>\n",
       "      <td>...</td>\n",
       "      <td>...</td>\n",
       "    </tr>\n",
       "    <tr>\n",
       "      <th>860</th>\n",
       "      <td>ОРГ1-06173</td>\n",
       "      <td>199.300000</td>\n",
       "    </tr>\n",
       "    <tr>\n",
       "      <th>861</th>\n",
       "      <td>ОРГ1-06213</td>\n",
       "      <td>24.066667</td>\n",
       "    </tr>\n",
       "    <tr>\n",
       "      <th>862</th>\n",
       "      <td>ОРГ1-06217</td>\n",
       "      <td>178.800000</td>\n",
       "    </tr>\n",
       "    <tr>\n",
       "      <th>863</th>\n",
       "      <td>ОРГ1-06290</td>\n",
       "      <td>5.533333</td>\n",
       "    </tr>\n",
       "    <tr>\n",
       "      <th>864</th>\n",
       "      <td>ОРГ1-08590</td>\n",
       "      <td>67.816667</td>\n",
       "    </tr>\n",
       "  </tbody>\n",
       "</table>\n",
       "<p>865 rows × 2 columns</p>\n",
       "</div>"
      ],
      "text/plain": [
       "             id  Длительность раб.дня без обеда\n",
       "0    ОРГ1-00002                      596.116667\n",
       "1    ОРГ1-00004                      269.316667\n",
       "2    ОРГ1-00005                      292.633333\n",
       "3    ОРГ1-00008                       70.000000\n",
       "4    ОРГ1-00010                      252.366667\n",
       "..          ...                             ...\n",
       "860  ОРГ1-06173                      199.300000\n",
       "861  ОРГ1-06213                       24.066667\n",
       "862  ОРГ1-06217                      178.800000\n",
       "863  ОРГ1-06290                        5.533333\n",
       "864  ОРГ1-08590                       67.816667\n",
       "\n",
       "[865 rows x 2 columns]"
      ]
     },
     "execution_count": 12,
     "metadata": {},
     "output_type": "execute_result"
    }
   ],
   "source": [
    "df_skud_pt=df_skud_pt.reset_index()\n",
    "df_skud_pt"
   ]
  },
  {
   "cell_type": "code",
   "execution_count": 13,
   "metadata": {
    "scrolled": true
   },
   "outputs": [
    {
     "data": {
      "text/html": [
       "<div>\n",
       "<style scoped>\n",
       "    .dataframe tbody tr th:only-of-type {\n",
       "        vertical-align: middle;\n",
       "    }\n",
       "\n",
       "    .dataframe tbody tr th {\n",
       "        vertical-align: top;\n",
       "    }\n",
       "\n",
       "    .dataframe thead th {\n",
       "        text-align: right;\n",
       "    }\n",
       "</style>\n",
       "<table border=\"1\" class=\"dataframe\">\n",
       "  <thead>\n",
       "    <tr style=\"text-align: right;\">\n",
       "      <th></th>\n",
       "      <th>Статус по просрочке</th>\n",
       "      <th>Срок плановый</th>\n",
       "      <th>Просрочено, дней</th>\n",
       "      <th>ДлительностьПросрочки</th>\n",
       "      <th>ID задачи</th>\n",
       "      <th>Вид документа</th>\n",
       "      <th>Дата старта задания</th>\n",
       "      <th>Дата завершения задания плановая</th>\n",
       "      <th>Дата завершения задания фактическая</th>\n",
       "      <th>Состояние задания</th>\n",
       "      <th>id</th>\n",
       "    </tr>\n",
       "  </thead>\n",
       "  <tbody>\n",
       "    <tr>\n",
       "      <th>0</th>\n",
       "      <td>Без нарушения срока</td>\n",
       "      <td>NaN</td>\n",
       "      <td>0</td>\n",
       "      <td>без нарушения срока</td>\n",
       "      <td>E1DE844D-EE2D-4C41-AEDF-93F246749F0E</td>\n",
       "      <td>Служебная записка</td>\n",
       "      <td>2021-12-10 00:00:00,000</td>\n",
       "      <td>NaN</td>\n",
       "      <td>2021-12-10 00:00:00,000</td>\n",
       "      <td>Завершено</td>\n",
       "      <td>ОРГ1-02588</td>\n",
       "    </tr>\n",
       "    <tr>\n",
       "      <th>1</th>\n",
       "      <td>Без нарушения срока</td>\n",
       "      <td>NaN</td>\n",
       "      <td>0</td>\n",
       "      <td>без нарушения срока</td>\n",
       "      <td>7A92343C-8C9A-46E7-AC81-8F50F95009D0</td>\n",
       "      <td>Служебная записка</td>\n",
       "      <td>2021-12-10 00:00:00,000</td>\n",
       "      <td>NaN</td>\n",
       "      <td>2021-12-10 00:00:00,000</td>\n",
       "      <td>Завершено</td>\n",
       "      <td>ОРГ1-02588</td>\n",
       "    </tr>\n",
       "    <tr>\n",
       "      <th>2</th>\n",
       "      <td>Без нарушения срока</td>\n",
       "      <td>NaN</td>\n",
       "      <td>0</td>\n",
       "      <td>без нарушения срока</td>\n",
       "      <td>5CE64E52-D2D1-4DCC-B2C8-34734AA39AC0</td>\n",
       "      <td>Служебная записка</td>\n",
       "      <td>2021-12-10 00:00:00,000</td>\n",
       "      <td>NaN</td>\n",
       "      <td>2021-12-10 00:00:00,000</td>\n",
       "      <td>Завершено</td>\n",
       "      <td>ОРГ1-02588</td>\n",
       "    </tr>\n",
       "    <tr>\n",
       "      <th>3</th>\n",
       "      <td>Без нарушения срока</td>\n",
       "      <td>NaN</td>\n",
       "      <td>0</td>\n",
       "      <td>без нарушения срока</td>\n",
       "      <td>7A28F3DD-983F-4127-AB7F-6EDB85A69F1C</td>\n",
       "      <td>Служебная записка</td>\n",
       "      <td>2021-12-10 00:00:00,000</td>\n",
       "      <td>NaN</td>\n",
       "      <td>2021-12-10 00:00:00,000</td>\n",
       "      <td>Завершено</td>\n",
       "      <td>ОРГ1-02588</td>\n",
       "    </tr>\n",
       "    <tr>\n",
       "      <th>4</th>\n",
       "      <td>Без нарушения срока</td>\n",
       "      <td>NaN</td>\n",
       "      <td>0</td>\n",
       "      <td>без нарушения срока</td>\n",
       "      <td>ABFFAF61-12D8-44C2-B1F6-8402D174889E</td>\n",
       "      <td>Служебная записка</td>\n",
       "      <td>2021-12-10 00:00:00,000</td>\n",
       "      <td>NaN</td>\n",
       "      <td>2021-12-10 00:00:00,000</td>\n",
       "      <td>Завершено</td>\n",
       "      <td>ОРГ1-02588</td>\n",
       "    </tr>\n",
       "  </tbody>\n",
       "</table>\n",
       "</div>"
      ],
      "text/plain": [
       "   Статус по просрочке Срок плановый  Просрочено, дней ДлительностьПросрочки  \\\n",
       "0  Без нарушения срока           NaN                 0   без нарушения срока   \n",
       "1  Без нарушения срока           NaN                 0   без нарушения срока   \n",
       "2  Без нарушения срока           NaN                 0   без нарушения срока   \n",
       "3  Без нарушения срока           NaN                 0   без нарушения срока   \n",
       "4  Без нарушения срока           NaN                 0   без нарушения срока   \n",
       "\n",
       "                              ID задачи      Вид документа  \\\n",
       "0  E1DE844D-EE2D-4C41-AEDF-93F246749F0E  Служебная записка   \n",
       "1  7A92343C-8C9A-46E7-AC81-8F50F95009D0  Служебная записка   \n",
       "2  5CE64E52-D2D1-4DCC-B2C8-34734AA39AC0  Служебная записка   \n",
       "3  7A28F3DD-983F-4127-AB7F-6EDB85A69F1C  Служебная записка   \n",
       "4  ABFFAF61-12D8-44C2-B1F6-8402D174889E  Служебная записка   \n",
       "\n",
       "       Дата старта задания Дата завершения задания плановая  \\\n",
       "0  2021-12-10 00:00:00,000                              NaN   \n",
       "1  2021-12-10 00:00:00,000                              NaN   \n",
       "2  2021-12-10 00:00:00,000                              NaN   \n",
       "3  2021-12-10 00:00:00,000                              NaN   \n",
       "4  2021-12-10 00:00:00,000                              NaN   \n",
       "\n",
       "  Дата завершения задания фактическая Состояние задания          id  \n",
       "0             2021-12-10 00:00:00,000         Завершено  ОРГ1-02588  \n",
       "1             2021-12-10 00:00:00,000         Завершено  ОРГ1-02588  \n",
       "2             2021-12-10 00:00:00,000         Завершено  ОРГ1-02588  \n",
       "3             2021-12-10 00:00:00,000         Завершено  ОРГ1-02588  \n",
       "4             2021-12-10 00:00:00,000         Завершено  ОРГ1-02588  "
      ]
     },
     "execution_count": 13,
     "metadata": {},
     "output_type": "execute_result"
    }
   ],
   "source": [
    "df_tasks.head()"
   ]
  },
  {
   "cell_type": "markdown",
   "metadata": {},
   "source": [
    "ПРосчитаем сколько в среднем дней просрочки имеет сотрудник"
   ]
  },
  {
   "cell_type": "code",
   "execution_count": 14,
   "metadata": {},
   "outputs": [
    {
     "data": {
      "text/html": [
       "<div>\n",
       "<style scoped>\n",
       "    .dataframe tbody tr th:only-of-type {\n",
       "        vertical-align: middle;\n",
       "    }\n",
       "\n",
       "    .dataframe tbody tr th {\n",
       "        vertical-align: top;\n",
       "    }\n",
       "\n",
       "    .dataframe thead th {\n",
       "        text-align: right;\n",
       "    }\n",
       "</style>\n",
       "<table border=\"1\" class=\"dataframe\">\n",
       "  <thead>\n",
       "    <tr style=\"text-align: right;\">\n",
       "      <th></th>\n",
       "      <th>id</th>\n",
       "      <th>Просрочено, дней</th>\n",
       "    </tr>\n",
       "  </thead>\n",
       "  <tbody>\n",
       "    <tr>\n",
       "      <th>0</th>\n",
       "      <td>ОРГ1-00004</td>\n",
       "      <td>8857</td>\n",
       "    </tr>\n",
       "    <tr>\n",
       "      <th>1</th>\n",
       "      <td>ОРГ1-00005</td>\n",
       "      <td>1481</td>\n",
       "    </tr>\n",
       "    <tr>\n",
       "      <th>2</th>\n",
       "      <td>ОРГ1-00028</td>\n",
       "      <td>51</td>\n",
       "    </tr>\n",
       "    <tr>\n",
       "      <th>3</th>\n",
       "      <td>ОРГ1-00030</td>\n",
       "      <td>17</td>\n",
       "    </tr>\n",
       "    <tr>\n",
       "      <th>4</th>\n",
       "      <td>ОРГ1-00044</td>\n",
       "      <td>1748</td>\n",
       "    </tr>\n",
       "    <tr>\n",
       "      <th>...</th>\n",
       "      <td>...</td>\n",
       "      <td>...</td>\n",
       "    </tr>\n",
       "    <tr>\n",
       "      <th>1267</th>\n",
       "      <td>ОРГ2-06006</td>\n",
       "      <td>308</td>\n",
       "    </tr>\n",
       "    <tr>\n",
       "      <th>1268</th>\n",
       "      <td>ОРГ2-06061</td>\n",
       "      <td>79</td>\n",
       "    </tr>\n",
       "    <tr>\n",
       "      <th>1269</th>\n",
       "      <td>ОРГ2-06084</td>\n",
       "      <td>140</td>\n",
       "    </tr>\n",
       "    <tr>\n",
       "      <th>1270</th>\n",
       "      <td>ОРГ2-06115</td>\n",
       "      <td>416</td>\n",
       "    </tr>\n",
       "    <tr>\n",
       "      <th>1271</th>\n",
       "      <td>ОРГ2-06373</td>\n",
       "      <td>264</td>\n",
       "    </tr>\n",
       "  </tbody>\n",
       "</table>\n",
       "<p>1272 rows × 2 columns</p>\n",
       "</div>"
      ],
      "text/plain": [
       "              id  Просрочено, дней\n",
       "0     ОРГ1-00004              8857\n",
       "1     ОРГ1-00005              1481\n",
       "2     ОРГ1-00028                51\n",
       "3     ОРГ1-00030                17\n",
       "4     ОРГ1-00044              1748\n",
       "...          ...               ...\n",
       "1267  ОРГ2-06006               308\n",
       "1268  ОРГ2-06061                79\n",
       "1269  ОРГ2-06084               140\n",
       "1270  ОРГ2-06115               416\n",
       "1271  ОРГ2-06373               264\n",
       "\n",
       "[1272 rows x 2 columns]"
      ]
     },
     "metadata": {},
     "output_type": "display_data"
    },
    {
     "data": {
      "text/html": [
       "<div>\n",
       "<style scoped>\n",
       "    .dataframe tbody tr th:only-of-type {\n",
       "        vertical-align: middle;\n",
       "    }\n",
       "\n",
       "    .dataframe tbody tr th {\n",
       "        vertical-align: top;\n",
       "    }\n",
       "\n",
       "    .dataframe thead th {\n",
       "        text-align: right;\n",
       "    }\n",
       "</style>\n",
       "<table border=\"1\" class=\"dataframe\">\n",
       "  <thead>\n",
       "    <tr style=\"text-align: right;\">\n",
       "      <th></th>\n",
       "      <th>id</th>\n",
       "      <th>ID задачи</th>\n",
       "    </tr>\n",
       "  </thead>\n",
       "  <tbody>\n",
       "    <tr>\n",
       "      <th>0</th>\n",
       "      <td>ОРГ1-00004</td>\n",
       "      <td>1146</td>\n",
       "    </tr>\n",
       "    <tr>\n",
       "      <th>1</th>\n",
       "      <td>ОРГ1-00005</td>\n",
       "      <td>2219</td>\n",
       "    </tr>\n",
       "    <tr>\n",
       "      <th>2</th>\n",
       "      <td>ОРГ1-00028</td>\n",
       "      <td>244</td>\n",
       "    </tr>\n",
       "    <tr>\n",
       "      <th>3</th>\n",
       "      <td>ОРГ1-00030</td>\n",
       "      <td>36</td>\n",
       "    </tr>\n",
       "    <tr>\n",
       "      <th>4</th>\n",
       "      <td>ОРГ1-00044</td>\n",
       "      <td>314</td>\n",
       "    </tr>\n",
       "    <tr>\n",
       "      <th>...</th>\n",
       "      <td>...</td>\n",
       "      <td>...</td>\n",
       "    </tr>\n",
       "    <tr>\n",
       "      <th>1267</th>\n",
       "      <td>ОРГ2-06006</td>\n",
       "      <td>395</td>\n",
       "    </tr>\n",
       "    <tr>\n",
       "      <th>1268</th>\n",
       "      <td>ОРГ2-06061</td>\n",
       "      <td>108</td>\n",
       "    </tr>\n",
       "    <tr>\n",
       "      <th>1269</th>\n",
       "      <td>ОРГ2-06084</td>\n",
       "      <td>28</td>\n",
       "    </tr>\n",
       "    <tr>\n",
       "      <th>1270</th>\n",
       "      <td>ОРГ2-06115</td>\n",
       "      <td>6</td>\n",
       "    </tr>\n",
       "    <tr>\n",
       "      <th>1271</th>\n",
       "      <td>ОРГ2-06373</td>\n",
       "      <td>135</td>\n",
       "    </tr>\n",
       "  </tbody>\n",
       "</table>\n",
       "<p>1272 rows × 2 columns</p>\n",
       "</div>"
      ],
      "text/plain": [
       "              id  ID задачи\n",
       "0     ОРГ1-00004       1146\n",
       "1     ОРГ1-00005       2219\n",
       "2     ОРГ1-00028        244\n",
       "3     ОРГ1-00030         36\n",
       "4     ОРГ1-00044        314\n",
       "...          ...        ...\n",
       "1267  ОРГ2-06006        395\n",
       "1268  ОРГ2-06061        108\n",
       "1269  ОРГ2-06084         28\n",
       "1270  ОРГ2-06115          6\n",
       "1271  ОРГ2-06373        135\n",
       "\n",
       "[1272 rows x 2 columns]"
      ]
     },
     "metadata": {},
     "output_type": "display_data"
    }
   ],
   "source": [
    "df_tasks_pt_1 = df_tasks[['Просрочено, дней','ID задачи','id']].groupby('id').sum()\n",
    "df_tasks_pt_1 = df_tasks_pt_1.reset_index()\n",
    "display(df_tasks_pt_1)\n",
    "df_tasks_pt_2 = df_tasks[['ID задачи','id']].groupby('id').count()\n",
    "df_tasks_pt_2 = df_tasks_pt_2.reset_index()\n",
    "display(df_tasks_pt_2)\n"
   ]
  },
  {
   "cell_type": "code",
   "execution_count": 15,
   "metadata": {},
   "outputs": [
    {
     "data": {
      "text/html": [
       "<div>\n",
       "<style scoped>\n",
       "    .dataframe tbody tr th:only-of-type {\n",
       "        vertical-align: middle;\n",
       "    }\n",
       "\n",
       "    .dataframe tbody tr th {\n",
       "        vertical-align: top;\n",
       "    }\n",
       "\n",
       "    .dataframe thead th {\n",
       "        text-align: right;\n",
       "    }\n",
       "</style>\n",
       "<table border=\"1\" class=\"dataframe\">\n",
       "  <thead>\n",
       "    <tr style=\"text-align: right;\">\n",
       "      <th></th>\n",
       "      <th>id</th>\n",
       "      <th>avg</th>\n",
       "    </tr>\n",
       "  </thead>\n",
       "  <tbody>\n",
       "    <tr>\n",
       "      <th>0</th>\n",
       "      <td>ОРГ1-00004</td>\n",
       "      <td>7.728621</td>\n",
       "    </tr>\n",
       "    <tr>\n",
       "      <th>1</th>\n",
       "      <td>ОРГ1-00005</td>\n",
       "      <td>0.667418</td>\n",
       "    </tr>\n",
       "    <tr>\n",
       "      <th>2</th>\n",
       "      <td>ОРГ1-00028</td>\n",
       "      <td>0.209016</td>\n",
       "    </tr>\n",
       "    <tr>\n",
       "      <th>3</th>\n",
       "      <td>ОРГ1-00030</td>\n",
       "      <td>0.472222</td>\n",
       "    </tr>\n",
       "    <tr>\n",
       "      <th>4</th>\n",
       "      <td>ОРГ1-00044</td>\n",
       "      <td>5.566879</td>\n",
       "    </tr>\n",
       "    <tr>\n",
       "      <th>...</th>\n",
       "      <td>...</td>\n",
       "      <td>...</td>\n",
       "    </tr>\n",
       "    <tr>\n",
       "      <th>1267</th>\n",
       "      <td>ОРГ2-06006</td>\n",
       "      <td>0.779747</td>\n",
       "    </tr>\n",
       "    <tr>\n",
       "      <th>1268</th>\n",
       "      <td>ОРГ2-06061</td>\n",
       "      <td>0.731481</td>\n",
       "    </tr>\n",
       "    <tr>\n",
       "      <th>1269</th>\n",
       "      <td>ОРГ2-06084</td>\n",
       "      <td>5.000000</td>\n",
       "    </tr>\n",
       "    <tr>\n",
       "      <th>1270</th>\n",
       "      <td>ОРГ2-06115</td>\n",
       "      <td>69.333333</td>\n",
       "    </tr>\n",
       "    <tr>\n",
       "      <th>1271</th>\n",
       "      <td>ОРГ2-06373</td>\n",
       "      <td>1.955556</td>\n",
       "    </tr>\n",
       "  </tbody>\n",
       "</table>\n",
       "<p>1272 rows × 2 columns</p>\n",
       "</div>"
      ],
      "text/plain": [
       "              id        avg\n",
       "0     ОРГ1-00004   7.728621\n",
       "1     ОРГ1-00005   0.667418\n",
       "2     ОРГ1-00028   0.209016\n",
       "3     ОРГ1-00030   0.472222\n",
       "4     ОРГ1-00044   5.566879\n",
       "...          ...        ...\n",
       "1267  ОРГ2-06006   0.779747\n",
       "1268  ОРГ2-06061   0.731481\n",
       "1269  ОРГ2-06084   5.000000\n",
       "1270  ОРГ2-06115  69.333333\n",
       "1271  ОРГ2-06373   1.955556\n",
       "\n",
       "[1272 rows x 2 columns]"
      ]
     },
     "execution_count": 15,
     "metadata": {},
     "output_type": "execute_result"
    }
   ],
   "source": [
    "df_tasks_pt_3 = pd.merge(df_tasks_pt_2, df_tasks_pt_1, on=\"id\", how='left')\n",
    "df_tasks_pt_3['avg']= df_tasks_pt_3['Просрочено, дней']/ df_tasks_pt_3['ID задачи']\n",
    "df_tasks_pt_3=df_tasks_pt_3[['id','avg']]\n",
    "df_tasks_pt_3"
   ]
  },
  {
   "cell_type": "code",
   "execution_count": 16,
   "metadata": {
    "colab": {
     "base_uri": "https://localhost:8080/",
     "height": 143
    },
    "id": "jE8r6sYMUB6w",
    "outputId": "6b7928e1-46ea-4eda-8206-9cc805838468"
   },
   "outputs": [
    {
     "data": {
      "text/html": [
       "<div>\n",
       "<style scoped>\n",
       "    .dataframe tbody tr th:only-of-type {\n",
       "        vertical-align: middle;\n",
       "    }\n",
       "\n",
       "    .dataframe tbody tr th {\n",
       "        vertical-align: top;\n",
       "    }\n",
       "\n",
       "    .dataframe thead th {\n",
       "        text-align: right;\n",
       "    }\n",
       "</style>\n",
       "<table border=\"1\" class=\"dataframe\">\n",
       "  <thead>\n",
       "    <tr style=\"text-align: right;\">\n",
       "      <th></th>\n",
       "      <th>id</th>\n",
       "      <th>type</th>\n",
       "    </tr>\n",
       "  </thead>\n",
       "  <tbody>\n",
       "    <tr>\n",
       "      <th>0</th>\n",
       "      <td>ОРГ1-02050</td>\n",
       "      <td>2</td>\n",
       "    </tr>\n",
       "    <tr>\n",
       "      <th>1</th>\n",
       "      <td>ОРГ1-02783</td>\n",
       "      <td>2</td>\n",
       "    </tr>\n",
       "    <tr>\n",
       "      <th>2</th>\n",
       "      <td>ОРГ2-06173</td>\n",
       "      <td>0</td>\n",
       "    </tr>\n",
       "  </tbody>\n",
       "</table>\n",
       "</div>"
      ],
      "text/plain": [
       "           id  type\n",
       "0  ОРГ1-02050     2\n",
       "1  ОРГ1-02783     2\n",
       "2  ОРГ2-06173     0"
      ]
     },
     "execution_count": 16,
     "metadata": {},
     "output_type": "execute_result"
    }
   ],
   "source": [
    "df_train.head(3)"
   ]
  },
  {
   "cell_type": "code",
   "execution_count": 17,
   "metadata": {
    "colab": {
     "base_uri": "https://localhost:8080/",
     "height": 143
    },
    "id": "x3A7-Jdcp-LQ",
    "outputId": "d51b9f47-dd1f-444a-e965-6bb550cc6914",
    "scrolled": false
   },
   "outputs": [
    {
     "data": {
      "text/html": [
       "<div>\n",
       "<style scoped>\n",
       "    .dataframe tbody tr th:only-of-type {\n",
       "        vertical-align: middle;\n",
       "    }\n",
       "\n",
       "    .dataframe tbody tr th {\n",
       "        vertical-align: top;\n",
       "    }\n",
       "\n",
       "    .dataframe thead th {\n",
       "        text-align: right;\n",
       "    }\n",
       "</style>\n",
       "<table border=\"1\" class=\"dataframe\">\n",
       "  <thead>\n",
       "    <tr style=\"text-align: right;\">\n",
       "      <th></th>\n",
       "      <th>id</th>\n",
       "      <th>type</th>\n",
       "    </tr>\n",
       "  </thead>\n",
       "  <tbody>\n",
       "    <tr>\n",
       "      <th>0</th>\n",
       "      <td>ОРГ1-02649</td>\n",
       "      <td>0</td>\n",
       "    </tr>\n",
       "    <tr>\n",
       "      <th>1</th>\n",
       "      <td>ОРГ2-05929</td>\n",
       "      <td>0</td>\n",
       "    </tr>\n",
       "    <tr>\n",
       "      <th>2</th>\n",
       "      <td>ОРГ2-05859</td>\n",
       "      <td>0</td>\n",
       "    </tr>\n",
       "  </tbody>\n",
       "</table>\n",
       "</div>"
      ],
      "text/plain": [
       "           id  type\n",
       "0  ОРГ1-02649     0\n",
       "1  ОРГ2-05929     0\n",
       "2  ОРГ2-05859     0"
      ]
     },
     "execution_count": 17,
     "metadata": {},
     "output_type": "execute_result"
    }
   ],
   "source": [
    "df_test.head(3)"
   ]
  },
  {
   "cell_type": "markdown",
   "metadata": {},
   "source": [
    "**Вывод:**\n",
    "\n",
    "Осмотрели основные данные о сотрудников из разных датасетов. Отобрав основные признаки, которые должны влиять на дальнейшие карьерные перспективы и траекторию сотрудников. К ним относятся: \n",
    "\n",
    "* Количество опозданий\n",
    "* Количество звонков\n",
    "* Тип образования\n",
    "* Длительность рабочего дня (без учета обеда)\n",
    "* Среднее количество дней просрочки задач\n",
    "\n",
    "В дальнейшим объединим эти признаки в один датасет"
   ]
  },
  {
   "cell_type": "markdown",
   "metadata": {
    "id": "ws9AgKjiA7Jd"
   },
   "source": [
    "### Видоизмение данных"
   ]
  },
  {
   "cell_type": "code",
   "execution_count": 18,
   "metadata": {},
   "outputs": [
    {
     "name": "stdout",
     "output_type": "stream",
     "text": [
      "<class 'pandas.core.frame.DataFrame'>\n",
      "RangeIndex: 550 entries, 0 to 549\n",
      "Data columns (total 2 columns):\n",
      " #   Column  Non-Null Count  Dtype \n",
      "---  ------  --------------  ----- \n",
      " 0   id      550 non-null    object\n",
      " 1   type    550 non-null    int64 \n",
      "dtypes: int64(1), object(1)\n",
      "memory usage: 8.7+ KB\n"
     ]
    }
   ],
   "source": [
    "df_train.info()"
   ]
  },
  {
   "cell_type": "markdown",
   "metadata": {
    "id": "96OuAK1rBBTK"
   },
   "source": [
    "Обьединим наборы с данными"
   ]
  },
  {
   "cell_type": "code",
   "execution_count": 19,
   "metadata": {
    "colab": {
     "base_uri": "https://localhost:8080/",
     "height": 143
    },
    "id": "SsXefQu_558z",
    "outputId": "56542eec-bfc1-451f-fdc8-0bb241cb371f"
   },
   "outputs": [],
   "source": [
    "df_train = pd.merge(df_train, df_connection_time_pt, on=\"id\", how='left').drop_duplicates(subset=\"id\")\n",
    "df_train = pd.merge(df_train, df_calls_pt, on=\"id\", how='left').drop_duplicates(subset=\"id\")\n",
    "df_train = pd.merge(df_train, df_ed_pt, on=\"id\", how='left').drop_duplicates(subset=\"id\")\n",
    "df_train = pd.merge(df_train, df_skud_pt, on=\"id\", how='left').drop_duplicates(subset=\"id\")\n",
    "df_train = pd.merge(df_train, df_tasks_pt_3, on=\"id\", how='left').drop_duplicates(subset=\"id\")\n",
    "df_train=df_train.fillna(0)\n"
   ]
  },
  {
   "cell_type": "code",
   "execution_count": 20,
   "metadata": {},
   "outputs": [
    {
     "data": {
      "text/html": [
       "<div>\n",
       "<style scoped>\n",
       "    .dataframe tbody tr th:only-of-type {\n",
       "        vertical-align: middle;\n",
       "    }\n",
       "\n",
       "    .dataframe tbody tr th {\n",
       "        vertical-align: top;\n",
       "    }\n",
       "\n",
       "    .dataframe thead th {\n",
       "        text-align: right;\n",
       "    }\n",
       "</style>\n",
       "<table border=\"1\" class=\"dataframe\">\n",
       "  <thead>\n",
       "    <tr style=\"text-align: right;\">\n",
       "      <th></th>\n",
       "      <th>id</th>\n",
       "      <th>type</th>\n",
       "      <th>Признак опоздания</th>\n",
       "      <th>NumberOfCalls</th>\n",
       "      <th>Вид образования</th>\n",
       "      <th>Длительность раб.дня без обеда</th>\n",
       "      <th>avg</th>\n",
       "    </tr>\n",
       "  </thead>\n",
       "  <tbody>\n",
       "    <tr>\n",
       "      <th>0</th>\n",
       "      <td>ОРГ1-02050</td>\n",
       "      <td>2</td>\n",
       "      <td>5.0</td>\n",
       "      <td>546.0</td>\n",
       "      <td>7.0</td>\n",
       "      <td>259.683333</td>\n",
       "      <td>0.000000</td>\n",
       "    </tr>\n",
       "    <tr>\n",
       "      <th>1</th>\n",
       "      <td>ОРГ1-02783</td>\n",
       "      <td>2</td>\n",
       "      <td>7.0</td>\n",
       "      <td>1902.0</td>\n",
       "      <td>1.0</td>\n",
       "      <td>0.000000</td>\n",
       "      <td>2.813725</td>\n",
       "    </tr>\n",
       "    <tr>\n",
       "      <th>2</th>\n",
       "      <td>ОРГ2-06173</td>\n",
       "      <td>0</td>\n",
       "      <td>22.0</td>\n",
       "      <td>0.0</td>\n",
       "      <td>1.0</td>\n",
       "      <td>0.000000</td>\n",
       "      <td>0.000000</td>\n",
       "    </tr>\n",
       "    <tr>\n",
       "      <th>3</th>\n",
       "      <td>ОРГ2-05359</td>\n",
       "      <td>2</td>\n",
       "      <td>6.0</td>\n",
       "      <td>0.0</td>\n",
       "      <td>15.0</td>\n",
       "      <td>0.000000</td>\n",
       "      <td>0.000000</td>\n",
       "    </tr>\n",
       "    <tr>\n",
       "      <th>4</th>\n",
       "      <td>ОРГ1-00803</td>\n",
       "      <td>2</td>\n",
       "      <td>35.0</td>\n",
       "      <td>7.0</td>\n",
       "      <td>1.0</td>\n",
       "      <td>0.000000</td>\n",
       "      <td>12.350000</td>\n",
       "    </tr>\n",
       "    <tr>\n",
       "      <th>...</th>\n",
       "      <td>...</td>\n",
       "      <td>...</td>\n",
       "      <td>...</td>\n",
       "      <td>...</td>\n",
       "      <td>...</td>\n",
       "      <td>...</td>\n",
       "      <td>...</td>\n",
       "    </tr>\n",
       "    <tr>\n",
       "      <th>545</th>\n",
       "      <td>ОРГ1-02587</td>\n",
       "      <td>2</td>\n",
       "      <td>0.0</td>\n",
       "      <td>0.0</td>\n",
       "      <td>0.0</td>\n",
       "      <td>0.000000</td>\n",
       "      <td>26.302158</td>\n",
       "    </tr>\n",
       "    <tr>\n",
       "      <th>546</th>\n",
       "      <td>ОРГ1-02383</td>\n",
       "      <td>2</td>\n",
       "      <td>54.0</td>\n",
       "      <td>4570.0</td>\n",
       "      <td>1.0</td>\n",
       "      <td>49.283333</td>\n",
       "      <td>116.180952</td>\n",
       "    </tr>\n",
       "    <tr>\n",
       "      <th>547</th>\n",
       "      <td>ОРГ1-02862</td>\n",
       "      <td>2</td>\n",
       "      <td>0.0</td>\n",
       "      <td>0.0</td>\n",
       "      <td>0.0</td>\n",
       "      <td>0.000000</td>\n",
       "      <td>0.000000</td>\n",
       "    </tr>\n",
       "    <tr>\n",
       "      <th>548</th>\n",
       "      <td>ОРГ1-00471</td>\n",
       "      <td>2</td>\n",
       "      <td>12.0</td>\n",
       "      <td>3917.0</td>\n",
       "      <td>-1.0</td>\n",
       "      <td>0.000000</td>\n",
       "      <td>1.606061</td>\n",
       "    </tr>\n",
       "    <tr>\n",
       "      <th>549</th>\n",
       "      <td>ОРГ2-02694</td>\n",
       "      <td>2</td>\n",
       "      <td>0.0</td>\n",
       "      <td>3.0</td>\n",
       "      <td>0.0</td>\n",
       "      <td>0.000000</td>\n",
       "      <td>1.029143</td>\n",
       "    </tr>\n",
       "  </tbody>\n",
       "</table>\n",
       "<p>550 rows × 7 columns</p>\n",
       "</div>"
      ],
      "text/plain": [
       "             id  type  Признак опоздания  NumberOfCalls  Вид образования  \\\n",
       "0    ОРГ1-02050     2                5.0          546.0              7.0   \n",
       "1    ОРГ1-02783     2                7.0         1902.0              1.0   \n",
       "2    ОРГ2-06173     0               22.0            0.0              1.0   \n",
       "3    ОРГ2-05359     2                6.0            0.0             15.0   \n",
       "4    ОРГ1-00803     2               35.0            7.0              1.0   \n",
       "..          ...   ...                ...            ...              ...   \n",
       "545  ОРГ1-02587     2                0.0            0.0              0.0   \n",
       "546  ОРГ1-02383     2               54.0         4570.0              1.0   \n",
       "547  ОРГ1-02862     2                0.0            0.0              0.0   \n",
       "548  ОРГ1-00471     2               12.0         3917.0             -1.0   \n",
       "549  ОРГ2-02694     2                0.0            3.0              0.0   \n",
       "\n",
       "     Длительность раб.дня без обеда         avg  \n",
       "0                        259.683333    0.000000  \n",
       "1                          0.000000    2.813725  \n",
       "2                          0.000000    0.000000  \n",
       "3                          0.000000    0.000000  \n",
       "4                          0.000000   12.350000  \n",
       "..                              ...         ...  \n",
       "545                        0.000000   26.302158  \n",
       "546                       49.283333  116.180952  \n",
       "547                        0.000000    0.000000  \n",
       "548                        0.000000    1.606061  \n",
       "549                        0.000000    1.029143  \n",
       "\n",
       "[550 rows x 7 columns]"
      ]
     },
     "execution_count": 20,
     "metadata": {},
     "output_type": "execute_result"
    }
   ],
   "source": [
    "df_train"
   ]
  },
  {
   "cell_type": "code",
   "execution_count": 21,
   "metadata": {
    "colab": {
     "base_uri": "https://localhost:8080/"
    },
    "id": "xXiblk7K6qPy",
    "outputId": "572bc872-6420-40ad-dcac-b7e16c4a37f4"
   },
   "outputs": [
    {
     "name": "stdout",
     "output_type": "stream",
     "text": [
      "<class 'pandas.core.frame.DataFrame'>\n",
      "Int64Index: 550 entries, 0 to 549\n",
      "Data columns (total 7 columns):\n",
      " #   Column                          Non-Null Count  Dtype  \n",
      "---  ------                          --------------  -----  \n",
      " 0   id                              550 non-null    object \n",
      " 1   type                            550 non-null    int64  \n",
      " 2   Признак опоздания               550 non-null    float64\n",
      " 3   NumberOfCalls                   550 non-null    float64\n",
      " 4   Вид образования                 550 non-null    float64\n",
      " 5   Длительность раб.дня без обеда  550 non-null    float64\n",
      " 6   avg                             550 non-null    float64\n",
      "dtypes: float64(5), int64(1), object(1)\n",
      "memory usage: 34.4+ KB\n"
     ]
    }
   ],
   "source": [
    "df_train.info()"
   ]
  },
  {
   "cell_type": "markdown",
   "metadata": {
    "id": "JfDtpoZoeE47"
   },
   "source": [
    "Данные не потеряли, призаки добавили, оценим корреляцию"
   ]
  },
  {
   "cell_type": "code",
   "execution_count": 22,
   "metadata": {
    "colab": {
     "base_uri": "https://localhost:8080/",
     "height": 850
    },
    "id": "TwtfWDihUyvT",
    "outputId": "5aa11c1e-fe0d-40cf-e368-8aa5fcecdc21",
    "scrolled": true
   },
   "outputs": [
    {
     "data": {
      "image/png": "[encoded data removed]",
      "text/plain": [
       "<Figure size 1080x1080 with 2 Axes>"
      ]
     },
     "metadata": {
      "needs_background": "light"
     },
     "output_type": "display_data"
    }
   ],
   "source": [
    "plt.rcParams['figure.figsize']=(15,15)\n",
    "\n",
    "corr = df_train.corr()\n",
    "g = sns.heatmap(corr, square = True, annot=True)"
   ]
  },
  {
   "cell_type": "markdown",
   "metadata": {},
   "source": [
    "Приступим к обучению моделей и прогнозированию карьерного трека сотрудника"
   ]
  },
  {
   "cell_type": "markdown",
   "metadata": {
    "id": "870l_9AGdTvF"
   },
   "source": [
    "## Выделим выборки"
   ]
  },
  {
   "cell_type": "markdown",
   "metadata": {},
   "source": [
    "Выделим выборки и разобьем их на обучающие и тестовую выборку. "
   ]
  },
  {
   "cell_type": "code",
   "execution_count": 23,
   "metadata": {
    "id": "R4fN_sD-dGSG"
   },
   "outputs": [],
   "source": [
    "x = df_train.drop([\"id\", \"type\"], axis = 1)\n",
    "y = df_train[[\"type\"]]"
   ]
  },
  {
   "cell_type": "code",
   "execution_count": 24,
   "metadata": {
    "colab": {
     "base_uri": "https://localhost:8080/"
    },
    "id": "Xbgef81UdZJL",
    "outputId": "9f140bbe-589d-49c2-b1ee-b42de7a2f270"
   },
   "outputs": [
    {
     "name": "stdout",
     "output_type": "stream",
     "text": [
      "<class 'pandas.core.frame.DataFrame'>\n",
      "Int64Index: 550 entries, 0 to 549\n",
      "Data columns (total 5 columns):\n",
      " #   Column                          Non-Null Count  Dtype  \n",
      "---  ------                          --------------  -----  \n",
      " 0   Признак опоздания               550 non-null    float64\n",
      " 1   NumberOfCalls                   550 non-null    float64\n",
      " 2   Вид образования                 550 non-null    float64\n",
      " 3   Длительность раб.дня без обеда  550 non-null    float64\n",
      " 4   avg                             550 non-null    float64\n",
      "dtypes: float64(5)\n",
      "memory usage: 25.8 KB\n"
     ]
    }
   ],
   "source": [
    "x.info()"
   ]
  },
  {
   "cell_type": "code",
   "execution_count": 25,
   "metadata": {
    "id": "_e7ZJ3QjdZLW"
   },
   "outputs": [],
   "source": [
    "x_train, x_test, y_train, y_test = train_test_split(x, y, test_size=0.3, random_state=42)"
   ]
  },
  {
   "cell_type": "markdown",
   "metadata": {
    "id": "wWOMlu5megED"
   },
   "source": [
    "## Обучение модели"
   ]
  },
  {
   "cell_type": "markdown",
   "metadata": {},
   "source": [
    "Обучим три модели:\n",
    "1 - Случайный лес со случайным подбором гипперпарамметров\n",
    "\n",
    "2 - Логистическую регрессию\n",
    "\n",
    "3 - Случайный лес с подбором гипперпараметров в цикле с учетом максимизации **RECALL**\n",
    "\n",
    "Во всем моделях будем использовать балансировку классов-так как итоговая метрика несбалансирована по классам"
   ]
  },
  {
   "cell_type": "code",
   "execution_count": 26,
   "metadata": {},
   "outputs": [],
   "source": [
    "rfc_1 = RandomForestClassifier()"
   ]
  },
  {
   "cell_type": "code",
   "execution_count": 27,
   "metadata": {},
   "outputs": [
    {
     "name": "stdout",
     "output_type": "stream",
     "text": [
      "Fitting 3 folds for each of 100 candidates, totalling 300 fits\n"
     ]
    },
    {
     "data": {
      "text/plain": [
       "{'n_estimators': 500,\n",
       " 'min_samples_split': 12,\n",
       " 'min_samples_leaf': 18,\n",
       " 'max_features': 'sqrt',\n",
       " 'max_depth': 13,\n",
       " 'bootstrap': False}"
      ]
     },
     "execution_count": 27,
     "metadata": {},
     "output_type": "execute_result"
    }
   ],
   "source": [
    "n_estimators = [int(x) for x in np.linspace(start = 100, stop = 1000, num = 10)]\n",
    "max_features = ['log2', 'sqrt']\n",
    "max_depth = [int(x) for x in np.linspace(start = 1, stop = 15, num = 15)]\n",
    "min_samples_split = [int(x) for x in np.linspace(start = 2, stop = 50, num = 10)]\n",
    "min_samples_leaf = [int(x) for x in np.linspace(start = 2, stop = 50, num = 10)]\n",
    "bootstrap = [True, False]\n",
    "param_dist = {'n_estimators': n_estimators,\n",
    "               'max_features': max_features,\n",
    "               'max_depth': max_depth,\n",
    "               'min_samples_split': min_samples_split,\n",
    "               'min_samples_leaf': min_samples_leaf,\n",
    "               'bootstrap': bootstrap}\n",
    "rs = RandomizedSearchCV(rfc_1, \n",
    "                        param_dist, \n",
    "                        n_iter = 100, \n",
    "                        cv = 3, \n",
    "                        verbose = 1, \n",
    "                        n_jobs=-1, \n",
    "                        random_state=0)\n",
    "rs.fit(x_train, y_train)\n",
    "rs.best_params_"
   ]
  },
  {
   "cell_type": "code",
   "execution_count": 28,
   "metadata": {},
   "outputs": [],
   "source": [
    "rfc_1 = RandomForestClassifier(n_estimators =  500, min_samples_split = 39, min_samples_leaf = 18,max_features ='sqrt' ,max_depth = 11,bootstrap = False,class_weight='balanced')"
   ]
  },
  {
   "cell_type": "code",
   "execution_count": 29,
   "metadata": {},
   "outputs": [
    {
     "data": {
      "text/plain": [
       "'Recall:'"
      ]
     },
     "metadata": {},
     "output_type": "display_data"
    },
    {
     "data": {
      "text/plain": [
       "0.3308010335917313"
      ]
     },
     "metadata": {},
     "output_type": "display_data"
    }
   ],
   "source": [
    "rfc_1.fit(x_train, y_train)\n",
    "predicted_rfc_1 = rfc_1.predict(x_test)\n",
    "display(\"Recall:\", recall_score(y_test, predicted_rfc_1,average='macro', zero_division = 0))"
   ]
  },
  {
   "cell_type": "code",
   "execution_count": 30,
   "metadata": {
    "scrolled": true
   },
   "outputs": [
    {
     "data": {
      "text/plain": [
       "'Recall:'"
      ]
     },
     "metadata": {},
     "output_type": "display_data"
    },
    {
     "data": {
      "text/plain": [
       "0.3360335917312662"
      ]
     },
     "metadata": {},
     "output_type": "display_data"
    }
   ],
   "source": [
    "model = LogisticRegression(random_state=12345, solver='liblinear', class_weight='balanced')\n",
    "model.fit(x_train,y_train)\n",
    "predicted_valid = model.predict(x_test)\n",
    "display(\"Recall:\", recall_score(y_test, predicted_valid,average='macro', zero_division = 0))"
   ]
  },
  {
   "cell_type": "code",
   "execution_count": 31,
   "metadata": {
    "scrolled": true
   },
   "outputs": [
    {
     "data": {
      "text/plain": [
       "'Recall :'"
      ]
     },
     "metadata": {},
     "output_type": "display_data"
    },
    {
     "data": {
      "text/plain": [
       "0.43290697674418605"
      ]
     },
     "metadata": {},
     "output_type": "display_data"
    },
    {
     "data": {
      "text/plain": [
       "'Наилучшее количество деревьев в модели :'"
      ]
     },
     "metadata": {},
     "output_type": "display_data"
    },
    {
     "data": {
      "text/plain": [
       "23"
      ]
     },
     "metadata": {},
     "output_type": "display_data"
    },
    {
     "data": {
      "text/plain": [
       "'Наилучшая максимальной глубина:'"
      ]
     },
     "metadata": {},
     "output_type": "display_data"
    },
    {
     "data": {
      "text/plain": [
       "1"
      ]
     },
     "metadata": {},
     "output_type": "display_data"
    },
    {
     "data": {
      "text/plain": [
       "RandomForestClassifier(class_weight='balanced', max_depth=1, n_estimators=23,\n",
       "                       n_jobs=-1, random_state=12345)"
      ]
     },
     "metadata": {},
     "output_type": "display_data"
    }
   ],
   "source": [
    "\n",
    "best_model = None\n",
    "best_recall = 0\n",
    "best_est = 0\n",
    "best_depth = 0\n",
    "\n",
    "\n",
    "\n",
    "for est in range(1, 60):\n",
    "    for depth in range (1, 60):\n",
    "        model = RandomForestClassifier(random_state=12345, n_estimators= est,max_depth=depth,class_weight='balanced',n_jobs=-1)\n",
    "        model.fit(x_train,y_train)\n",
    "        predicted_valid = model.predict(x_test)\n",
    "        recall = recall_score(y_test, predicted_valid,average='macro', zero_division = 0) \n",
    "        if recall > best_recall:\n",
    "            best_model = model\n",
    "            best_recall = recall\n",
    "            best_est = est \n",
    "            best_depth = depth\n",
    "                \n",
    "\n",
    "                \n",
    "\n",
    "                \n",
    "display(\"Recall :\", best_recall)\n",
    "display(\"Наилучшее количество деревьев в модели :\", best_est)\n",
    "display(\"Наилучшая максимальной глубина:\", best_depth)\n",
    "\n",
    "\n",
    "\n",
    "display(best_model)"
   ]
  },
  {
   "cell_type": "code",
   "execution_count": 32,
   "metadata": {},
   "outputs": [],
   "source": [
    "best_model = RandomForestClassifier(random_state=12345, n_estimators= 23,max_depth=1,class_weight='balanced',n_jobs=-1)"
   ]
  },
  {
   "cell_type": "code",
   "execution_count": 33,
   "metadata": {},
   "outputs": [
    {
     "data": {
      "text/plain": [
       "RandomForestClassifier(class_weight='balanced', max_depth=1, n_estimators=23,\n",
       "                       n_jobs=-1, random_state=12345)"
      ]
     },
     "execution_count": 33,
     "metadata": {},
     "output_type": "execute_result"
    }
   ],
   "source": [
    "best_model.fit(x_train,y_train)"
   ]
  },
  {
   "cell_type": "markdown",
   "metadata": {},
   "source": [
    "**Вывод**\n",
    "\n",
    "Мы обучили три модели, лучшую точность показала модель случайного леса гипперпараметры которой подбирались в цикле с учетом макмимизации **RECALL**. \n",
    "\n",
    "Ее параметры и будем использовать для прогнозирования на тестовой выборке"
   ]
  },
  {
   "cell_type": "markdown",
   "metadata": {
    "id": "vUPON7vxenEJ"
   },
   "source": [
    "## Оценка точности"
   ]
  },
  {
   "cell_type": "code",
   "execution_count": 34,
   "metadata": {
    "id": "m1g031fzexib",
    "scrolled": true
   },
   "outputs": [],
   "source": [
    "pred = best_model.predict(x_test)"
   ]
  },
  {
   "cell_type": "code",
   "execution_count": 35,
   "metadata": {
    "colab": {
     "base_uri": "https://localhost:8080/",
     "height": 143
    },
    "id": "kBiihKwKe9AB",
    "outputId": "6b3522be-2804-46ed-ff1a-7ac46eb0bad1"
   },
   "outputs": [
    {
     "data": {
      "text/html": [
       "<div>\n",
       "<style scoped>\n",
       "    .dataframe tbody tr th:only-of-type {\n",
       "        vertical-align: middle;\n",
       "    }\n",
       "\n",
       "    .dataframe tbody tr th {\n",
       "        vertical-align: top;\n",
       "    }\n",
       "\n",
       "    .dataframe thead th {\n",
       "        text-align: right;\n",
       "    }\n",
       "</style>\n",
       "<table border=\"1\" class=\"dataframe\">\n",
       "  <thead>\n",
       "    <tr style=\"text-align: right;\">\n",
       "      <th></th>\n",
       "      <th>type</th>\n",
       "    </tr>\n",
       "  </thead>\n",
       "  <tbody>\n",
       "    <tr>\n",
       "      <th>195</th>\n",
       "      <td>2</td>\n",
       "    </tr>\n",
       "    <tr>\n",
       "      <th>79</th>\n",
       "      <td>2</td>\n",
       "    </tr>\n",
       "    <tr>\n",
       "      <th>480</th>\n",
       "      <td>0</td>\n",
       "    </tr>\n",
       "  </tbody>\n",
       "</table>\n",
       "</div>"
      ],
      "text/plain": [
       "     type\n",
       "195     2\n",
       "79      2\n",
       "480     0"
      ]
     },
     "execution_count": 35,
     "metadata": {},
     "output_type": "execute_result"
    }
   ],
   "source": [
    "y_test.head(3)"
   ]
  },
  {
   "cell_type": "code",
   "execution_count": 36,
   "metadata": {
    "colab": {
     "base_uri": "https://localhost:8080/"
    },
    "id": "OaySnwRzejpc",
    "outputId": "c1832f7c-3886-4233-f48e-2ba722840374"
   },
   "outputs": [
    {
     "name": "stdout",
     "output_type": "stream",
     "text": [
      "Recall score: 0.43290697674418605\n"
     ]
    }
   ],
   "source": [
    "\n",
    "\n",
    "print(\"Recall score:\", recall_score(y_test, pred, average='macro'))"
   ]
  },
  {
   "cell_type": "markdown",
   "metadata": {},
   "source": [
    "## Формирование признаков для модели"
   ]
  },
  {
   "cell_type": "markdown",
   "metadata": {},
   "source": [
    "Сформируем призаки для тестового датасета и сформируем предсказание по лучшей обученной модели"
   ]
  },
  {
   "cell_type": "code",
   "execution_count": 37,
   "metadata": {
    "scrolled": true
   },
   "outputs": [
    {
     "data": {
      "text/html": [
       "<div>\n",
       "<style scoped>\n",
       "    .dataframe tbody tr th:only-of-type {\n",
       "        vertical-align: middle;\n",
       "    }\n",
       "\n",
       "    .dataframe tbody tr th {\n",
       "        vertical-align: top;\n",
       "    }\n",
       "\n",
       "    .dataframe thead th {\n",
       "        text-align: right;\n",
       "    }\n",
       "</style>\n",
       "<table border=\"1\" class=\"dataframe\">\n",
       "  <thead>\n",
       "    <tr style=\"text-align: right;\">\n",
       "      <th></th>\n",
       "      <th>id</th>\n",
       "      <th>type</th>\n",
       "    </tr>\n",
       "  </thead>\n",
       "  <tbody>\n",
       "    <tr>\n",
       "      <th>0</th>\n",
       "      <td>ОРГ1-02649</td>\n",
       "      <td>0</td>\n",
       "    </tr>\n",
       "    <tr>\n",
       "      <th>1</th>\n",
       "      <td>ОРГ2-05929</td>\n",
       "      <td>0</td>\n",
       "    </tr>\n",
       "    <tr>\n",
       "      <th>2</th>\n",
       "      <td>ОРГ2-05859</td>\n",
       "      <td>0</td>\n",
       "    </tr>\n",
       "    <tr>\n",
       "      <th>3</th>\n",
       "      <td>ОРГ1-00279</td>\n",
       "      <td>0</td>\n",
       "    </tr>\n",
       "    <tr>\n",
       "      <th>4</th>\n",
       "      <td>ОРГ2-01613</td>\n",
       "      <td>0</td>\n",
       "    </tr>\n",
       "  </tbody>\n",
       "</table>\n",
       "</div>"
      ],
      "text/plain": [
       "           id  type\n",
       "0  ОРГ1-02649     0\n",
       "1  ОРГ2-05929     0\n",
       "2  ОРГ2-05859     0\n",
       "3  ОРГ1-00279     0\n",
       "4  ОРГ2-01613     0"
      ]
     },
     "execution_count": 37,
     "metadata": {},
     "output_type": "execute_result"
    }
   ],
   "source": [
    "df_test.head()"
   ]
  },
  {
   "cell_type": "code",
   "execution_count": 38,
   "metadata": {},
   "outputs": [
    {
     "name": "stdout",
     "output_type": "stream",
     "text": [
      "<class 'pandas.core.frame.DataFrame'>\n",
      "RangeIndex: 262 entries, 0 to 261\n",
      "Data columns (total 2 columns):\n",
      " #   Column  Non-Null Count  Dtype \n",
      "---  ------  --------------  ----- \n",
      " 0   id      262 non-null    object\n",
      " 1   type    262 non-null    int64 \n",
      "dtypes: int64(1), object(1)\n",
      "memory usage: 4.2+ KB\n"
     ]
    }
   ],
   "source": [
    "df_test.info()"
   ]
  },
  {
   "cell_type": "code",
   "execution_count": 39,
   "metadata": {},
   "outputs": [],
   "source": [
    "df_test = pd.merge(df_test, df_connection_time_pt, on=\"id\", how='left').drop_duplicates(subset=\"id\")\n",
    "df_test = pd.merge(df_test, df_calls_pt, on=\"id\", how='left').drop_duplicates(subset=\"id\")\n",
    "df_test = pd.merge(df_test, df_ed_pt, on=\"id\", how='left').drop_duplicates(subset=\"id\")\n",
    "df_test = pd.merge(df_test, df_skud_pt, on=\"id\", how='left').drop_duplicates(subset=\"id\")\n",
    "df_test = pd.merge(df_test, df_tasks_pt_3, on=\"id\", how='left').drop_duplicates(subset=\"id\")\n",
    "df_test=df_test.fillna(0)"
   ]
  },
  {
   "cell_type": "code",
   "execution_count": 40,
   "metadata": {
    "scrolled": true
   },
   "outputs": [
    {
     "data": {
      "text/html": [
       "<div>\n",
       "<style scoped>\n",
       "    .dataframe tbody tr th:only-of-type {\n",
       "        vertical-align: middle;\n",
       "    }\n",
       "\n",
       "    .dataframe tbody tr th {\n",
       "        vertical-align: top;\n",
       "    }\n",
       "\n",
       "    .dataframe thead th {\n",
       "        text-align: right;\n",
       "    }\n",
       "</style>\n",
       "<table border=\"1\" class=\"dataframe\">\n",
       "  <thead>\n",
       "    <tr style=\"text-align: right;\">\n",
       "      <th></th>\n",
       "      <th>id</th>\n",
       "      <th>type</th>\n",
       "      <th>Признак опоздания</th>\n",
       "      <th>NumberOfCalls</th>\n",
       "      <th>Вид образования</th>\n",
       "      <th>Длительность раб.дня без обеда</th>\n",
       "      <th>avg</th>\n",
       "    </tr>\n",
       "  </thead>\n",
       "  <tbody>\n",
       "    <tr>\n",
       "      <th>0</th>\n",
       "      <td>ОРГ1-02649</td>\n",
       "      <td>0</td>\n",
       "      <td>0.0</td>\n",
       "      <td>4.0</td>\n",
       "      <td>0.0</td>\n",
       "      <td>316.183333</td>\n",
       "      <td>0.000000</td>\n",
       "    </tr>\n",
       "    <tr>\n",
       "      <th>1</th>\n",
       "      <td>ОРГ2-05929</td>\n",
       "      <td>0</td>\n",
       "      <td>19.0</td>\n",
       "      <td>0.0</td>\n",
       "      <td>2.0</td>\n",
       "      <td>0.000000</td>\n",
       "      <td>0.000000</td>\n",
       "    </tr>\n",
       "    <tr>\n",
       "      <th>2</th>\n",
       "      <td>ОРГ2-05859</td>\n",
       "      <td>0</td>\n",
       "      <td>104.0</td>\n",
       "      <td>0.0</td>\n",
       "      <td>14.0</td>\n",
       "      <td>0.000000</td>\n",
       "      <td>193.700000</td>\n",
       "    </tr>\n",
       "    <tr>\n",
       "      <th>3</th>\n",
       "      <td>ОРГ1-00279</td>\n",
       "      <td>0</td>\n",
       "      <td>15.0</td>\n",
       "      <td>8163.0</td>\n",
       "      <td>1.0</td>\n",
       "      <td>153.516667</td>\n",
       "      <td>0.382979</td>\n",
       "    </tr>\n",
       "    <tr>\n",
       "      <th>4</th>\n",
       "      <td>ОРГ2-01613</td>\n",
       "      <td>0</td>\n",
       "      <td>17.0</td>\n",
       "      <td>0.0</td>\n",
       "      <td>3.0</td>\n",
       "      <td>0.000000</td>\n",
       "      <td>27.222222</td>\n",
       "    </tr>\n",
       "  </tbody>\n",
       "</table>\n",
       "</div>"
      ],
      "text/plain": [
       "           id  type  Признак опоздания  NumberOfCalls  Вид образования  \\\n",
       "0  ОРГ1-02649     0                0.0            4.0              0.0   \n",
       "1  ОРГ2-05929     0               19.0            0.0              2.0   \n",
       "2  ОРГ2-05859     0              104.0            0.0             14.0   \n",
       "3  ОРГ1-00279     0               15.0         8163.0              1.0   \n",
       "4  ОРГ2-01613     0               17.0            0.0              3.0   \n",
       "\n",
       "   Длительность раб.дня без обеда         avg  \n",
       "0                      316.183333    0.000000  \n",
       "1                        0.000000    0.000000  \n",
       "2                        0.000000  193.700000  \n",
       "3                      153.516667    0.382979  \n",
       "4                        0.000000   27.222222  "
      ]
     },
     "execution_count": 40,
     "metadata": {},
     "output_type": "execute_result"
    }
   ],
   "source": [
    "df_test.head()"
   ]
  },
  {
   "cell_type": "code",
   "execution_count": 41,
   "metadata": {},
   "outputs": [
    {
     "name": "stdout",
     "output_type": "stream",
     "text": [
      "<class 'pandas.core.frame.DataFrame'>\n",
      "Int64Index: 262 entries, 0 to 261\n",
      "Data columns (total 7 columns):\n",
      " #   Column                          Non-Null Count  Dtype  \n",
      "---  ------                          --------------  -----  \n",
      " 0   id                              262 non-null    object \n",
      " 1   type                            262 non-null    int64  \n",
      " 2   Признак опоздания               262 non-null    float64\n",
      " 3   NumberOfCalls                   262 non-null    float64\n",
      " 4   Вид образования                 262 non-null    float64\n",
      " 5   Длительность раб.дня без обеда  262 non-null    float64\n",
      " 6   avg                             262 non-null    float64\n",
      "dtypes: float64(5), int64(1), object(1)\n",
      "memory usage: 16.4+ KB\n"
     ]
    }
   ],
   "source": [
    "df_test.info()"
   ]
  },
  {
   "cell_type": "code",
   "execution_count": 42,
   "metadata": {},
   "outputs": [],
   "source": [
    "X_1 = df_test.drop([\"id\", \"type\"], axis = 1)\n",
    "y_1 = df_test[[\"id\", \"type\"]]"
   ]
  },
  {
   "cell_type": "code",
   "execution_count": 43,
   "metadata": {},
   "outputs": [],
   "source": [
    "df_test_pred = best_model.predict(X_1)"
   ]
  },
  {
   "cell_type": "code",
   "execution_count": 44,
   "metadata": {},
   "outputs": [
    {
     "data": {
      "text/html": [
       "<div>\n",
       "<style scoped>\n",
       "    .dataframe tbody tr th:only-of-type {\n",
       "        vertical-align: middle;\n",
       "    }\n",
       "\n",
       "    .dataframe tbody tr th {\n",
       "        vertical-align: top;\n",
       "    }\n",
       "\n",
       "    .dataframe thead th {\n",
       "        text-align: right;\n",
       "    }\n",
       "</style>\n",
       "<table border=\"1\" class=\"dataframe\">\n",
       "  <thead>\n",
       "    <tr style=\"text-align: right;\">\n",
       "      <th></th>\n",
       "      <th>id</th>\n",
       "      <th>type</th>\n",
       "    </tr>\n",
       "  </thead>\n",
       "  <tbody>\n",
       "    <tr>\n",
       "      <th>0</th>\n",
       "      <td>ОРГ1-02649</td>\n",
       "      <td>3</td>\n",
       "    </tr>\n",
       "    <tr>\n",
       "      <th>1</th>\n",
       "      <td>ОРГ2-05929</td>\n",
       "      <td>1</td>\n",
       "    </tr>\n",
       "    <tr>\n",
       "      <th>2</th>\n",
       "      <td>ОРГ2-05859</td>\n",
       "      <td>1</td>\n",
       "    </tr>\n",
       "    <tr>\n",
       "      <th>3</th>\n",
       "      <td>ОРГ1-00279</td>\n",
       "      <td>3</td>\n",
       "    </tr>\n",
       "    <tr>\n",
       "      <th>4</th>\n",
       "      <td>ОРГ2-01613</td>\n",
       "      <td>1</td>\n",
       "    </tr>\n",
       "  </tbody>\n",
       "</table>\n",
       "</div>"
      ],
      "text/plain": [
       "           id  type\n",
       "0  ОРГ1-02649     3\n",
       "1  ОРГ2-05929     1\n",
       "2  ОРГ2-05859     1\n",
       "3  ОРГ1-00279     3\n",
       "4  ОРГ2-01613     1"
      ]
     },
     "execution_count": 44,
     "metadata": {},
     "output_type": "execute_result"
    }
   ],
   "source": [
    "y_1[\"type\"] = df_test_pred\n",
    "y_1.head()"
   ]
  },
  {
   "cell_type": "code",
   "execution_count": 45,
   "metadata": {},
   "outputs": [],
   "source": [
    "y_1.to_csv(r'C:\\project_jupyter\\saha\\y_1.csv', index=False)"
   ]
  },
  {
   "cell_type": "markdown",
   "metadata": {},
   "source": [
    "## Общий вывод"
   ]
  },
  {
   "cell_type": "markdown",
   "metadata": {},
   "source": [
    "Для обучения модели по предсказанию карьерного пути сотрудника было сделано следующее:\n",
    "\n",
    "Осмотрели основные данные о сотрудников из разных датасетов. Отобрав основные признаки, которые должны влиять на дальнейшие карьерные перспективы и траекторию сотрудников. К ним относятся: \n",
    "\n",
    "* Количество опозданий\n",
    "* Количество звонков\n",
    "* Тип образования\n",
    "* Длительность рабочего дня (без учета обеда)\n",
    "* Среднее количество дней просрочки задач\n",
    "\n",
    "В дальнейшим объединив эти признаки в один датасет.\n",
    "\n",
    "Обучили три модели:\n",
    "* 1 - Случайный лес со случайным подбором гипперпарамметров\n",
    "\n",
    "* 2 - Логистическую регрессию\n",
    "\n",
    "* 3 - Случайный лес с подбором гипперпараметров в цикле с учетом максимизации **RECALL**\n",
    "\n",
    "Лучшией результат показата моедль случайного леса, подобранная в цикле."
   ]
  }
 ],
 "metadata": {
  "colab": {
   "provenance": []
  },
  "kernelspec": {
   "display_name": "Python 3",
   "language": "python",
   "name": "python3"
  },
  "language_info": {
   "codemirror_mode": {
    "name": "ipython",
    "version": 3
   },
   "file_extension": ".py",
   "mimetype": "text/x-python",
   "name": "python",
   "nbconvert_exporter": "python",
   "pygments_lexer": "ipython3",
   "version": "3.8.8"
  }
 },
 "nbformat": 4,
 "nbformat_minor": 1
}
