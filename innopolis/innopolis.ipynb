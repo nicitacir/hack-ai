{
 "cells": [
  {
   "cell_type": "markdown",
   "metadata": {},
   "source": [
    "## Описание задачи"
   ]
  },
  {
   "cell_type": "markdown",
   "metadata": {},
   "source": [
    "Данные дистанционного зондирования Земли из космоса позволяют решать большое количество производственных задач. Например,определять культуры растений на основе анализа временных рядов значений вегетационных индексов (NDVI), получаемых на протяжении вегетационного периода (периода роста и развития растений). NDVI – это индекс, определяемый по поглощению и отражению растениями лучей красной и ближней инфракрасной зоны спектра при анализе изображений космоснимков. По значению этого индекса можно судить о развитии зеленой массы растений во время вегетации. Чем больше зеленой биомассы на полях, тем выше значение NDVI. Общая посевная площадь в России в 2022 году составила более 81 млн га. Для грамотного планирования сельскохозяйственного производства в масштабах страны, применения технологий точного земледелия, проведения мероприятий по защите растений, оценки урожайности критически важным является распознавание культур растений, произрастающих на каждом конкретном поле.\n",
    "\n",
    "Перед участниками чемпионата стоит задача классификации агрокультур на основе изменения показателя вегетационных индексов во временной последовательности. Созданная за время чемпионата модель поможет оптимизировать рабочие процессы в сфере сельского хозяйства, обеспечить органы власти актуальными и достоверными сведениями, увеличить социальный, инвестиционный и производственный потенциал отрасли, а также повысить достоверность и удобство использования информации о сельскохозяйственных объектах.\n",
    "\n",
    "В качестве метрики выступает **Recall** по столбцу **crop**"
   ]
  },
  {
   "cell_type": "markdown",
   "metadata": {
    "id": "fnE1_J-4dhSR"
   },
   "source": [
    "## Загрузим нужные библиотеки"
   ]
  },
  {
   "cell_type": "code",
   "execution_count": 1,
   "metadata": {
    "id": "uaKzqUxsdjDa"
   },
   "outputs": [],
   "source": [
    "import pandas as pd\n",
    "import numpy as np\n",
    "import seaborn as sns\n",
    "import matplotlib.pyplot as plt\n",
    "from sklearn.model_selection import train_test_split\n",
    "from sklearn.ensemble import RandomForestClassifier\n",
    "from sklearn.metrics import recall_score\n",
    "\n",
    "from sklearn.model_selection import train_test_split, GridSearchCV, StratifiedKFold\n",
    "from sklearn.metrics import roc_curve, precision_recall_curve, auc, make_scorer, recall_score, accuracy_score, precision_score, confusion_matrix\n",
    "\n",
    "from catboost import CatBoostClassifier\n",
    "\n",
    "\n",
    "import warnings\n",
    "warnings.filterwarnings('ignore')\n",
    "\n",
    "%matplotlib inline"
   ]
  },
  {
   "cell_type": "code",
   "execution_count": 2,
   "metadata": {
    "id": "2scLoULoXkT0"
   },
   "outputs": [],
   "source": [
    "df = pd.read_csv(r'C:\\project_jupyter\\innopolis\\train_dataset_train.csv')"
   ]
  },
  {
   "cell_type": "markdown",
   "metadata": {
    "id": "WcxAsO_Md05t"
   },
   "source": [
    "## Рассмотрим датасет по ближе"
   ]
  },
  {
   "cell_type": "code",
   "execution_count": 3,
   "metadata": {
    "colab": {
     "base_uri": "https://localhost:8080/",
     "height": 254
    },
    "id": "I16XfuOpXwIy",
    "outputId": "f44fbf10-f067-4716-9c1d-f4660753940e"
   },
   "outputs": [
    {
     "data": {
      "text/html": [
       "<div>\n",
       "<style scoped>\n",
       "    .dataframe tbody tr th:only-of-type {\n",
       "        vertical-align: middle;\n",
       "    }\n",
       "\n",
       "    .dataframe tbody tr th {\n",
       "        vertical-align: top;\n",
       "    }\n",
       "\n",
       "    .dataframe thead th {\n",
       "        text-align: right;\n",
       "    }\n",
       "</style>\n",
       "<table border=\"1\" class=\"dataframe\">\n",
       "  <thead>\n",
       "    <tr style=\"text-align: right;\">\n",
       "      <th></th>\n",
       "      <th>id</th>\n",
       "      <th>area</th>\n",
       "      <th>nd_mean_2021-04-16</th>\n",
       "      <th>nd_mean_2021-04-19</th>\n",
       "      <th>nd_mean_2021-04-22</th>\n",
       "      <th>nd_mean_2021-04-26</th>\n",
       "      <th>nd_mean_2021-04-28</th>\n",
       "      <th>nd_mean_2021-05-02</th>\n",
       "      <th>nd_mean_2021-05-04</th>\n",
       "      <th>nd_mean_2021-05-07</th>\n",
       "      <th>...</th>\n",
       "      <th>nd_mean_2021-05-20</th>\n",
       "      <th>nd_mean_2021-06-04</th>\n",
       "      <th>nd_mean_2021-06-05</th>\n",
       "      <th>nd_mean_2021-06-10</th>\n",
       "      <th>nd_mean_2021-07-05</th>\n",
       "      <th>nd_mean_2021-08-13</th>\n",
       "      <th>nd_mean_2021-08-27</th>\n",
       "      <th>nd_mean_2021-05-08</th>\n",
       "      <th>nd_mean_2021-05-24</th>\n",
       "      <th>crop</th>\n",
       "    </tr>\n",
       "  </thead>\n",
       "  <tbody>\n",
       "    <tr>\n",
       "      <th>0</th>\n",
       "      <td>3536</td>\n",
       "      <td>20</td>\n",
       "      <td>0.072846</td>\n",
       "      <td>0.261778</td>\n",
       "      <td>0.062981</td>\n",
       "      <td>0.104442</td>\n",
       "      <td>0.021096</td>\n",
       "      <td>0.052202</td>\n",
       "      <td>0.158723</td>\n",
       "      <td>0.000000</td>\n",
       "      <td>...</td>\n",
       "      <td>0.108999</td>\n",
       "      <td>0.118854</td>\n",
       "      <td>0.000000</td>\n",
       "      <td>0.000000</td>\n",
       "      <td>0.026784</td>\n",
       "      <td>0.126832</td>\n",
       "      <td>0.614770</td>\n",
       "      <td>0.008857</td>\n",
       "      <td>0.081498</td>\n",
       "      <td>3</td>\n",
       "    </tr>\n",
       "    <tr>\n",
       "      <th>1</th>\n",
       "      <td>3739</td>\n",
       "      <td>45</td>\n",
       "      <td>0.332928</td>\n",
       "      <td>0.287182</td>\n",
       "      <td>0.097138</td>\n",
       "      <td>0.152467</td>\n",
       "      <td>0.075484</td>\n",
       "      <td>0.000000</td>\n",
       "      <td>0.140326</td>\n",
       "      <td>0.163340</td>\n",
       "      <td>...</td>\n",
       "      <td>0.134469</td>\n",
       "      <td>0.208268</td>\n",
       "      <td>0.000000</td>\n",
       "      <td>0.000000</td>\n",
       "      <td>0.111148</td>\n",
       "      <td>0.174914</td>\n",
       "      <td>0.179612</td>\n",
       "      <td>0.113071</td>\n",
       "      <td>0.046997</td>\n",
       "      <td>4</td>\n",
       "    </tr>\n",
       "    <tr>\n",
       "      <th>2</th>\n",
       "      <td>1294</td>\n",
       "      <td>28</td>\n",
       "      <td>0.013679</td>\n",
       "      <td>0.007055</td>\n",
       "      <td>0.120804</td>\n",
       "      <td>0.037839</td>\n",
       "      <td>0.259125</td>\n",
       "      <td>0.000000</td>\n",
       "      <td>0.037446</td>\n",
       "      <td>0.506516</td>\n",
       "      <td>...</td>\n",
       "      <td>0.084467</td>\n",
       "      <td>0.000000</td>\n",
       "      <td>0.210496</td>\n",
       "      <td>0.130467</td>\n",
       "      <td>0.155225</td>\n",
       "      <td>0.090607</td>\n",
       "      <td>0.054127</td>\n",
       "      <td>0.007437</td>\n",
       "      <td>0.219614</td>\n",
       "      <td>2</td>\n",
       "    </tr>\n",
       "  </tbody>\n",
       "</table>\n",
       "<p>3 rows × 74 columns</p>\n",
       "</div>"
      ],
      "text/plain": [
       "     id  area  nd_mean_2021-04-16  nd_mean_2021-04-19  nd_mean_2021-04-22  \\\n",
       "0  3536    20            0.072846            0.261778            0.062981   \n",
       "1  3739    45            0.332928            0.287182            0.097138   \n",
       "2  1294    28            0.013679            0.007055            0.120804   \n",
       "\n",
       "   nd_mean_2021-04-26  nd_mean_2021-04-28  nd_mean_2021-05-02  \\\n",
       "0            0.104442            0.021096            0.052202   \n",
       "1            0.152467            0.075484            0.000000   \n",
       "2            0.037839            0.259125            0.000000   \n",
       "\n",
       "   nd_mean_2021-05-04  nd_mean_2021-05-07  ...  nd_mean_2021-05-20  \\\n",
       "0            0.158723            0.000000  ...            0.108999   \n",
       "1            0.140326            0.163340  ...            0.134469   \n",
       "2            0.037446            0.506516  ...            0.084467   \n",
       "\n",
       "   nd_mean_2021-06-04  nd_mean_2021-06-05  nd_mean_2021-06-10  \\\n",
       "0            0.118854            0.000000            0.000000   \n",
       "1            0.208268            0.000000            0.000000   \n",
       "2            0.000000            0.210496            0.130467   \n",
       "\n",
       "   nd_mean_2021-07-05  nd_mean_2021-08-13  nd_mean_2021-08-27  \\\n",
       "0            0.026784            0.126832            0.614770   \n",
       "1            0.111148            0.174914            0.179612   \n",
       "2            0.155225            0.090607            0.054127   \n",
       "\n",
       "   nd_mean_2021-05-08  nd_mean_2021-05-24  crop  \n",
       "0            0.008857            0.081498     3  \n",
       "1            0.113071            0.046997     4  \n",
       "2            0.007437            0.219614     2  \n",
       "\n",
       "[3 rows x 74 columns]"
      ]
     },
     "execution_count": 3,
     "metadata": {},
     "output_type": "execute_result"
    }
   ],
   "source": [
    "df.head(3)"
   ]
  },
  {
   "cell_type": "code",
   "execution_count": 4,
   "metadata": {
    "colab": {
     "base_uri": "https://localhost:8080/"
    },
    "id": "czcOBmDFduKQ",
    "outputId": "4cc0c78b-1ccb-4504-d22e-85321dbe1936",
    "scrolled": true
   },
   "outputs": [
    {
     "name": "stdout",
     "output_type": "stream",
     "text": [
      "<class 'pandas.core.frame.DataFrame'>\n",
      "RangeIndex: 4830 entries, 0 to 4829\n",
      "Data columns (total 74 columns):\n",
      " #   Column              Non-Null Count  Dtype  \n",
      "---  ------              --------------  -----  \n",
      " 0   id                  4830 non-null   int64  \n",
      " 1   area                4830 non-null   int64  \n",
      " 2   nd_mean_2021-04-16  4830 non-null   float64\n",
      " 3   nd_mean_2021-04-19  4830 non-null   float64\n",
      " 4   nd_mean_2021-04-22  4830 non-null   float64\n",
      " 5   nd_mean_2021-04-26  4830 non-null   float64\n",
      " 6   nd_mean_2021-04-28  4830 non-null   float64\n",
      " 7   nd_mean_2021-05-02  4830 non-null   float64\n",
      " 8   nd_mean_2021-05-04  4830 non-null   float64\n",
      " 9   nd_mean_2021-05-07  4830 non-null   float64\n",
      " 10  nd_mean_2021-05-16  4830 non-null   float64\n",
      " 11  nd_mean_2021-05-17  4830 non-null   float64\n",
      " 12  nd_mean_2021-05-21  4830 non-null   float64\n",
      " 13  nd_mean_2021-05-26  4830 non-null   float64\n",
      " 14  nd_mean_2021-05-27  4830 non-null   float64\n",
      " 15  nd_mean_2021-05-29  4830 non-null   float64\n",
      " 16  nd_mean_2021-06-06  4830 non-null   float64\n",
      " 17  nd_mean_2021-06-09  4830 non-null   float64\n",
      " 18  nd_mean_2021-06-13  4830 non-null   float64\n",
      " 19  nd_mean_2021-06-16  4830 non-null   float64\n",
      " 20  nd_mean_2021-06-18  4830 non-null   float64\n",
      " 21  nd_mean_2021-06-19  4830 non-null   float64\n",
      " 22  nd_mean_2021-06-20  4830 non-null   float64\n",
      " 23  nd_mean_2021-06-22  4830 non-null   float64\n",
      " 24  nd_mean_2021-06-25  4830 non-null   float64\n",
      " 25  nd_mean_2021-06-27  4830 non-null   float64\n",
      " 26  nd_mean_2021-07-07  4830 non-null   float64\n",
      " 27  nd_mean_2021-07-08  4830 non-null   float64\n",
      " 28  nd_mean_2021-07-09  4830 non-null   float64\n",
      " 29  nd_mean_2021-07-13  4830 non-null   float64\n",
      " 30  nd_mean_2021-07-15  4830 non-null   float64\n",
      " 31  nd_mean_2021-07-17  4830 non-null   float64\n",
      " 32  nd_mean_2021-07-20  4830 non-null   float64\n",
      " 33  nd_mean_2021-07-26  4830 non-null   float64\n",
      " 34  nd_mean_2021-07-27  4830 non-null   float64\n",
      " 35  nd_mean_2021-07-29  4830 non-null   float64\n",
      " 36  nd_mean_2021-07-31  4830 non-null   float64\n",
      " 37  nd_mean_2021-08-07  4830 non-null   float64\n",
      " 38  nd_mean_2021-08-12  4830 non-null   float64\n",
      " 39  .geo                4830 non-null   object \n",
      " 40  nd_mean_2021-04-15  4830 non-null   float64\n",
      " 41  nd_mean_2021-04-18  4830 non-null   float64\n",
      " 42  nd_mean_2021-04-25  4830 non-null   float64\n",
      " 43  nd_mean_2021-04-27  4830 non-null   float64\n",
      " 44  nd_mean_2021-04-29  4830 non-null   float64\n",
      " 45  nd_mean_2021-04-30  4830 non-null   float64\n",
      " 46  nd_mean_2021-06-07  4830 non-null   float64\n",
      " 47  nd_mean_2021-06-12  4830 non-null   float64\n",
      " 48  nd_mean_2021-06-28  4830 non-null   float64\n",
      " 49  nd_mean_2021-08-01  4830 non-null   float64\n",
      " 50  nd_mean_2021-08-11  4830 non-null   float64\n",
      " 51  nd_mean_2021-05-01  4830 non-null   float64\n",
      " 52  nd_mean_2021-05-03  4830 non-null   float64\n",
      " 53  nd_mean_2021-05-10  4830 non-null   float64\n",
      " 54  nd_mean_2021-05-15  4830 non-null   float64\n",
      " 55  nd_mean_2021-06-02  4830 non-null   float64\n",
      " 56  nd_mean_2021-06-03  4830 non-null   float64\n",
      " 57  nd_mean_2021-07-04  4830 non-null   float64\n",
      " 58  nd_mean_2021-08-10  4830 non-null   float64\n",
      " 59  nd_mean_2021-08-23  4830 non-null   float64\n",
      " 60  nd_mean_2021-04-20  4830 non-null   float64\n",
      " 61  nd_mean_2021-04-23  4830 non-null   float64\n",
      " 62  nd_mean_2021-05-09  4830 non-null   float64\n",
      " 63  nd_mean_2021-05-19  4830 non-null   float64\n",
      " 64  nd_mean_2021-05-20  4830 non-null   float64\n",
      " 65  nd_mean_2021-06-04  4830 non-null   float64\n",
      " 66  nd_mean_2021-06-05  4830 non-null   float64\n",
      " 67  nd_mean_2021-06-10  4830 non-null   float64\n",
      " 68  nd_mean_2021-07-05  4830 non-null   float64\n",
      " 69  nd_mean_2021-08-13  4830 non-null   float64\n",
      " 70  nd_mean_2021-08-27  4830 non-null   float64\n",
      " 71  nd_mean_2021-05-08  4830 non-null   float64\n",
      " 72  nd_mean_2021-05-24  4830 non-null   float64\n",
      " 73  crop                4830 non-null   int64  \n",
      "dtypes: float64(70), int64(3), object(1)\n",
      "memory usage: 2.7+ MB\n"
     ]
    }
   ],
   "source": [
    "df.info()"
   ]
  },
  {
   "cell_type": "markdown",
   "metadata": {
    "id": "yQuR1Zv65zp_"
   },
   "source": [
    "Рассмотрим единственный не числовой столбец "
   ]
  },
  {
   "cell_type": "code",
   "execution_count": 5,
   "metadata": {
    "colab": {
     "base_uri": "https://localhost:8080/",
     "height": 424
    },
    "id": "JKsM5f-W5p4i",
    "outputId": "6d8b32c9-d2e3-4ae9-a023-154e1838419e",
    "scrolled": true
   },
   "outputs": [
    {
     "data": {
      "text/html": [
       "<div>\n",
       "<style scoped>\n",
       "    .dataframe tbody tr th:only-of-type {\n",
       "        vertical-align: middle;\n",
       "    }\n",
       "\n",
       "    .dataframe tbody tr th {\n",
       "        vertical-align: top;\n",
       "    }\n",
       "\n",
       "    .dataframe thead th {\n",
       "        text-align: right;\n",
       "    }\n",
       "</style>\n",
       "<table border=\"1\" class=\"dataframe\">\n",
       "  <thead>\n",
       "    <tr style=\"text-align: right;\">\n",
       "      <th></th>\n",
       "      <th>.geo</th>\n",
       "    </tr>\n",
       "  </thead>\n",
       "  <tbody>\n",
       "    <tr>\n",
       "      <th>0</th>\n",
       "      <td>{\"type\":\"Polygon\",\"coordinates\":[[[42.49107269...</td>\n",
       "    </tr>\n",
       "    <tr>\n",
       "      <th>1</th>\n",
       "      <td>{\"type\":\"Polygon\",\"coordinates\":[[[50.25545110...</td>\n",
       "    </tr>\n",
       "    <tr>\n",
       "      <th>2</th>\n",
       "      <td>{\"type\":\"Polygon\",\"coordinates\":[[[37.99698998...</td>\n",
       "    </tr>\n",
       "    <tr>\n",
       "      <th>3</th>\n",
       "      <td>{\"type\":\"Polygon\",\"coordinates\":[[[44.72154181...</td>\n",
       "    </tr>\n",
       "    <tr>\n",
       "      <th>4</th>\n",
       "      <td>{\"type\":\"Polygon\",\"coordinates\":[[[34.77829934...</td>\n",
       "    </tr>\n",
       "    <tr>\n",
       "      <th>...</th>\n",
       "      <td>...</td>\n",
       "    </tr>\n",
       "    <tr>\n",
       "      <th>4825</th>\n",
       "      <td>{\"type\":\"Polygon\",\"coordinates\":[[[40.90052911...</td>\n",
       "    </tr>\n",
       "    <tr>\n",
       "      <th>4826</th>\n",
       "      <td>{\"type\":\"Polygon\",\"coordinates\":[[[40.00883381...</td>\n",
       "    </tr>\n",
       "    <tr>\n",
       "      <th>4827</th>\n",
       "      <td>{\"type\":\"Polygon\",\"coordinates\":[[[38.57789936...</td>\n",
       "    </tr>\n",
       "    <tr>\n",
       "      <th>4828</th>\n",
       "      <td>{\"type\":\"Polygon\",\"coordinates\":[[[53.31082730...</td>\n",
       "    </tr>\n",
       "    <tr>\n",
       "      <th>4829</th>\n",
       "      <td>{\"type\":\"Polygon\",\"coordinates\":[[[38.79371096...</td>\n",
       "    </tr>\n",
       "  </tbody>\n",
       "</table>\n",
       "<p>4830 rows × 1 columns</p>\n",
       "</div>"
      ],
      "text/plain": [
       "                                                   .geo\n",
       "0     {\"type\":\"Polygon\",\"coordinates\":[[[42.49107269...\n",
       "1     {\"type\":\"Polygon\",\"coordinates\":[[[50.25545110...\n",
       "2     {\"type\":\"Polygon\",\"coordinates\":[[[37.99698998...\n",
       "3     {\"type\":\"Polygon\",\"coordinates\":[[[44.72154181...\n",
       "4     {\"type\":\"Polygon\",\"coordinates\":[[[34.77829934...\n",
       "...                                                 ...\n",
       "4825  {\"type\":\"Polygon\",\"coordinates\":[[[40.90052911...\n",
       "4826  {\"type\":\"Polygon\",\"coordinates\":[[[40.00883381...\n",
       "4827  {\"type\":\"Polygon\",\"coordinates\":[[[38.57789936...\n",
       "4828  {\"type\":\"Polygon\",\"coordinates\":[[[53.31082730...\n",
       "4829  {\"type\":\"Polygon\",\"coordinates\":[[[38.79371096...\n",
       "\n",
       "[4830 rows x 1 columns]"
      ]
     },
     "execution_count": 5,
     "metadata": {},
     "output_type": "execute_result"
    }
   ],
   "source": [
    "df.select_dtypes(include=['object'])"
   ]
  },
  {
   "cell_type": "code",
   "execution_count": 6,
   "metadata": {},
   "outputs": [
    {
     "data": {
      "text/plain": [
       "0       {\"type\":\"Polygon\",\"coordinates\":[[[42.49107269...\n",
       "1       {\"type\":\"Polygon\",\"coordinates\":[[[50.25545110...\n",
       "2       {\"type\":\"Polygon\",\"coordinates\":[[[37.99698998...\n",
       "3       {\"type\":\"Polygon\",\"coordinates\":[[[44.72154181...\n",
       "4       {\"type\":\"Polygon\",\"coordinates\":[[[34.77829934...\n",
       "                              ...                        \n",
       "4825    {\"type\":\"Polygon\",\"coordinates\":[[[40.90052911...\n",
       "4826    {\"type\":\"Polygon\",\"coordinates\":[[[40.00883381...\n",
       "4827    {\"type\":\"Polygon\",\"coordinates\":[[[38.57789936...\n",
       "4828    {\"type\":\"Polygon\",\"coordinates\":[[[53.31082730...\n",
       "4829    {\"type\":\"Polygon\",\"coordinates\":[[[38.79371096...\n",
       "Name: .geo, Length: 4830, dtype: object"
      ]
     },
     "execution_count": 6,
     "metadata": {},
     "output_type": "execute_result"
    }
   ],
   "source": [
    "df['.geo']"
   ]
  },
  {
   "cell_type": "markdown",
   "metadata": {
    "id": "vVN39hUu6L2a"
   },
   "source": [
    "Это столбец **.geo**"
   ]
  },
  {
   "cell_type": "markdown",
   "metadata": {
    "id": "ySP6KVIC6TGf"
   },
   "source": [
    "Тепепрь рассмотрим главный столбец с C/Х культурой"
   ]
  },
  {
   "cell_type": "code",
   "execution_count": 7,
   "metadata": {
    "colab": {
     "base_uri": "https://localhost:8080/",
     "height": 881
    },
    "id": "ccsstA-IdxOJ",
    "outputId": "d68832f2-3f58-4da6-b2d0-68ca2205febe"
   },
   "outputs": [
    {
     "data": {
      "text/plain": [
       "<AxesSubplot:>"
      ]
     },
     "execution_count": 7,
     "metadata": {},
     "output_type": "execute_result"
    },
    {
     "data": {
      "image/png": "[encoded data removed]",
      "text/plain": [
       "<Figure size 432x288 with 1 Axes>"
      ]
     },
     "metadata": {
      "needs_background": "light"
     },
     "output_type": "display_data"
    }
   ],
   "source": [
    "df[\"crop\"].hist(bins = 7)"
   ]
  },
  {
   "cell_type": "markdown",
   "metadata": {
    "id": "s9fKKhV8edY_"
   },
   "source": [
    "Заметен слабый разброс популярности категориий. Видно что количество культур равномерно сбалансировано, т.е не присутствует дисбаланс в классах"
   ]
  },
  {
   "cell_type": "code",
   "execution_count": 8,
   "metadata": {
    "colab": {
     "base_uri": "https://localhost:8080/"
    },
    "id": "Gq6HjkgCeQSy",
    "outputId": "06093559-7957-42a3-dad9-9c2888584234"
   },
   "outputs": [
    {
     "data": {
      "text/plain": [
       "0    726\n",
       "4    718\n",
       "1    700\n",
       "2    697\n",
       "5    668\n",
       "6    666\n",
       "3    655\n",
       "Name: crop, dtype: int64"
      ]
     },
     "execution_count": 8,
     "metadata": {},
     "output_type": "execute_result"
    }
   ],
   "source": [
    "df[\"crop\"].value_counts()"
   ]
  },
  {
   "cell_type": "markdown",
   "metadata": {
    "id": "oykqxzOm5Rwz"
   },
   "source": [
    "Посмотрим на разброс площади полей"
   ]
  },
  {
   "cell_type": "code",
   "execution_count": 9,
   "metadata": {
    "colab": {
     "base_uri": "https://localhost:8080/",
     "height": 895
    },
    "id": "opRa45nN5Nea",
    "outputId": "45a66f63-8aee-450d-8605-35994910edba"
   },
   "outputs": [
    {
     "data": {
      "text/plain": [
       "<AxesSubplot:xlabel='area', ylabel='count'>"
      ]
     },
     "execution_count": 9,
     "metadata": {},
     "output_type": "execute_result"
    },
    {
     "data": {
      "image/png": "[encoded data removed]",
      "text/plain": [
       "<Figure size 432x288 with 1 Axes>"
      ]
     },
     "metadata": {
      "needs_background": "light"
     },
     "output_type": "display_data"
    }
   ],
   "source": [
    "sns.countplot(x = \"area\" , data  = df)  "
   ]
  },
  {
   "cell_type": "markdown",
   "metadata": {
    "id": "1gths0kI5XkR"
   },
   "source": [
    "Постараемся найти закономерность"
   ]
  },
  {
   "cell_type": "code",
   "execution_count": 10,
   "metadata": {
    "colab": {
     "base_uri": "https://localhost:8080/",
     "height": 459
    },
    "id": "OH-8nXJ5fJAX",
    "outputId": "d04295a9-0f9a-40b9-c7cb-ddaadbddb32c"
   },
   "outputs": [
    {
     "data": {
      "text/plain": [
       "<seaborn.axisgrid.JointGrid at 0x20bf073e550>"
      ]
     },
     "execution_count": 10,
     "metadata": {},
     "output_type": "execute_result"
    },
    {
     "data": {
      "image/png": "[encoded data removed]",
      "text/plain": [
       "<Figure size 432x432 with 3 Axes>"
      ]
     },
     "metadata": {
      "needs_background": "light"
     },
     "output_type": "display_data"
    }
   ],
   "source": [
    "sns.jointplot(x = \"crop\", y = 'area', data = df, kind = 'reg')"
   ]
  },
  {
   "cell_type": "markdown",
   "metadata": {
    "id": "9treu6dEfnd6"
   },
   "source": [
    "Кажется нет четкой зависимости между категорией культуры и площадью территроии"
   ]
  },
  {
   "cell_type": "markdown",
   "metadata": {
    "id": "x37Hw0K8hXOS"
   },
   "source": [
    "Последняя попытка найти явную зависимость в данных"
   ]
  },
  {
   "cell_type": "code",
   "execution_count": 12,
   "metadata": {
    "colab": {
     "base_uri": "https://localhost:8080/",
     "height": 893
    },
    "id": "LQNuW50pgJYa",
    "outputId": "d1fba77c-2e02-475a-ad21-0a09f960f520",
    "scrolled": true
   },
   "outputs": [
    {
     "data": {
      "image/png": "[encoded data removed]",
      "text/plain": [
       "<Figure size 1080x1080 with 2 Axes>"
      ]
     },
     "metadata": {
      "needs_background": "light"
     },
     "output_type": "display_data"
    }
   ],
   "source": [
    "plt.rcParams['figure.figsize']=(15,15)\n",
    "\n",
    "corr = df.loc[:, \"nd_mean_2021-08-27\":\"crop\"].corr()\n",
    "g = sns.heatmap(corr, square = True, annot=True)"
   ]
  },
  {
   "cell_type": "markdown",
   "metadata": {},
   "source": [
    "Отсротируем датафрейм чтобы данные были отсортированы по датам"
   ]
  },
  {
   "cell_type": "code",
   "execution_count": 13,
   "metadata": {},
   "outputs": [],
   "source": [
    "df = df[sorted(df.columns)]"
   ]
  },
  {
   "cell_type": "code",
   "execution_count": 14,
   "metadata": {
    "scrolled": true
   },
   "outputs": [
    {
     "data": {
      "text/html": [
       "<div>\n",
       "<style scoped>\n",
       "    .dataframe tbody tr th:only-of-type {\n",
       "        vertical-align: middle;\n",
       "    }\n",
       "\n",
       "    .dataframe tbody tr th {\n",
       "        vertical-align: top;\n",
       "    }\n",
       "\n",
       "    .dataframe thead th {\n",
       "        text-align: right;\n",
       "    }\n",
       "</style>\n",
       "<table border=\"1\" class=\"dataframe\">\n",
       "  <thead>\n",
       "    <tr style=\"text-align: right;\">\n",
       "      <th></th>\n",
       "      <th>.geo</th>\n",
       "      <th>area</th>\n",
       "      <th>crop</th>\n",
       "      <th>id</th>\n",
       "      <th>nd_mean_2021-04-15</th>\n",
       "      <th>nd_mean_2021-04-16</th>\n",
       "      <th>nd_mean_2021-04-18</th>\n",
       "      <th>nd_mean_2021-04-19</th>\n",
       "      <th>nd_mean_2021-04-20</th>\n",
       "      <th>nd_mean_2021-04-22</th>\n",
       "      <th>...</th>\n",
       "      <th>nd_mean_2021-07-29</th>\n",
       "      <th>nd_mean_2021-07-31</th>\n",
       "      <th>nd_mean_2021-08-01</th>\n",
       "      <th>nd_mean_2021-08-07</th>\n",
       "      <th>nd_mean_2021-08-10</th>\n",
       "      <th>nd_mean_2021-08-11</th>\n",
       "      <th>nd_mean_2021-08-12</th>\n",
       "      <th>nd_mean_2021-08-13</th>\n",
       "      <th>nd_mean_2021-08-23</th>\n",
       "      <th>nd_mean_2021-08-27</th>\n",
       "    </tr>\n",
       "  </thead>\n",
       "  <tbody>\n",
       "    <tr>\n",
       "      <th>0</th>\n",
       "      <td>{\"type\":\"Polygon\",\"coordinates\":[[[42.49107269...</td>\n",
       "      <td>20</td>\n",
       "      <td>3</td>\n",
       "      <td>3536</td>\n",
       "      <td>0.187150</td>\n",
       "      <td>0.072846</td>\n",
       "      <td>0.262300</td>\n",
       "      <td>0.261778</td>\n",
       "      <td>0.063134</td>\n",
       "      <td>0.062981</td>\n",
       "      <td>...</td>\n",
       "      <td>0.727516</td>\n",
       "      <td>0.000000</td>\n",
       "      <td>0.754859</td>\n",
       "      <td>0.000000</td>\n",
       "      <td>0.030883</td>\n",
       "      <td>0.000000</td>\n",
       "      <td>0.658016</td>\n",
       "      <td>0.126832</td>\n",
       "      <td>0.034858</td>\n",
       "      <td>0.614770</td>\n",
       "    </tr>\n",
       "    <tr>\n",
       "      <th>1</th>\n",
       "      <td>{\"type\":\"Polygon\",\"coordinates\":[[[50.25545110...</td>\n",
       "      <td>45</td>\n",
       "      <td>4</td>\n",
       "      <td>3739</td>\n",
       "      <td>0.245285</td>\n",
       "      <td>0.332928</td>\n",
       "      <td>0.349133</td>\n",
       "      <td>0.287182</td>\n",
       "      <td>0.064671</td>\n",
       "      <td>0.097138</td>\n",
       "      <td>...</td>\n",
       "      <td>0.666918</td>\n",
       "      <td>0.089721</td>\n",
       "      <td>0.706226</td>\n",
       "      <td>0.184231</td>\n",
       "      <td>0.062582</td>\n",
       "      <td>0.618475</td>\n",
       "      <td>0.601685</td>\n",
       "      <td>0.174914</td>\n",
       "      <td>0.000000</td>\n",
       "      <td>0.179612</td>\n",
       "    </tr>\n",
       "    <tr>\n",
       "      <th>2</th>\n",
       "      <td>{\"type\":\"Polygon\",\"coordinates\":[[[37.99698998...</td>\n",
       "      <td>28</td>\n",
       "      <td>2</td>\n",
       "      <td>1294</td>\n",
       "      <td>0.006391</td>\n",
       "      <td>0.013679</td>\n",
       "      <td>0.000000</td>\n",
       "      <td>0.007055</td>\n",
       "      <td>0.000000</td>\n",
       "      <td>0.120804</td>\n",
       "      <td>...</td>\n",
       "      <td>0.321827</td>\n",
       "      <td>0.411168</td>\n",
       "      <td>0.000000</td>\n",
       "      <td>0.357296</td>\n",
       "      <td>0.045370</td>\n",
       "      <td>0.172080</td>\n",
       "      <td>0.000000</td>\n",
       "      <td>0.090607</td>\n",
       "      <td>0.000000</td>\n",
       "      <td>0.054127</td>\n",
       "    </tr>\n",
       "    <tr>\n",
       "      <th>3</th>\n",
       "      <td>{\"type\":\"Polygon\",\"coordinates\":[[[44.72154181...</td>\n",
       "      <td>19</td>\n",
       "      <td>5</td>\n",
       "      <td>2859</td>\n",
       "      <td>0.293425</td>\n",
       "      <td>0.105976</td>\n",
       "      <td>0.318047</td>\n",
       "      <td>0.052500</td>\n",
       "      <td>0.153700</td>\n",
       "      <td>0.001917</td>\n",
       "      <td>...</td>\n",
       "      <td>0.000000</td>\n",
       "      <td>0.055983</td>\n",
       "      <td>0.152193</td>\n",
       "      <td>0.060656</td>\n",
       "      <td>0.352723</td>\n",
       "      <td>0.379196</td>\n",
       "      <td>0.327025</td>\n",
       "      <td>0.073492</td>\n",
       "      <td>0.061776</td>\n",
       "      <td>0.378900</td>\n",
       "    </tr>\n",
       "    <tr>\n",
       "      <th>4</th>\n",
       "      <td>{\"type\":\"Polygon\",\"coordinates\":[[[34.77829934...</td>\n",
       "      <td>33</td>\n",
       "      <td>4</td>\n",
       "      <td>3685</td>\n",
       "      <td>0.027983</td>\n",
       "      <td>0.130885</td>\n",
       "      <td>0.117227</td>\n",
       "      <td>0.063492</td>\n",
       "      <td>0.040565</td>\n",
       "      <td>0.024416</td>\n",
       "      <td>...</td>\n",
       "      <td>0.833694</td>\n",
       "      <td>0.611108</td>\n",
       "      <td>0.772962</td>\n",
       "      <td>0.000000</td>\n",
       "      <td>0.080592</td>\n",
       "      <td>0.000000</td>\n",
       "      <td>0.055220</td>\n",
       "      <td>0.157676</td>\n",
       "      <td>0.022251</td>\n",
       "      <td>0.012048</td>\n",
       "    </tr>\n",
       "  </tbody>\n",
       "</table>\n",
       "<p>5 rows × 74 columns</p>\n",
       "</div>"
      ],
      "text/plain": [
       "                                                .geo  area  crop    id  \\\n",
       "0  {\"type\":\"Polygon\",\"coordinates\":[[[42.49107269...    20     3  3536   \n",
       "1  {\"type\":\"Polygon\",\"coordinates\":[[[50.25545110...    45     4  3739   \n",
       "2  {\"type\":\"Polygon\",\"coordinates\":[[[37.99698998...    28     2  1294   \n",
       "3  {\"type\":\"Polygon\",\"coordinates\":[[[44.72154181...    19     5  2859   \n",
       "4  {\"type\":\"Polygon\",\"coordinates\":[[[34.77829934...    33     4  3685   \n",
       "\n",
       "   nd_mean_2021-04-15  nd_mean_2021-04-16  nd_mean_2021-04-18  \\\n",
       "0            0.187150            0.072846            0.262300   \n",
       "1            0.245285            0.332928            0.349133   \n",
       "2            0.006391            0.013679            0.000000   \n",
       "3            0.293425            0.105976            0.318047   \n",
       "4            0.027983            0.130885            0.117227   \n",
       "\n",
       "   nd_mean_2021-04-19  nd_mean_2021-04-20  nd_mean_2021-04-22  ...  \\\n",
       "0            0.261778            0.063134            0.062981  ...   \n",
       "1            0.287182            0.064671            0.097138  ...   \n",
       "2            0.007055            0.000000            0.120804  ...   \n",
       "3            0.052500            0.153700            0.001917  ...   \n",
       "4            0.063492            0.040565            0.024416  ...   \n",
       "\n",
       "   nd_mean_2021-07-29  nd_mean_2021-07-31  nd_mean_2021-08-01  \\\n",
       "0            0.727516            0.000000            0.754859   \n",
       "1            0.666918            0.089721            0.706226   \n",
       "2            0.321827            0.411168            0.000000   \n",
       "3            0.000000            0.055983            0.152193   \n",
       "4            0.833694            0.611108            0.772962   \n",
       "\n",
       "   nd_mean_2021-08-07  nd_mean_2021-08-10  nd_mean_2021-08-11  \\\n",
       "0            0.000000            0.030883            0.000000   \n",
       "1            0.184231            0.062582            0.618475   \n",
       "2            0.357296            0.045370            0.172080   \n",
       "3            0.060656            0.352723            0.379196   \n",
       "4            0.000000            0.080592            0.000000   \n",
       "\n",
       "   nd_mean_2021-08-12  nd_mean_2021-08-13  nd_mean_2021-08-23  \\\n",
       "0            0.658016            0.126832            0.034858   \n",
       "1            0.601685            0.174914            0.000000   \n",
       "2            0.000000            0.090607            0.000000   \n",
       "3            0.327025            0.073492            0.061776   \n",
       "4            0.055220            0.157676            0.022251   \n",
       "\n",
       "   nd_mean_2021-08-27  \n",
       "0            0.614770  \n",
       "1            0.179612  \n",
       "2            0.054127  \n",
       "3            0.378900  \n",
       "4            0.012048  \n",
       "\n",
       "[5 rows x 74 columns]"
      ]
     },
     "execution_count": 14,
     "metadata": {},
     "output_type": "execute_result"
    }
   ],
   "source": [
    "df.head()"
   ]
  },
  {
   "cell_type": "markdown",
   "metadata": {
    "id": "WIFh_dnOhj1V"
   },
   "source": [
    "## Выделим выборки"
   ]
  },
  {
   "cell_type": "code",
   "execution_count": 15,
   "metadata": {
    "id": "mkCL9b-8hmZ1"
   },
   "outputs": [],
   "source": [
    "x = df.drop([\"id\",\".geo\",\"crop\"], axis = 1)\n",
    "y = df[[\"crop\"]]"
   ]
  },
  {
   "cell_type": "code",
   "execution_count": 16,
   "metadata": {
    "colab": {
     "base_uri": "https://localhost:8080/",
     "height": 317
    },
    "id": "syYVXkxwl1IF",
    "outputId": "66c3a2e3-5cf6-440d-9517-4ec679f6799d",
    "scrolled": true
   },
   "outputs": [
    {
     "data": {
      "text/html": [
       "<div>\n",
       "<style scoped>\n",
       "    .dataframe tbody tr th:only-of-type {\n",
       "        vertical-align: middle;\n",
       "    }\n",
       "\n",
       "    .dataframe tbody tr th {\n",
       "        vertical-align: top;\n",
       "    }\n",
       "\n",
       "    .dataframe thead th {\n",
       "        text-align: right;\n",
       "    }\n",
       "</style>\n",
       "<table border=\"1\" class=\"dataframe\">\n",
       "  <thead>\n",
       "    <tr style=\"text-align: right;\">\n",
       "      <th></th>\n",
       "      <th>area</th>\n",
       "      <th>nd_mean_2021-04-15</th>\n",
       "      <th>nd_mean_2021-04-16</th>\n",
       "      <th>nd_mean_2021-04-18</th>\n",
       "      <th>nd_mean_2021-04-19</th>\n",
       "      <th>nd_mean_2021-04-20</th>\n",
       "      <th>nd_mean_2021-04-22</th>\n",
       "      <th>nd_mean_2021-04-23</th>\n",
       "      <th>nd_mean_2021-04-25</th>\n",
       "      <th>nd_mean_2021-04-26</th>\n",
       "      <th>...</th>\n",
       "      <th>nd_mean_2021-07-29</th>\n",
       "      <th>nd_mean_2021-07-31</th>\n",
       "      <th>nd_mean_2021-08-01</th>\n",
       "      <th>nd_mean_2021-08-07</th>\n",
       "      <th>nd_mean_2021-08-10</th>\n",
       "      <th>nd_mean_2021-08-11</th>\n",
       "      <th>nd_mean_2021-08-12</th>\n",
       "      <th>nd_mean_2021-08-13</th>\n",
       "      <th>nd_mean_2021-08-23</th>\n",
       "      <th>nd_mean_2021-08-27</th>\n",
       "    </tr>\n",
       "  </thead>\n",
       "  <tbody>\n",
       "    <tr>\n",
       "      <th>0</th>\n",
       "      <td>20</td>\n",
       "      <td>0.187150</td>\n",
       "      <td>0.072846</td>\n",
       "      <td>0.262300</td>\n",
       "      <td>0.261778</td>\n",
       "      <td>0.063134</td>\n",
       "      <td>0.062981</td>\n",
       "      <td>0.000000</td>\n",
       "      <td>0.077577</td>\n",
       "      <td>0.104442</td>\n",
       "      <td>...</td>\n",
       "      <td>0.727516</td>\n",
       "      <td>0.000000</td>\n",
       "      <td>0.754859</td>\n",
       "      <td>0.000000</td>\n",
       "      <td>0.030883</td>\n",
       "      <td>0.000000</td>\n",
       "      <td>0.658016</td>\n",
       "      <td>0.126832</td>\n",
       "      <td>0.034858</td>\n",
       "      <td>0.614770</td>\n",
       "    </tr>\n",
       "    <tr>\n",
       "      <th>1</th>\n",
       "      <td>45</td>\n",
       "      <td>0.245285</td>\n",
       "      <td>0.332928</td>\n",
       "      <td>0.349133</td>\n",
       "      <td>0.287182</td>\n",
       "      <td>0.064671</td>\n",
       "      <td>0.097138</td>\n",
       "      <td>0.024539</td>\n",
       "      <td>0.173578</td>\n",
       "      <td>0.152467</td>\n",
       "      <td>...</td>\n",
       "      <td>0.666918</td>\n",
       "      <td>0.089721</td>\n",
       "      <td>0.706226</td>\n",
       "      <td>0.184231</td>\n",
       "      <td>0.062582</td>\n",
       "      <td>0.618475</td>\n",
       "      <td>0.601685</td>\n",
       "      <td>0.174914</td>\n",
       "      <td>0.000000</td>\n",
       "      <td>0.179612</td>\n",
       "    </tr>\n",
       "    <tr>\n",
       "      <th>2</th>\n",
       "      <td>28</td>\n",
       "      <td>0.006391</td>\n",
       "      <td>0.013679</td>\n",
       "      <td>0.000000</td>\n",
       "      <td>0.007055</td>\n",
       "      <td>0.000000</td>\n",
       "      <td>0.120804</td>\n",
       "      <td>0.112471</td>\n",
       "      <td>0.041751</td>\n",
       "      <td>0.037839</td>\n",
       "      <td>...</td>\n",
       "      <td>0.321827</td>\n",
       "      <td>0.411168</td>\n",
       "      <td>0.000000</td>\n",
       "      <td>0.357296</td>\n",
       "      <td>0.045370</td>\n",
       "      <td>0.172080</td>\n",
       "      <td>0.000000</td>\n",
       "      <td>0.090607</td>\n",
       "      <td>0.000000</td>\n",
       "      <td>0.054127</td>\n",
       "    </tr>\n",
       "    <tr>\n",
       "      <th>3</th>\n",
       "      <td>19</td>\n",
       "      <td>0.293425</td>\n",
       "      <td>0.105976</td>\n",
       "      <td>0.318047</td>\n",
       "      <td>0.052500</td>\n",
       "      <td>0.153700</td>\n",
       "      <td>0.001917</td>\n",
       "      <td>0.045054</td>\n",
       "      <td>0.072589</td>\n",
       "      <td>0.011531</td>\n",
       "      <td>...</td>\n",
       "      <td>0.000000</td>\n",
       "      <td>0.055983</td>\n",
       "      <td>0.152193</td>\n",
       "      <td>0.060656</td>\n",
       "      <td>0.352723</td>\n",
       "      <td>0.379196</td>\n",
       "      <td>0.327025</td>\n",
       "      <td>0.073492</td>\n",
       "      <td>0.061776</td>\n",
       "      <td>0.378900</td>\n",
       "    </tr>\n",
       "    <tr>\n",
       "      <th>4</th>\n",
       "      <td>33</td>\n",
       "      <td>0.027983</td>\n",
       "      <td>0.130885</td>\n",
       "      <td>0.117227</td>\n",
       "      <td>0.063492</td>\n",
       "      <td>0.040565</td>\n",
       "      <td>0.024416</td>\n",
       "      <td>0.163886</td>\n",
       "      <td>0.109385</td>\n",
       "      <td>0.000000</td>\n",
       "      <td>...</td>\n",
       "      <td>0.833694</td>\n",
       "      <td>0.611108</td>\n",
       "      <td>0.772962</td>\n",
       "      <td>0.000000</td>\n",
       "      <td>0.080592</td>\n",
       "      <td>0.000000</td>\n",
       "      <td>0.055220</td>\n",
       "      <td>0.157676</td>\n",
       "      <td>0.022251</td>\n",
       "      <td>0.012048</td>\n",
       "    </tr>\n",
       "  </tbody>\n",
       "</table>\n",
       "<p>5 rows × 71 columns</p>\n",
       "</div>"
      ],
      "text/plain": [
       "   area  nd_mean_2021-04-15  nd_mean_2021-04-16  nd_mean_2021-04-18  \\\n",
       "0    20            0.187150            0.072846            0.262300   \n",
       "1    45            0.245285            0.332928            0.349133   \n",
       "2    28            0.006391            0.013679            0.000000   \n",
       "3    19            0.293425            0.105976            0.318047   \n",
       "4    33            0.027983            0.130885            0.117227   \n",
       "\n",
       "   nd_mean_2021-04-19  nd_mean_2021-04-20  nd_mean_2021-04-22  \\\n",
       "0            0.261778            0.063134            0.062981   \n",
       "1            0.287182            0.064671            0.097138   \n",
       "2            0.007055            0.000000            0.120804   \n",
       "3            0.052500            0.153700            0.001917   \n",
       "4            0.063492            0.040565            0.024416   \n",
       "\n",
       "   nd_mean_2021-04-23  nd_mean_2021-04-25  nd_mean_2021-04-26  ...  \\\n",
       "0            0.000000            0.077577            0.104442  ...   \n",
       "1            0.024539            0.173578            0.152467  ...   \n",
       "2            0.112471            0.041751            0.037839  ...   \n",
       "3            0.045054            0.072589            0.011531  ...   \n",
       "4            0.163886            0.109385            0.000000  ...   \n",
       "\n",
       "   nd_mean_2021-07-29  nd_mean_2021-07-31  nd_mean_2021-08-01  \\\n",
       "0            0.727516            0.000000            0.754859   \n",
       "1            0.666918            0.089721            0.706226   \n",
       "2            0.321827            0.411168            0.000000   \n",
       "3            0.000000            0.055983            0.152193   \n",
       "4            0.833694            0.611108            0.772962   \n",
       "\n",
       "   nd_mean_2021-08-07  nd_mean_2021-08-10  nd_mean_2021-08-11  \\\n",
       "0            0.000000            0.030883            0.000000   \n",
       "1            0.184231            0.062582            0.618475   \n",
       "2            0.357296            0.045370            0.172080   \n",
       "3            0.060656            0.352723            0.379196   \n",
       "4            0.000000            0.080592            0.000000   \n",
       "\n",
       "   nd_mean_2021-08-12  nd_mean_2021-08-13  nd_mean_2021-08-23  \\\n",
       "0            0.658016            0.126832            0.034858   \n",
       "1            0.601685            0.174914            0.000000   \n",
       "2            0.000000            0.090607            0.000000   \n",
       "3            0.327025            0.073492            0.061776   \n",
       "4            0.055220            0.157676            0.022251   \n",
       "\n",
       "   nd_mean_2021-08-27  \n",
       "0            0.614770  \n",
       "1            0.179612  \n",
       "2            0.054127  \n",
       "3            0.378900  \n",
       "4            0.012048  \n",
       "\n",
       "[5 rows x 71 columns]"
      ]
     },
     "execution_count": 16,
     "metadata": {},
     "output_type": "execute_result"
    }
   ],
   "source": [
    "x.head()"
   ]
  },
  {
   "cell_type": "markdown",
   "metadata": {
    "id": "60NotS9ehbO5"
   },
   "source": [
    "## Обучение модели"
   ]
  },
  {
   "cell_type": "markdown",
   "metadata": {},
   "source": [
    "Разобьем данные на тренировочную и тестовую выборку.\n",
    "\n",
    "Будем тестировать метрику **RECALL** на моделях случайного леса и CatBoost. БУдем считать качество на:\n",
    "\n",
    "* 1)Отсортированный датасет со всеми признаками\n",
    "* 2)Посмотрим какие признаки являются самыми важными у модели, проведем тестирование с учетом исключения части менее важных признаков\n",
    "* 3)Замена нулевых значений на среднее арифмитическое двух соседних столбцов\n",
    "* 4)Нормализация данных"
   ]
  },
  {
   "cell_type": "code",
   "execution_count": 17,
   "metadata": {
    "id": "NfIOX9Lbik_i"
   },
   "outputs": [],
   "source": [
    "x_train, x_test, y_train, y_test = train_test_split(x, y, test_size=0.7, random_state=12345)"
   ]
  },
  {
   "cell_type": "markdown",
   "metadata": {},
   "source": [
    "Сделаем две функции для моделей случайного леса и бустинга(Catboost). Внутри каждой функции будем считать нашу метрику RECALL, и подбирать наиболее подходящие гипперпараметры\n"
   ]
  },
  {
   "cell_type": "code",
   "execution_count": 18,
   "metadata": {},
   "outputs": [],
   "source": [
    "def cat(x_train, x_test, y_train, y_test):\n",
    "    best_model = None\n",
    "    best_recall = 0\n",
    "    best_depth = 0\n",
    "    best_iterations = 0\n",
    "\n",
    "    \n",
    "    \n",
    "    \n",
    "\n",
    "    for iteration in range(211, 511,100):\n",
    "        for dept in range (4, 7, 1):\n",
    "            model = CatBoostClassifier(loss_function=\"MultiClass\", iterations=iteration,depth=dept,task_type='CPU')\n",
    "            model.fit(x_train,y_train,  verbose=300) \n",
    "            predicted = model.predict(x_test)\n",
    "            recall = recall_score(y_test, predicted, average=\"macro\", zero_division=0)\n",
    "            if recall > best_recall:\n",
    "                best_model = model\n",
    "                best_recall = recall   \n",
    "                best_depth = dept\n",
    "                best_iterations = iteration\n",
    "\n",
    "                    \n",
    "                \n",
    "\n",
    "\n",
    "    display(\"Наилучшее recall:\", best_recall)\n",
    "    display(\"Наилучшая максимальной глубина:\", best_depth)\n",
    "    display(\"Наилучшее количество итераций:\", best_iterations)\n"
   ]
  },
  {
   "cell_type": "code",
   "execution_count": 19,
   "metadata": {},
   "outputs": [],
   "source": [
    "def forest(x_train, x_test, y_train, y_test):\n",
    "    best_model = None\n",
    "    best_recall = 0\n",
    "    best_depth = 0\n",
    "    best_estimators = 0\n",
    "    best_features = 0\n",
    "    \n",
    "    \n",
    "    \n",
    "    \n",
    "    for est in range(1000, 2001, 100):\n",
    "        for depth in range (13, 20):\n",
    "            model = RandomForestClassifier(random_state=12345, n_estimators= est,max_depth=depth, n_jobs = -1) \n",
    "            model.fit(x_train,y_train) \n",
    "            predicted = model.predict(x_test)\n",
    "            recall = recall_score(y_test, predicted, average=\"macro\", zero_division=0)\n",
    "            if recall > best_recall:\n",
    "                best_model = model\n",
    "                best_recall = recall   \n",
    "                best_depth = depth\n",
    "                best_estimators = est\n",
    "               \n",
    "                \n",
    "\n",
    "\n",
    "    display(\"Наилучшее recall:\", best_recall)\n",
    "    display(\"Наилучшая максимальной глубина:\", best_depth)\n",
    "    display(\"Наилучшее количество итераций:\", best_estimators)\n",
    "    \n",
    "    "
   ]
  },
  {
   "cell_type": "markdown",
   "metadata": {},
   "source": [
    "### Отсортированный датасет со всеми признаками"
   ]
  },
  {
   "cell_type": "code",
   "execution_count": 20,
   "metadata": {
    "scrolled": false
   },
   "outputs": [
    {
     "name": "stdout",
     "output_type": "stream",
     "text": [
      "Learning rate set to 0.300275\n",
      "0:\tlearn: 1.5272335\ttotal: 238ms\tremaining: 50s\n",
      "210:\tlearn: 0.0437688\ttotal: 9.59s\tremaining: 0us\n",
      "Learning rate set to 0.300275\n",
      "0:\tlearn: 1.5398151\ttotal: 134ms\tremaining: 28.1s\n",
      "210:\tlearn: 0.0298738\ttotal: 16s\tremaining: 0us\n",
      "Learning rate set to 0.300275\n",
      "0:\tlearn: 1.5042362\ttotal: 178ms\tremaining: 37.4s\n",
      "210:\tlearn: 0.0226374\ttotal: 31s\tremaining: 0us\n",
      "Learning rate set to 0.216349\n",
      "0:\tlearn: 1.6265749\ttotal: 57.8ms\tremaining: 17.9s\n",
      "300:\tlearn: 0.0407359\ttotal: 11.1s\tremaining: 368ms\n",
      "310:\tlearn: 0.0392370\ttotal: 11.4s\tremaining: 0us\n",
      "Learning rate set to 0.216349\n",
      "0:\tlearn: 1.6382961\ttotal: 86.2ms\tremaining: 26.7s\n",
      "300:\tlearn: 0.0279221\ttotal: 22s\tremaining: 730ms\n",
      "310:\tlearn: 0.0266775\ttotal: 22.7s\tremaining: 0us\n",
      "Learning rate set to 0.216349\n",
      "0:\tlearn: 1.6125301\ttotal: 168ms\tremaining: 51.9s\n",
      "300:\tlearn: 0.0200405\ttotal: 43s\tremaining: 1.43s\n",
      "310:\tlearn: 0.0190573\ttotal: 44.5s\tremaining: 0us\n",
      "Learning rate set to 0.170939\n",
      "0:\tlearn: 1.6865450\ttotal: 53.6ms\tremaining: 22s\n",
      "300:\tlearn: 0.0546578\ttotal: 10.6s\tremaining: 3.88s\n",
      "410:\tlearn: 0.0365521\ttotal: 14.6s\tremaining: 0us\n",
      "Learning rate set to 0.170939\n",
      "0:\tlearn: 1.6968611\ttotal: 81.7ms\tremaining: 33.5s\n",
      "300:\tlearn: 0.0380949\ttotal: 20.7s\tremaining: 7.58s\n",
      "410:\tlearn: 0.0243896\ttotal: 28.3s\tremaining: 0us\n",
      "Learning rate set to 0.170939\n",
      "0:\tlearn: 1.6764723\ttotal: 170ms\tremaining: 1m 9s\n",
      "300:\tlearn: 0.0306897\ttotal: 40s\tremaining: 14.6s\n",
      "410:\tlearn: 0.0198643\ttotal: 54.9s\tremaining: 0us\n"
     ]
    },
    {
     "data": {
      "text/plain": [
       "'Наилучшее recall:'"
      ]
     },
     "metadata": {},
     "output_type": "display_data"
    },
    {
     "data": {
      "text/plain": [
       "0.9530046393529966"
      ]
     },
     "metadata": {},
     "output_type": "display_data"
    },
    {
     "data": {
      "text/plain": [
       "'Наилучшая максимальной глубина:'"
      ]
     },
     "metadata": {},
     "output_type": "display_data"
    },
    {
     "data": {
      "text/plain": [
       "5"
      ]
     },
     "metadata": {},
     "output_type": "display_data"
    },
    {
     "data": {
      "text/plain": [
       "'Наилучшее количество итераций:'"
      ]
     },
     "metadata": {},
     "output_type": "display_data"
    },
    {
     "data": {
      "text/plain": [
       "411"
      ]
     },
     "metadata": {},
     "output_type": "display_data"
    },
    {
     "data": {
      "text/plain": [
       "None"
      ]
     },
     "metadata": {},
     "output_type": "display_data"
    }
   ],
   "source": [
    "display(cat(x_train, x_test, y_train, y_test))"
   ]
  },
  {
   "cell_type": "markdown",
   "metadata": {},
   "source": [
    "Сохраним и обучим лучшую модель CatBoost"
   ]
  },
  {
   "cell_type": "code",
   "execution_count": 21,
   "metadata": {
    "scrolled": false
   },
   "outputs": [
    {
     "name": "stdout",
     "output_type": "stream",
     "text": [
      "Learning rate set to 0.181764\n",
      "0:\tlearn: 1.5585719\ttotal: 92.8ms\tremaining: 38.1s\n",
      "300:\tlearn: 0.0419888\ttotal: 24.1s\tremaining: 8.79s\n",
      "410:\tlearn: 0.0288177\ttotal: 32.5s\tremaining: 0us\n"
     ]
    },
    {
     "data": {
      "text/plain": [
       "<catboost.core.CatBoostClassifier at 0x20bf26c0370>"
      ]
     },
     "execution_count": 21,
     "metadata": {},
     "output_type": "execute_result"
    }
   ],
   "source": [
    "model_cb_best = CatBoostClassifier(loss_function=\"MultiClass\", iterations=411,depth=5,task_type='CPU')\n",
    "model_cb_best.fit(x,y,verbose=300) \n"
   ]
  },
  {
   "cell_type": "code",
   "execution_count": 22,
   "metadata": {
    "scrolled": false
   },
   "outputs": [
    {
     "data": {
      "text/plain": [
       "'Наилучшее recall:'"
      ]
     },
     "metadata": {},
     "output_type": "display_data"
    },
    {
     "data": {
      "text/plain": [
       "0.9559291919332542"
      ]
     },
     "metadata": {},
     "output_type": "display_data"
    },
    {
     "data": {
      "text/plain": [
       "'Наилучшая максимальной глубина:'"
      ]
     },
     "metadata": {},
     "output_type": "display_data"
    },
    {
     "data": {
      "text/plain": [
       "17"
      ]
     },
     "metadata": {},
     "output_type": "display_data"
    },
    {
     "data": {
      "text/plain": [
       "'Наилучшее количество итераций:'"
      ]
     },
     "metadata": {},
     "output_type": "display_data"
    },
    {
     "data": {
      "text/plain": [
       "1700"
      ]
     },
     "metadata": {},
     "output_type": "display_data"
    },
    {
     "data": {
      "text/plain": [
       "None"
      ]
     },
     "metadata": {},
     "output_type": "display_data"
    }
   ],
   "source": [
    "display(forest(x_train, x_test, y_train, y_test))"
   ]
  },
  {
   "cell_type": "markdown",
   "metadata": {},
   "source": [
    "Сохраним и обучим лучшую модель случайного леса"
   ]
  },
  {
   "cell_type": "code",
   "execution_count": 23,
   "metadata": {
    "scrolled": false
   },
   "outputs": [
    {
     "data": {
      "text/plain": [
       "RandomForestClassifier(max_depth=10, n_estimators=1000, random_state=12345)"
      ]
     },
     "execution_count": 23,
     "metadata": {},
     "output_type": "execute_result"
    }
   ],
   "source": [
    "model_forest_best = RandomForestClassifier(random_state = 12345, n_estimators= 1700,max_depth=17)\n",
    "model_forest_best.fit(x, y)"
   ]
  },
  {
   "cell_type": "markdown",
   "metadata": {},
   "source": [
    "### Посмотрим какие признаки являются самыми важными у модели, проведем тестирование с учетом исключения части менее важных признаков и оценим новое качество"
   ]
  },
  {
   "cell_type": "markdown",
   "metadata": {},
   "source": [
    "Посмотрим какие признаки самые важные"
   ]
  },
  {
   "cell_type": "code",
   "execution_count": 24,
   "metadata": {
    "scrolled": false
   },
   "outputs": [
    {
     "data": {
      "text/html": [
       "<div>\n",
       "<style scoped>\n",
       "    .dataframe tbody tr th:only-of-type {\n",
       "        vertical-align: middle;\n",
       "    }\n",
       "\n",
       "    .dataframe tbody tr th {\n",
       "        vertical-align: top;\n",
       "    }\n",
       "\n",
       "    .dataframe thead th {\n",
       "        text-align: right;\n",
       "    }\n",
       "</style>\n",
       "<table border=\"1\" class=\"dataframe\">\n",
       "  <thead>\n",
       "    <tr style=\"text-align: right;\">\n",
       "      <th></th>\n",
       "      <th>cols</th>\n",
       "      <th>imp</th>\n",
       "    </tr>\n",
       "  </thead>\n",
       "  <tbody>\n",
       "    <tr>\n",
       "      <th>21</th>\n",
       "      <td>nd_mean_2021-05-10</td>\n",
       "      <td>0.074071</td>\n",
       "    </tr>\n",
       "    <tr>\n",
       "      <th>42</th>\n",
       "      <td>nd_mean_2021-06-16</td>\n",
       "      <td>0.063790</td>\n",
       "    </tr>\n",
       "    <tr>\n",
       "      <th>25</th>\n",
       "      <td>nd_mean_2021-05-19</td>\n",
       "      <td>0.038161</td>\n",
       "    </tr>\n",
       "    <tr>\n",
       "      <th>63</th>\n",
       "      <td>nd_mean_2021-08-01</td>\n",
       "      <td>0.036846</td>\n",
       "    </tr>\n",
       "    <tr>\n",
       "      <th>22</th>\n",
       "      <td>nd_mean_2021-05-15</td>\n",
       "      <td>0.033270</td>\n",
       "    </tr>\n",
       "    <tr>\n",
       "      <th>60</th>\n",
       "      <td>nd_mean_2021-07-27</td>\n",
       "      <td>0.031920</td>\n",
       "    </tr>\n",
       "    <tr>\n",
       "      <th>68</th>\n",
       "      <td>nd_mean_2021-08-13</td>\n",
       "      <td>0.031385</td>\n",
       "    </tr>\n",
       "    <tr>\n",
       "      <th>48</th>\n",
       "      <td>nd_mean_2021-06-27</td>\n",
       "      <td>0.031264</td>\n",
       "    </tr>\n",
       "    <tr>\n",
       "      <th>38</th>\n",
       "      <td>nd_mean_2021-06-09</td>\n",
       "      <td>0.029997</td>\n",
       "    </tr>\n",
       "    <tr>\n",
       "      <th>69</th>\n",
       "      <td>nd_mean_2021-08-23</td>\n",
       "      <td>0.027784</td>\n",
       "    </tr>\n",
       "  </tbody>\n",
       "</table>\n",
       "</div>"
      ],
      "text/plain": [
       "                  cols       imp\n",
       "21  nd_mean_2021-05-10  0.074071\n",
       "42  nd_mean_2021-06-16  0.063790\n",
       "25  nd_mean_2021-05-19  0.038161\n",
       "63  nd_mean_2021-08-01  0.036846\n",
       "22  nd_mean_2021-05-15  0.033270\n",
       "60  nd_mean_2021-07-27  0.031920\n",
       "68  nd_mean_2021-08-13  0.031385\n",
       "48  nd_mean_2021-06-27  0.031264\n",
       "38  nd_mean_2021-06-09  0.029997\n",
       "69  nd_mean_2021-08-23  0.027784"
      ]
     },
     "metadata": {},
     "output_type": "display_data"
    }
   ],
   "source": [
    "def rf_feat_importance(m, df):\n",
    "    return pd.DataFrame({'cols':df.columns, 'imp':m.feature_importances_}\n",
    "                       ).sort_values('imp', ascending=False)\n",
    "fi = rf_feat_importance(model_forest_best, x_test)\n",
    "display(fi.head(10))\n"
   ]
  },
  {
   "cell_type": "code",
   "execution_count": 25,
   "metadata": {
    "scrolled": true
   },
   "outputs": [
    {
     "data": {
      "text/plain": [
       "0.9565194920125282"
      ]
     },
     "execution_count": 25,
     "metadata": {},
     "output_type": "execute_result"
    }
   ],
   "source": [
    "px = fi['imp'].head(50).sum()\n",
    "px"
   ]
  },
  {
   "cell_type": "markdown",
   "metadata": {},
   "source": [
    "50 столбцов дают 96% данных для модели,посмотрим какой будет recall у модели с такими столбцами"
   ]
  },
  {
   "cell_type": "code",
   "execution_count": 26,
   "metadata": {
    "scrolled": true
   },
   "outputs": [],
   "source": [
    "px = fi['cols'].head(50)\n",
    "px = px.to_list()\n"
   ]
  },
  {
   "cell_type": "code",
   "execution_count": 27,
   "metadata": {
    "scrolled": false
   },
   "outputs": [],
   "source": [
    "x_2 = x.loc[:, px]"
   ]
  },
  {
   "cell_type": "code",
   "execution_count": 28,
   "metadata": {
    "scrolled": true
   },
   "outputs": [
    {
     "data": {
      "text/html": [
       "<div>\n",
       "<style scoped>\n",
       "    .dataframe tbody tr th:only-of-type {\n",
       "        vertical-align: middle;\n",
       "    }\n",
       "\n",
       "    .dataframe tbody tr th {\n",
       "        vertical-align: top;\n",
       "    }\n",
       "\n",
       "    .dataframe thead th {\n",
       "        text-align: right;\n",
       "    }\n",
       "</style>\n",
       "<table border=\"1\" class=\"dataframe\">\n",
       "  <thead>\n",
       "    <tr style=\"text-align: right;\">\n",
       "      <th></th>\n",
       "      <th>nd_mean_2021-05-10</th>\n",
       "      <th>nd_mean_2021-06-16</th>\n",
       "      <th>nd_mean_2021-05-19</th>\n",
       "      <th>nd_mean_2021-08-01</th>\n",
       "      <th>nd_mean_2021-05-15</th>\n",
       "      <th>nd_mean_2021-07-27</th>\n",
       "      <th>nd_mean_2021-08-13</th>\n",
       "      <th>nd_mean_2021-06-27</th>\n",
       "      <th>nd_mean_2021-06-09</th>\n",
       "      <th>nd_mean_2021-08-23</th>\n",
       "      <th>...</th>\n",
       "      <th>nd_mean_2021-04-19</th>\n",
       "      <th>nd_mean_2021-06-07</th>\n",
       "      <th>nd_mean_2021-08-12</th>\n",
       "      <th>nd_mean_2021-04-20</th>\n",
       "      <th>nd_mean_2021-05-07</th>\n",
       "      <th>nd_mean_2021-05-27</th>\n",
       "      <th>nd_mean_2021-05-04</th>\n",
       "      <th>nd_mean_2021-05-09</th>\n",
       "      <th>nd_mean_2021-06-05</th>\n",
       "      <th>nd_mean_2021-04-25</th>\n",
       "    </tr>\n",
       "  </thead>\n",
       "  <tbody>\n",
       "    <tr>\n",
       "      <th>0</th>\n",
       "      <td>0.213006</td>\n",
       "      <td>0.000000</td>\n",
       "      <td>0.425571</td>\n",
       "      <td>0.754859</td>\n",
       "      <td>0.358304</td>\n",
       "      <td>0.112933</td>\n",
       "      <td>0.126832</td>\n",
       "      <td>0.100555</td>\n",
       "      <td>0.441994</td>\n",
       "      <td>0.034858</td>\n",
       "      <td>...</td>\n",
       "      <td>0.261778</td>\n",
       "      <td>0.111821</td>\n",
       "      <td>0.658016</td>\n",
       "      <td>0.063134</td>\n",
       "      <td>0.000000</td>\n",
       "      <td>0.384805</td>\n",
       "      <td>0.158723</td>\n",
       "      <td>0.102757</td>\n",
       "      <td>0.000000</td>\n",
       "      <td>0.077577</td>\n",
       "    </tr>\n",
       "    <tr>\n",
       "      <th>1</th>\n",
       "      <td>0.160796</td>\n",
       "      <td>0.000000</td>\n",
       "      <td>0.248935</td>\n",
       "      <td>0.706226</td>\n",
       "      <td>0.031104</td>\n",
       "      <td>0.073804</td>\n",
       "      <td>0.174914</td>\n",
       "      <td>0.654727</td>\n",
       "      <td>0.000000</td>\n",
       "      <td>0.000000</td>\n",
       "      <td>...</td>\n",
       "      <td>0.287182</td>\n",
       "      <td>0.708402</td>\n",
       "      <td>0.601685</td>\n",
       "      <td>0.064671</td>\n",
       "      <td>0.163340</td>\n",
       "      <td>0.692873</td>\n",
       "      <td>0.140326</td>\n",
       "      <td>0.000000</td>\n",
       "      <td>0.000000</td>\n",
       "      <td>0.173578</td>\n",
       "    </tr>\n",
       "    <tr>\n",
       "      <th>2</th>\n",
       "      <td>0.151504</td>\n",
       "      <td>0.717313</td>\n",
       "      <td>0.127633</td>\n",
       "      <td>0.000000</td>\n",
       "      <td>0.002801</td>\n",
       "      <td>0.119380</td>\n",
       "      <td>0.090607</td>\n",
       "      <td>0.741171</td>\n",
       "      <td>0.516493</td>\n",
       "      <td>0.000000</td>\n",
       "      <td>...</td>\n",
       "      <td>0.007055</td>\n",
       "      <td>0.056252</td>\n",
       "      <td>0.000000</td>\n",
       "      <td>0.000000</td>\n",
       "      <td>0.506516</td>\n",
       "      <td>0.245910</td>\n",
       "      <td>0.037446</td>\n",
       "      <td>0.028961</td>\n",
       "      <td>0.210496</td>\n",
       "      <td>0.041751</td>\n",
       "    </tr>\n",
       "    <tr>\n",
       "      <th>3</th>\n",
       "      <td>0.099087</td>\n",
       "      <td>0.064643</td>\n",
       "      <td>0.527583</td>\n",
       "      <td>0.152193</td>\n",
       "      <td>0.412416</td>\n",
       "      <td>0.242224</td>\n",
       "      <td>0.073492</td>\n",
       "      <td>0.563310</td>\n",
       "      <td>0.000000</td>\n",
       "      <td>0.061776</td>\n",
       "      <td>...</td>\n",
       "      <td>0.052500</td>\n",
       "      <td>0.008742</td>\n",
       "      <td>0.327025</td>\n",
       "      <td>0.153700</td>\n",
       "      <td>0.043604</td>\n",
       "      <td>0.707093</td>\n",
       "      <td>0.000000</td>\n",
       "      <td>0.052864</td>\n",
       "      <td>0.132886</td>\n",
       "      <td>0.072589</td>\n",
       "    </tr>\n",
       "    <tr>\n",
       "      <th>4</th>\n",
       "      <td>0.066768</td>\n",
       "      <td>0.241749</td>\n",
       "      <td>0.000000</td>\n",
       "      <td>0.772962</td>\n",
       "      <td>0.001654</td>\n",
       "      <td>0.761576</td>\n",
       "      <td>0.157676</td>\n",
       "      <td>0.172385</td>\n",
       "      <td>0.019552</td>\n",
       "      <td>0.022251</td>\n",
       "      <td>...</td>\n",
       "      <td>0.063492</td>\n",
       "      <td>0.239705</td>\n",
       "      <td>0.055220</td>\n",
       "      <td>0.040565</td>\n",
       "      <td>0.101479</td>\n",
       "      <td>0.244165</td>\n",
       "      <td>0.254284</td>\n",
       "      <td>0.024860</td>\n",
       "      <td>0.152003</td>\n",
       "      <td>0.109385</td>\n",
       "    </tr>\n",
       "    <tr>\n",
       "      <th>...</th>\n",
       "      <td>...</td>\n",
       "      <td>...</td>\n",
       "      <td>...</td>\n",
       "      <td>...</td>\n",
       "      <td>...</td>\n",
       "      <td>...</td>\n",
       "      <td>...</td>\n",
       "      <td>...</td>\n",
       "      <td>...</td>\n",
       "      <td>...</td>\n",
       "      <td>...</td>\n",
       "      <td>...</td>\n",
       "      <td>...</td>\n",
       "      <td>...</td>\n",
       "      <td>...</td>\n",
       "      <td>...</td>\n",
       "      <td>...</td>\n",
       "      <td>...</td>\n",
       "      <td>...</td>\n",
       "      <td>...</td>\n",
       "      <td>...</td>\n",
       "    </tr>\n",
       "    <tr>\n",
       "      <th>4825</th>\n",
       "      <td>0.149278</td>\n",
       "      <td>0.027693</td>\n",
       "      <td>0.169733</td>\n",
       "      <td>0.700605</td>\n",
       "      <td>0.100532</td>\n",
       "      <td>0.623504</td>\n",
       "      <td>0.042483</td>\n",
       "      <td>0.672108</td>\n",
       "      <td>0.103028</td>\n",
       "      <td>0.118901</td>\n",
       "      <td>...</td>\n",
       "      <td>0.038282</td>\n",
       "      <td>0.012724</td>\n",
       "      <td>0.631144</td>\n",
       "      <td>0.000000</td>\n",
       "      <td>0.016856</td>\n",
       "      <td>0.076056</td>\n",
       "      <td>0.071684</td>\n",
       "      <td>0.013175</td>\n",
       "      <td>0.066882</td>\n",
       "      <td>0.241602</td>\n",
       "    </tr>\n",
       "    <tr>\n",
       "      <th>4826</th>\n",
       "      <td>0.149736</td>\n",
       "      <td>0.000000</td>\n",
       "      <td>0.041057</td>\n",
       "      <td>0.634428</td>\n",
       "      <td>0.070449</td>\n",
       "      <td>0.752198</td>\n",
       "      <td>0.055721</td>\n",
       "      <td>0.766793</td>\n",
       "      <td>0.177245</td>\n",
       "      <td>0.057945</td>\n",
       "      <td>...</td>\n",
       "      <td>0.030722</td>\n",
       "      <td>0.107349</td>\n",
       "      <td>0.776900</td>\n",
       "      <td>0.246513</td>\n",
       "      <td>0.286298</td>\n",
       "      <td>0.027970</td>\n",
       "      <td>0.265180</td>\n",
       "      <td>0.074903</td>\n",
       "      <td>0.131357</td>\n",
       "      <td>0.022246</td>\n",
       "    </tr>\n",
       "    <tr>\n",
       "      <th>4827</th>\n",
       "      <td>0.163403</td>\n",
       "      <td>0.090844</td>\n",
       "      <td>0.022025</td>\n",
       "      <td>0.781434</td>\n",
       "      <td>0.000000</td>\n",
       "      <td>0.642035</td>\n",
       "      <td>0.007225</td>\n",
       "      <td>0.791055</td>\n",
       "      <td>0.034476</td>\n",
       "      <td>0.669367</td>\n",
       "      <td>...</td>\n",
       "      <td>0.063581</td>\n",
       "      <td>0.060162</td>\n",
       "      <td>0.000000</td>\n",
       "      <td>0.000000</td>\n",
       "      <td>0.399439</td>\n",
       "      <td>0.275487</td>\n",
       "      <td>0.092693</td>\n",
       "      <td>0.003097</td>\n",
       "      <td>0.142930</td>\n",
       "      <td>0.218746</td>\n",
       "    </tr>\n",
       "    <tr>\n",
       "      <th>4828</th>\n",
       "      <td>0.166851</td>\n",
       "      <td>0.678164</td>\n",
       "      <td>0.490711</td>\n",
       "      <td>0.000000</td>\n",
       "      <td>0.549239</td>\n",
       "      <td>0.005442</td>\n",
       "      <td>0.031836</td>\n",
       "      <td>0.542130</td>\n",
       "      <td>0.233727</td>\n",
       "      <td>0.000000</td>\n",
       "      <td>...</td>\n",
       "      <td>0.221428</td>\n",
       "      <td>0.000000</td>\n",
       "      <td>0.528256</td>\n",
       "      <td>0.326494</td>\n",
       "      <td>0.183555</td>\n",
       "      <td>0.659813</td>\n",
       "      <td>0.112403</td>\n",
       "      <td>0.000000</td>\n",
       "      <td>0.085861</td>\n",
       "      <td>0.000000</td>\n",
       "    </tr>\n",
       "    <tr>\n",
       "      <th>4829</th>\n",
       "      <td>0.000000</td>\n",
       "      <td>0.081889</td>\n",
       "      <td>0.000000</td>\n",
       "      <td>0.735739</td>\n",
       "      <td>0.045619</td>\n",
       "      <td>0.741682</td>\n",
       "      <td>0.000000</td>\n",
       "      <td>0.793237</td>\n",
       "      <td>0.094730</td>\n",
       "      <td>0.047547</td>\n",
       "      <td>...</td>\n",
       "      <td>0.043076</td>\n",
       "      <td>0.171091</td>\n",
       "      <td>0.670171</td>\n",
       "      <td>0.146099</td>\n",
       "      <td>0.117669</td>\n",
       "      <td>0.218610</td>\n",
       "      <td>0.020173</td>\n",
       "      <td>0.143198</td>\n",
       "      <td>0.000000</td>\n",
       "      <td>0.107308</td>\n",
       "    </tr>\n",
       "  </tbody>\n",
       "</table>\n",
       "<p>4830 rows × 50 columns</p>\n",
       "</div>"
      ],
      "text/plain": [
       "      nd_mean_2021-05-10  nd_mean_2021-06-16  nd_mean_2021-05-19  \\\n",
       "0               0.213006            0.000000            0.425571   \n",
       "1               0.160796            0.000000            0.248935   \n",
       "2               0.151504            0.717313            0.127633   \n",
       "3               0.099087            0.064643            0.527583   \n",
       "4               0.066768            0.241749            0.000000   \n",
       "...                  ...                 ...                 ...   \n",
       "4825            0.149278            0.027693            0.169733   \n",
       "4826            0.149736            0.000000            0.041057   \n",
       "4827            0.163403            0.090844            0.022025   \n",
       "4828            0.166851            0.678164            0.490711   \n",
       "4829            0.000000            0.081889            0.000000   \n",
       "\n",
       "      nd_mean_2021-08-01  nd_mean_2021-05-15  nd_mean_2021-07-27  \\\n",
       "0               0.754859            0.358304            0.112933   \n",
       "1               0.706226            0.031104            0.073804   \n",
       "2               0.000000            0.002801            0.119380   \n",
       "3               0.152193            0.412416            0.242224   \n",
       "4               0.772962            0.001654            0.761576   \n",
       "...                  ...                 ...                 ...   \n",
       "4825            0.700605            0.100532            0.623504   \n",
       "4826            0.634428            0.070449            0.752198   \n",
       "4827            0.781434            0.000000            0.642035   \n",
       "4828            0.000000            0.549239            0.005442   \n",
       "4829            0.735739            0.045619            0.741682   \n",
       "\n",
       "      nd_mean_2021-08-13  nd_mean_2021-06-27  nd_mean_2021-06-09  \\\n",
       "0               0.126832            0.100555            0.441994   \n",
       "1               0.174914            0.654727            0.000000   \n",
       "2               0.090607            0.741171            0.516493   \n",
       "3               0.073492            0.563310            0.000000   \n",
       "4               0.157676            0.172385            0.019552   \n",
       "...                  ...                 ...                 ...   \n",
       "4825            0.042483            0.672108            0.103028   \n",
       "4826            0.055721            0.766793            0.177245   \n",
       "4827            0.007225            0.791055            0.034476   \n",
       "4828            0.031836            0.542130            0.233727   \n",
       "4829            0.000000            0.793237            0.094730   \n",
       "\n",
       "      nd_mean_2021-08-23  ...  nd_mean_2021-04-19  nd_mean_2021-06-07  \\\n",
       "0               0.034858  ...            0.261778            0.111821   \n",
       "1               0.000000  ...            0.287182            0.708402   \n",
       "2               0.000000  ...            0.007055            0.056252   \n",
       "3               0.061776  ...            0.052500            0.008742   \n",
       "4               0.022251  ...            0.063492            0.239705   \n",
       "...                  ...  ...                 ...                 ...   \n",
       "4825            0.118901  ...            0.038282            0.012724   \n",
       "4826            0.057945  ...            0.030722            0.107349   \n",
       "4827            0.669367  ...            0.063581            0.060162   \n",
       "4828            0.000000  ...            0.221428            0.000000   \n",
       "4829            0.047547  ...            0.043076            0.171091   \n",
       "\n",
       "      nd_mean_2021-08-12  nd_mean_2021-04-20  nd_mean_2021-05-07  \\\n",
       "0               0.658016            0.063134            0.000000   \n",
       "1               0.601685            0.064671            0.163340   \n",
       "2               0.000000            0.000000            0.506516   \n",
       "3               0.327025            0.153700            0.043604   \n",
       "4               0.055220            0.040565            0.101479   \n",
       "...                  ...                 ...                 ...   \n",
       "4825            0.631144            0.000000            0.016856   \n",
       "4826            0.776900            0.246513            0.286298   \n",
       "4827            0.000000            0.000000            0.399439   \n",
       "4828            0.528256            0.326494            0.183555   \n",
       "4829            0.670171            0.146099            0.117669   \n",
       "\n",
       "      nd_mean_2021-05-27  nd_mean_2021-05-04  nd_mean_2021-05-09  \\\n",
       "0               0.384805            0.158723            0.102757   \n",
       "1               0.692873            0.140326            0.000000   \n",
       "2               0.245910            0.037446            0.028961   \n",
       "3               0.707093            0.000000            0.052864   \n",
       "4               0.244165            0.254284            0.024860   \n",
       "...                  ...                 ...                 ...   \n",
       "4825            0.076056            0.071684            0.013175   \n",
       "4826            0.027970            0.265180            0.074903   \n",
       "4827            0.275487            0.092693            0.003097   \n",
       "4828            0.659813            0.112403            0.000000   \n",
       "4829            0.218610            0.020173            0.143198   \n",
       "\n",
       "      nd_mean_2021-06-05  nd_mean_2021-04-25  \n",
       "0               0.000000            0.077577  \n",
       "1               0.000000            0.173578  \n",
       "2               0.210496            0.041751  \n",
       "3               0.132886            0.072589  \n",
       "4               0.152003            0.109385  \n",
       "...                  ...                 ...  \n",
       "4825            0.066882            0.241602  \n",
       "4826            0.131357            0.022246  \n",
       "4827            0.142930            0.218746  \n",
       "4828            0.085861            0.000000  \n",
       "4829            0.000000            0.107308  \n",
       "\n",
       "[4830 rows x 50 columns]"
      ]
     },
     "execution_count": 28,
     "metadata": {},
     "output_type": "execute_result"
    }
   ],
   "source": [
    "x_2"
   ]
  },
  {
   "cell_type": "code",
   "execution_count": 29,
   "metadata": {},
   "outputs": [],
   "source": [
    "x_train_2, x_test_2, y_train, y_test = train_test_split(x_2, y, test_size=0.7, random_state=12345)"
   ]
  },
  {
   "cell_type": "code",
   "execution_count": 30,
   "metadata": {
    "scrolled": true
   },
   "outputs": [
    {
     "data": {
      "text/plain": [
       "'Наилучшее recall:'"
      ]
     },
     "metadata": {},
     "output_type": "display_data"
    },
    {
     "data": {
      "text/plain": [
       "0.952930333581039"
      ]
     },
     "metadata": {},
     "output_type": "display_data"
    },
    {
     "data": {
      "text/plain": [
       "'Наилучшая максимальной глубина:'"
      ]
     },
     "metadata": {},
     "output_type": "display_data"
    },
    {
     "data": {
      "text/plain": [
       "17"
      ]
     },
     "metadata": {},
     "output_type": "display_data"
    },
    {
     "data": {
      "text/plain": [
       "'Наилучшее количество итераций:'"
      ]
     },
     "metadata": {},
     "output_type": "display_data"
    },
    {
     "data": {
      "text/plain": [
       "1700"
      ]
     },
     "metadata": {},
     "output_type": "display_data"
    },
    {
     "data": {
      "text/plain": [
       "None"
      ]
     },
     "metadata": {},
     "output_type": "display_data"
    }
   ],
   "source": [
    "display(forest(x_train_2, x_test_2, y_train, y_test))"
   ]
  },
  {
   "cell_type": "code",
   "execution_count": 31,
   "metadata": {
    "scrolled": false
   },
   "outputs": [
    {
     "name": "stdout",
     "output_type": "stream",
     "text": [
      "Learning rate set to 0.300275\n",
      "0:\tlearn: 1.4253605\ttotal: 47.8ms\tremaining: 10s\n",
      "210:\tlearn: 0.0408009\ttotal: 5.73s\tremaining: 0us\n",
      "Learning rate set to 0.300275\n",
      "0:\tlearn: 1.4555098\ttotal: 54.5ms\tremaining: 11.4s\n",
      "210:\tlearn: 0.0284709\ttotal: 11.2s\tremaining: 0us\n",
      "Learning rate set to 0.300275\n",
      "0:\tlearn: 1.4197627\ttotal: 123ms\tremaining: 25.9s\n",
      "210:\tlearn: 0.0203698\ttotal: 27.9s\tremaining: 0us\n",
      "Learning rate set to 0.216349\n",
      "0:\tlearn: 1.5480951\ttotal: 34.8ms\tremaining: 10.8s\n",
      "300:\tlearn: 0.0370468\ttotal: 11.8s\tremaining: 392ms\n",
      "310:\tlearn: 0.0354333\ttotal: 12.3s\tremaining: 0us\n",
      "Learning rate set to 0.216349\n",
      "0:\tlearn: 1.5738967\ttotal: 134ms\tremaining: 41.6s\n",
      "300:\tlearn: 0.0273822\ttotal: 20s\tremaining: 665ms\n",
      "310:\tlearn: 0.0259951\ttotal: 20.9s\tremaining: 0us\n",
      "Learning rate set to 0.216349\n",
      "0:\tlearn: 1.5475590\ttotal: 187ms\tremaining: 58s\n",
      "300:\tlearn: 0.0199650\ttotal: 37.9s\tremaining: 1.26s\n",
      "310:\tlearn: 0.0190842\ttotal: 38.9s\tremaining: 0us\n",
      "Learning rate set to 0.170939\n",
      "0:\tlearn: 1.6225835\ttotal: 32.7ms\tremaining: 13.4s\n",
      "300:\tlearn: 0.0532406\ttotal: 13s\tremaining: 4.74s\n",
      "410:\tlearn: 0.0357822\ttotal: 16.2s\tremaining: 0us\n",
      "Learning rate set to 0.170939\n",
      "0:\tlearn: 1.6445703\ttotal: 58.5ms\tremaining: 24s\n",
      "300:\tlearn: 0.0367862\ttotal: 19.5s\tremaining: 7.14s\n",
      "410:\tlearn: 0.0235102\ttotal: 26.2s\tremaining: 0us\n",
      "Learning rate set to 0.170939\n",
      "0:\tlearn: 1.6235310\ttotal: 245ms\tremaining: 1m 40s\n",
      "300:\tlearn: 0.0271179\ttotal: 38s\tremaining: 13.9s\n",
      "410:\tlearn: 0.0173296\ttotal: 52.9s\tremaining: 0us\n"
     ]
    },
    {
     "data": {
      "text/plain": [
       "'Наилучшее recall:'"
      ]
     },
     "metadata": {},
     "output_type": "display_data"
    },
    {
     "data": {
      "text/plain": [
       "0.9477272882874493"
      ]
     },
     "metadata": {},
     "output_type": "display_data"
    },
    {
     "data": {
      "text/plain": [
       "'Наилучшая максимальной глубина:'"
      ]
     },
     "metadata": {},
     "output_type": "display_data"
    },
    {
     "data": {
      "text/plain": [
       "5"
      ]
     },
     "metadata": {},
     "output_type": "display_data"
    },
    {
     "data": {
      "text/plain": [
       "'Наилучшее количество итераций:'"
      ]
     },
     "metadata": {},
     "output_type": "display_data"
    },
    {
     "data": {
      "text/plain": [
       "311"
      ]
     },
     "metadata": {},
     "output_type": "display_data"
    },
    {
     "data": {
      "text/plain": [
       "None"
      ]
     },
     "metadata": {},
     "output_type": "display_data"
    }
   ],
   "source": [
    "display(cat(x_train_2, x_test_2, y_train, y_test))"
   ]
  },
  {
   "cell_type": "markdown",
   "metadata": {},
   "source": [
    "**Вывод** \n",
    "\n",
    "Качество моделей с уменьшением количества признаков падает,но незначительно"
   ]
  },
  {
   "cell_type": "markdown",
   "metadata": {},
   "source": [
    "### Замена нулевых значений на среднее арифмитическое двух соседних столбцов"
   ]
  },
  {
   "cell_type": "code",
   "execution_count": 32,
   "metadata": {},
   "outputs": [],
   "source": [
    "df_3 = df.copy()"
   ]
  },
  {
   "cell_type": "code",
   "execution_count": 33,
   "metadata": {},
   "outputs": [],
   "source": [
    "column = df_3.columns\n",
    "column = column.tolist()\n"
   ]
  },
  {
   "cell_type": "markdown",
   "metadata": {},
   "source": [
    "Заменим нулевые значения на Nan чтобы применить интеполяцию"
   ]
  },
  {
   "cell_type": "code",
   "execution_count": 34,
   "metadata": {},
   "outputs": [],
   "source": [
    "for col in column:\n",
    "    df_3.loc[df_3[col] == 0,col] = np.nan\n"
   ]
  },
  {
   "cell_type": "code",
   "execution_count": 35,
   "metadata": {
    "scrolled": false
   },
   "outputs": [
    {
     "data": {
      "text/html": [
       "<div>\n",
       "<style scoped>\n",
       "    .dataframe tbody tr th:only-of-type {\n",
       "        vertical-align: middle;\n",
       "    }\n",
       "\n",
       "    .dataframe tbody tr th {\n",
       "        vertical-align: top;\n",
       "    }\n",
       "\n",
       "    .dataframe thead th {\n",
       "        text-align: right;\n",
       "    }\n",
       "</style>\n",
       "<table border=\"1\" class=\"dataframe\">\n",
       "  <thead>\n",
       "    <tr style=\"text-align: right;\">\n",
       "      <th></th>\n",
       "      <th>.geo</th>\n",
       "      <th>area</th>\n",
       "      <th>crop</th>\n",
       "      <th>id</th>\n",
       "      <th>nd_mean_2021-04-15</th>\n",
       "      <th>nd_mean_2021-04-16</th>\n",
       "      <th>nd_mean_2021-04-18</th>\n",
       "      <th>nd_mean_2021-04-19</th>\n",
       "      <th>nd_mean_2021-04-20</th>\n",
       "      <th>nd_mean_2021-04-22</th>\n",
       "      <th>...</th>\n",
       "      <th>nd_mean_2021-07-29</th>\n",
       "      <th>nd_mean_2021-07-31</th>\n",
       "      <th>nd_mean_2021-08-01</th>\n",
       "      <th>nd_mean_2021-08-07</th>\n",
       "      <th>nd_mean_2021-08-10</th>\n",
       "      <th>nd_mean_2021-08-11</th>\n",
       "      <th>nd_mean_2021-08-12</th>\n",
       "      <th>nd_mean_2021-08-13</th>\n",
       "      <th>nd_mean_2021-08-23</th>\n",
       "      <th>nd_mean_2021-08-27</th>\n",
       "    </tr>\n",
       "  </thead>\n",
       "  <tbody>\n",
       "    <tr>\n",
       "      <th>0</th>\n",
       "      <td>{\"type\":\"Polygon\",\"coordinates\":[[[42.49107269...</td>\n",
       "      <td>20.0</td>\n",
       "      <td>3.0</td>\n",
       "      <td>3536.0</td>\n",
       "      <td>0.187150</td>\n",
       "      <td>0.072846</td>\n",
       "      <td>0.262300</td>\n",
       "      <td>0.261778</td>\n",
       "      <td>0.063134</td>\n",
       "      <td>0.062981</td>\n",
       "      <td>...</td>\n",
       "      <td>0.727516</td>\n",
       "      <td>NaN</td>\n",
       "      <td>0.754859</td>\n",
       "      <td>NaN</td>\n",
       "      <td>0.030883</td>\n",
       "      <td>NaN</td>\n",
       "      <td>0.658016</td>\n",
       "      <td>0.126832</td>\n",
       "      <td>0.034858</td>\n",
       "      <td>0.614770</td>\n",
       "    </tr>\n",
       "    <tr>\n",
       "      <th>1</th>\n",
       "      <td>{\"type\":\"Polygon\",\"coordinates\":[[[50.25545110...</td>\n",
       "      <td>45.0</td>\n",
       "      <td>4.0</td>\n",
       "      <td>3739.0</td>\n",
       "      <td>0.245285</td>\n",
       "      <td>0.332928</td>\n",
       "      <td>0.349133</td>\n",
       "      <td>0.287182</td>\n",
       "      <td>0.064671</td>\n",
       "      <td>0.097138</td>\n",
       "      <td>...</td>\n",
       "      <td>0.666918</td>\n",
       "      <td>0.089721</td>\n",
       "      <td>0.706226</td>\n",
       "      <td>0.184231</td>\n",
       "      <td>0.062582</td>\n",
       "      <td>0.618475</td>\n",
       "      <td>0.601685</td>\n",
       "      <td>0.174914</td>\n",
       "      <td>NaN</td>\n",
       "      <td>0.179612</td>\n",
       "    </tr>\n",
       "    <tr>\n",
       "      <th>2</th>\n",
       "      <td>{\"type\":\"Polygon\",\"coordinates\":[[[37.99698998...</td>\n",
       "      <td>28.0</td>\n",
       "      <td>2.0</td>\n",
       "      <td>1294.0</td>\n",
       "      <td>0.006391</td>\n",
       "      <td>0.013679</td>\n",
       "      <td>NaN</td>\n",
       "      <td>0.007055</td>\n",
       "      <td>NaN</td>\n",
       "      <td>0.120804</td>\n",
       "      <td>...</td>\n",
       "      <td>0.321827</td>\n",
       "      <td>0.411168</td>\n",
       "      <td>NaN</td>\n",
       "      <td>0.357296</td>\n",
       "      <td>0.045370</td>\n",
       "      <td>0.172080</td>\n",
       "      <td>NaN</td>\n",
       "      <td>0.090607</td>\n",
       "      <td>NaN</td>\n",
       "      <td>0.054127</td>\n",
       "    </tr>\n",
       "    <tr>\n",
       "      <th>3</th>\n",
       "      <td>{\"type\":\"Polygon\",\"coordinates\":[[[44.72154181...</td>\n",
       "      <td>19.0</td>\n",
       "      <td>5.0</td>\n",
       "      <td>2859.0</td>\n",
       "      <td>0.293425</td>\n",
       "      <td>0.105976</td>\n",
       "      <td>0.318047</td>\n",
       "      <td>0.052500</td>\n",
       "      <td>0.153700</td>\n",
       "      <td>0.001917</td>\n",
       "      <td>...</td>\n",
       "      <td>NaN</td>\n",
       "      <td>0.055983</td>\n",
       "      <td>0.152193</td>\n",
       "      <td>0.060656</td>\n",
       "      <td>0.352723</td>\n",
       "      <td>0.379196</td>\n",
       "      <td>0.327025</td>\n",
       "      <td>0.073492</td>\n",
       "      <td>0.061776</td>\n",
       "      <td>0.378900</td>\n",
       "    </tr>\n",
       "    <tr>\n",
       "      <th>4</th>\n",
       "      <td>{\"type\":\"Polygon\",\"coordinates\":[[[34.77829934...</td>\n",
       "      <td>33.0</td>\n",
       "      <td>4.0</td>\n",
       "      <td>3685.0</td>\n",
       "      <td>0.027983</td>\n",
       "      <td>0.130885</td>\n",
       "      <td>0.117227</td>\n",
       "      <td>0.063492</td>\n",
       "      <td>0.040565</td>\n",
       "      <td>0.024416</td>\n",
       "      <td>...</td>\n",
       "      <td>0.833694</td>\n",
       "      <td>0.611108</td>\n",
       "      <td>0.772962</td>\n",
       "      <td>NaN</td>\n",
       "      <td>0.080592</td>\n",
       "      <td>NaN</td>\n",
       "      <td>0.055220</td>\n",
       "      <td>0.157676</td>\n",
       "      <td>0.022251</td>\n",
       "      <td>0.012048</td>\n",
       "    </tr>\n",
       "    <tr>\n",
       "      <th>5</th>\n",
       "      <td>{\"type\":\"Polygon\",\"coordinates\":[[[52.67253376...</td>\n",
       "      <td>10.0</td>\n",
       "      <td>5.0</td>\n",
       "      <td>6443.0</td>\n",
       "      <td>0.320621</td>\n",
       "      <td>0.280111</td>\n",
       "      <td>0.307892</td>\n",
       "      <td>0.255778</td>\n",
       "      <td>0.372666</td>\n",
       "      <td>0.174677</td>\n",
       "      <td>...</td>\n",
       "      <td>0.206912</td>\n",
       "      <td>0.146268</td>\n",
       "      <td>NaN</td>\n",
       "      <td>0.019088</td>\n",
       "      <td>0.207015</td>\n",
       "      <td>0.406300</td>\n",
       "      <td>0.402006</td>\n",
       "      <td>0.040244</td>\n",
       "      <td>NaN</td>\n",
       "      <td>0.377847</td>\n",
       "    </tr>\n",
       "    <tr>\n",
       "      <th>6</th>\n",
       "      <td>{\"type\":\"Polygon\",\"coordinates\":[[[32.91307525...</td>\n",
       "      <td>22.0</td>\n",
       "      <td>4.0</td>\n",
       "      <td>6889.0</td>\n",
       "      <td>0.039325</td>\n",
       "      <td>0.065092</td>\n",
       "      <td>0.183984</td>\n",
       "      <td>0.095285</td>\n",
       "      <td>0.121045</td>\n",
       "      <td>0.317724</td>\n",
       "      <td>...</td>\n",
       "      <td>0.635466</td>\n",
       "      <td>0.588876</td>\n",
       "      <td>0.572164</td>\n",
       "      <td>0.008740</td>\n",
       "      <td>0.082670</td>\n",
       "      <td>0.597229</td>\n",
       "      <td>0.675592</td>\n",
       "      <td>0.138907</td>\n",
       "      <td>0.013020</td>\n",
       "      <td>0.030898</td>\n",
       "    </tr>\n",
       "    <tr>\n",
       "      <th>7</th>\n",
       "      <td>{\"type\":\"Polygon\",\"coordinates\":[[[54.47719421...</td>\n",
       "      <td>83.0</td>\n",
       "      <td>6.0</td>\n",
       "      <td>5703.0</td>\n",
       "      <td>NaN</td>\n",
       "      <td>0.019472</td>\n",
       "      <td>0.030816</td>\n",
       "      <td>0.250000</td>\n",
       "      <td>0.040852</td>\n",
       "      <td>NaN</td>\n",
       "      <td>...</td>\n",
       "      <td>0.602259</td>\n",
       "      <td>NaN</td>\n",
       "      <td>0.805295</td>\n",
       "      <td>0.778867</td>\n",
       "      <td>0.168473</td>\n",
       "      <td>0.178982</td>\n",
       "      <td>0.661910</td>\n",
       "      <td>0.006577</td>\n",
       "      <td>0.159913</td>\n",
       "      <td>0.073889</td>\n",
       "    </tr>\n",
       "    <tr>\n",
       "      <th>8</th>\n",
       "      <td>{\"type\":\"Polygon\",\"coordinates\":[[[49.84398324...</td>\n",
       "      <td>121.0</td>\n",
       "      <td>1.0</td>\n",
       "      <td>1112.0</td>\n",
       "      <td>0.035396</td>\n",
       "      <td>0.140723</td>\n",
       "      <td>0.234005</td>\n",
       "      <td>0.151389</td>\n",
       "      <td>NaN</td>\n",
       "      <td>0.084425</td>\n",
       "      <td>...</td>\n",
       "      <td>0.428142</td>\n",
       "      <td>NaN</td>\n",
       "      <td>0.628895</td>\n",
       "      <td>NaN</td>\n",
       "      <td>0.048167</td>\n",
       "      <td>0.656421</td>\n",
       "      <td>0.632274</td>\n",
       "      <td>0.225484</td>\n",
       "      <td>0.547460</td>\n",
       "      <td>0.237937</td>\n",
       "    </tr>\n",
       "  </tbody>\n",
       "</table>\n",
       "<p>9 rows × 74 columns</p>\n",
       "</div>"
      ],
      "text/plain": [
       "                                                .geo   area  crop      id  \\\n",
       "0  {\"type\":\"Polygon\",\"coordinates\":[[[42.49107269...   20.0   3.0  3536.0   \n",
       "1  {\"type\":\"Polygon\",\"coordinates\":[[[50.25545110...   45.0   4.0  3739.0   \n",
       "2  {\"type\":\"Polygon\",\"coordinates\":[[[37.99698998...   28.0   2.0  1294.0   \n",
       "3  {\"type\":\"Polygon\",\"coordinates\":[[[44.72154181...   19.0   5.0  2859.0   \n",
       "4  {\"type\":\"Polygon\",\"coordinates\":[[[34.77829934...   33.0   4.0  3685.0   \n",
       "5  {\"type\":\"Polygon\",\"coordinates\":[[[52.67253376...   10.0   5.0  6443.0   \n",
       "6  {\"type\":\"Polygon\",\"coordinates\":[[[32.91307525...   22.0   4.0  6889.0   \n",
       "7  {\"type\":\"Polygon\",\"coordinates\":[[[54.47719421...   83.0   6.0  5703.0   \n",
       "8  {\"type\":\"Polygon\",\"coordinates\":[[[49.84398324...  121.0   1.0  1112.0   \n",
       "\n",
       "   nd_mean_2021-04-15  nd_mean_2021-04-16  nd_mean_2021-04-18  \\\n",
       "0            0.187150            0.072846            0.262300   \n",
       "1            0.245285            0.332928            0.349133   \n",
       "2            0.006391            0.013679                 NaN   \n",
       "3            0.293425            0.105976            0.318047   \n",
       "4            0.027983            0.130885            0.117227   \n",
       "5            0.320621            0.280111            0.307892   \n",
       "6            0.039325            0.065092            0.183984   \n",
       "7                 NaN            0.019472            0.030816   \n",
       "8            0.035396            0.140723            0.234005   \n",
       "\n",
       "   nd_mean_2021-04-19  nd_mean_2021-04-20  nd_mean_2021-04-22  ...  \\\n",
       "0            0.261778            0.063134            0.062981  ...   \n",
       "1            0.287182            0.064671            0.097138  ...   \n",
       "2            0.007055                 NaN            0.120804  ...   \n",
       "3            0.052500            0.153700            0.001917  ...   \n",
       "4            0.063492            0.040565            0.024416  ...   \n",
       "5            0.255778            0.372666            0.174677  ...   \n",
       "6            0.095285            0.121045            0.317724  ...   \n",
       "7            0.250000            0.040852                 NaN  ...   \n",
       "8            0.151389                 NaN            0.084425  ...   \n",
       "\n",
       "   nd_mean_2021-07-29  nd_mean_2021-07-31  nd_mean_2021-08-01  \\\n",
       "0            0.727516                 NaN            0.754859   \n",
       "1            0.666918            0.089721            0.706226   \n",
       "2            0.321827            0.411168                 NaN   \n",
       "3                 NaN            0.055983            0.152193   \n",
       "4            0.833694            0.611108            0.772962   \n",
       "5            0.206912            0.146268                 NaN   \n",
       "6            0.635466            0.588876            0.572164   \n",
       "7            0.602259                 NaN            0.805295   \n",
       "8            0.428142                 NaN            0.628895   \n",
       "\n",
       "   nd_mean_2021-08-07  nd_mean_2021-08-10  nd_mean_2021-08-11  \\\n",
       "0                 NaN            0.030883                 NaN   \n",
       "1            0.184231            0.062582            0.618475   \n",
       "2            0.357296            0.045370            0.172080   \n",
       "3            0.060656            0.352723            0.379196   \n",
       "4                 NaN            0.080592                 NaN   \n",
       "5            0.019088            0.207015            0.406300   \n",
       "6            0.008740            0.082670            0.597229   \n",
       "7            0.778867            0.168473            0.178982   \n",
       "8                 NaN            0.048167            0.656421   \n",
       "\n",
       "   nd_mean_2021-08-12  nd_mean_2021-08-13  nd_mean_2021-08-23  \\\n",
       "0            0.658016            0.126832            0.034858   \n",
       "1            0.601685            0.174914                 NaN   \n",
       "2                 NaN            0.090607                 NaN   \n",
       "3            0.327025            0.073492            0.061776   \n",
       "4            0.055220            0.157676            0.022251   \n",
       "5            0.402006            0.040244                 NaN   \n",
       "6            0.675592            0.138907            0.013020   \n",
       "7            0.661910            0.006577            0.159913   \n",
       "8            0.632274            0.225484            0.547460   \n",
       "\n",
       "   nd_mean_2021-08-27  \n",
       "0            0.614770  \n",
       "1            0.179612  \n",
       "2            0.054127  \n",
       "3            0.378900  \n",
       "4            0.012048  \n",
       "5            0.377847  \n",
       "6            0.030898  \n",
       "7            0.073889  \n",
       "8            0.237937  \n",
       "\n",
       "[9 rows x 74 columns]"
      ]
     },
     "execution_count": 35,
     "metadata": {},
     "output_type": "execute_result"
    }
   ],
   "source": [
    "df_3.head(9)"
   ]
  },
  {
   "cell_type": "code",
   "execution_count": 36,
   "metadata": {},
   "outputs": [],
   "source": [
    "df_3 = df_3.drop([\"id\",\".geo\",\"crop\"], axis = 1)"
   ]
  },
  {
   "cell_type": "code",
   "execution_count": 37,
   "metadata": {},
   "outputs": [],
   "source": [
    "df_3 = df_3.interpolate(method = 'linear', limit_direction = 'forward', axis = 1)"
   ]
  },
  {
   "cell_type": "code",
   "execution_count": 38,
   "metadata": {
    "scrolled": false
   },
   "outputs": [
    {
     "data": {
      "text/html": [
       "<div>\n",
       "<style scoped>\n",
       "    .dataframe tbody tr th:only-of-type {\n",
       "        vertical-align: middle;\n",
       "    }\n",
       "\n",
       "    .dataframe tbody tr th {\n",
       "        vertical-align: top;\n",
       "    }\n",
       "\n",
       "    .dataframe thead th {\n",
       "        text-align: right;\n",
       "    }\n",
       "</style>\n",
       "<table border=\"1\" class=\"dataframe\">\n",
       "  <thead>\n",
       "    <tr style=\"text-align: right;\">\n",
       "      <th></th>\n",
       "      <th>area</th>\n",
       "      <th>nd_mean_2021-04-15</th>\n",
       "      <th>nd_mean_2021-04-16</th>\n",
       "      <th>nd_mean_2021-04-18</th>\n",
       "      <th>nd_mean_2021-04-19</th>\n",
       "      <th>nd_mean_2021-04-20</th>\n",
       "      <th>nd_mean_2021-04-22</th>\n",
       "      <th>nd_mean_2021-04-23</th>\n",
       "      <th>nd_mean_2021-04-25</th>\n",
       "      <th>nd_mean_2021-04-26</th>\n",
       "      <th>...</th>\n",
       "      <th>nd_mean_2021-07-29</th>\n",
       "      <th>nd_mean_2021-07-31</th>\n",
       "      <th>nd_mean_2021-08-01</th>\n",
       "      <th>nd_mean_2021-08-07</th>\n",
       "      <th>nd_mean_2021-08-10</th>\n",
       "      <th>nd_mean_2021-08-11</th>\n",
       "      <th>nd_mean_2021-08-12</th>\n",
       "      <th>nd_mean_2021-08-13</th>\n",
       "      <th>nd_mean_2021-08-23</th>\n",
       "      <th>nd_mean_2021-08-27</th>\n",
       "    </tr>\n",
       "  </thead>\n",
       "  <tbody>\n",
       "    <tr>\n",
       "      <th>0</th>\n",
       "      <td>20.0</td>\n",
       "      <td>0.187150</td>\n",
       "      <td>0.072846</td>\n",
       "      <td>0.262300</td>\n",
       "      <td>0.261778</td>\n",
       "      <td>0.063134</td>\n",
       "      <td>0.062981</td>\n",
       "      <td>0.070279</td>\n",
       "      <td>0.077577</td>\n",
       "      <td>0.104442</td>\n",
       "      <td>...</td>\n",
       "      <td>0.727516</td>\n",
       "      <td>0.741187</td>\n",
       "      <td>0.754859</td>\n",
       "      <td>0.392871</td>\n",
       "      <td>0.030883</td>\n",
       "      <td>0.344449</td>\n",
       "      <td>0.658016</td>\n",
       "      <td>0.126832</td>\n",
       "      <td>0.034858</td>\n",
       "      <td>0.614770</td>\n",
       "    </tr>\n",
       "    <tr>\n",
       "      <th>1</th>\n",
       "      <td>45.0</td>\n",
       "      <td>0.245285</td>\n",
       "      <td>0.332928</td>\n",
       "      <td>0.349133</td>\n",
       "      <td>0.287182</td>\n",
       "      <td>0.064671</td>\n",
       "      <td>0.097138</td>\n",
       "      <td>0.024539</td>\n",
       "      <td>0.173578</td>\n",
       "      <td>0.152467</td>\n",
       "      <td>...</td>\n",
       "      <td>0.666918</td>\n",
       "      <td>0.089721</td>\n",
       "      <td>0.706226</td>\n",
       "      <td>0.184231</td>\n",
       "      <td>0.062582</td>\n",
       "      <td>0.618475</td>\n",
       "      <td>0.601685</td>\n",
       "      <td>0.174914</td>\n",
       "      <td>0.177263</td>\n",
       "      <td>0.179612</td>\n",
       "    </tr>\n",
       "    <tr>\n",
       "      <th>2</th>\n",
       "      <td>28.0</td>\n",
       "      <td>0.006391</td>\n",
       "      <td>0.013679</td>\n",
       "      <td>0.010367</td>\n",
       "      <td>0.007055</td>\n",
       "      <td>0.063929</td>\n",
       "      <td>0.120804</td>\n",
       "      <td>0.112471</td>\n",
       "      <td>0.041751</td>\n",
       "      <td>0.037839</td>\n",
       "      <td>...</td>\n",
       "      <td>0.321827</td>\n",
       "      <td>0.411168</td>\n",
       "      <td>0.384232</td>\n",
       "      <td>0.357296</td>\n",
       "      <td>0.045370</td>\n",
       "      <td>0.172080</td>\n",
       "      <td>0.131344</td>\n",
       "      <td>0.090607</td>\n",
       "      <td>0.072367</td>\n",
       "      <td>0.054127</td>\n",
       "    </tr>\n",
       "    <tr>\n",
       "      <th>3</th>\n",
       "      <td>19.0</td>\n",
       "      <td>0.293425</td>\n",
       "      <td>0.105976</td>\n",
       "      <td>0.318047</td>\n",
       "      <td>0.052500</td>\n",
       "      <td>0.153700</td>\n",
       "      <td>0.001917</td>\n",
       "      <td>0.045054</td>\n",
       "      <td>0.072589</td>\n",
       "      <td>0.011531</td>\n",
       "      <td>...</td>\n",
       "      <td>0.149104</td>\n",
       "      <td>0.055983</td>\n",
       "      <td>0.152193</td>\n",
       "      <td>0.060656</td>\n",
       "      <td>0.352723</td>\n",
       "      <td>0.379196</td>\n",
       "      <td>0.327025</td>\n",
       "      <td>0.073492</td>\n",
       "      <td>0.061776</td>\n",
       "      <td>0.378900</td>\n",
       "    </tr>\n",
       "    <tr>\n",
       "      <th>4</th>\n",
       "      <td>33.0</td>\n",
       "      <td>0.027983</td>\n",
       "      <td>0.130885</td>\n",
       "      <td>0.117227</td>\n",
       "      <td>0.063492</td>\n",
       "      <td>0.040565</td>\n",
       "      <td>0.024416</td>\n",
       "      <td>0.163886</td>\n",
       "      <td>0.109385</td>\n",
       "      <td>0.065578</td>\n",
       "      <td>...</td>\n",
       "      <td>0.833694</td>\n",
       "      <td>0.611108</td>\n",
       "      <td>0.772962</td>\n",
       "      <td>0.426777</td>\n",
       "      <td>0.080592</td>\n",
       "      <td>0.067906</td>\n",
       "      <td>0.055220</td>\n",
       "      <td>0.157676</td>\n",
       "      <td>0.022251</td>\n",
       "      <td>0.012048</td>\n",
       "    </tr>\n",
       "    <tr>\n",
       "      <th>5</th>\n",
       "      <td>10.0</td>\n",
       "      <td>0.320621</td>\n",
       "      <td>0.280111</td>\n",
       "      <td>0.307892</td>\n",
       "      <td>0.255778</td>\n",
       "      <td>0.372666</td>\n",
       "      <td>0.174677</td>\n",
       "      <td>0.188795</td>\n",
       "      <td>0.007760</td>\n",
       "      <td>0.327109</td>\n",
       "      <td>...</td>\n",
       "      <td>0.206912</td>\n",
       "      <td>0.146268</td>\n",
       "      <td>0.082678</td>\n",
       "      <td>0.019088</td>\n",
       "      <td>0.207015</td>\n",
       "      <td>0.406300</td>\n",
       "      <td>0.402006</td>\n",
       "      <td>0.040244</td>\n",
       "      <td>0.209045</td>\n",
       "      <td>0.377847</td>\n",
       "    </tr>\n",
       "    <tr>\n",
       "      <th>6</th>\n",
       "      <td>22.0</td>\n",
       "      <td>0.039325</td>\n",
       "      <td>0.065092</td>\n",
       "      <td>0.183984</td>\n",
       "      <td>0.095285</td>\n",
       "      <td>0.121045</td>\n",
       "      <td>0.317724</td>\n",
       "      <td>0.113229</td>\n",
       "      <td>0.246601</td>\n",
       "      <td>0.092715</td>\n",
       "      <td>...</td>\n",
       "      <td>0.635466</td>\n",
       "      <td>0.588876</td>\n",
       "      <td>0.572164</td>\n",
       "      <td>0.008740</td>\n",
       "      <td>0.082670</td>\n",
       "      <td>0.597229</td>\n",
       "      <td>0.675592</td>\n",
       "      <td>0.138907</td>\n",
       "      <td>0.013020</td>\n",
       "      <td>0.030898</td>\n",
       "    </tr>\n",
       "    <tr>\n",
       "      <th>7</th>\n",
       "      <td>83.0</td>\n",
       "      <td>41.509736</td>\n",
       "      <td>0.019472</td>\n",
       "      <td>0.030816</td>\n",
       "      <td>0.250000</td>\n",
       "      <td>0.040852</td>\n",
       "      <td>0.057585</td>\n",
       "      <td>0.074318</td>\n",
       "      <td>0.164460</td>\n",
       "      <td>0.254601</td>\n",
       "      <td>...</td>\n",
       "      <td>0.602259</td>\n",
       "      <td>0.703777</td>\n",
       "      <td>0.805295</td>\n",
       "      <td>0.778867</td>\n",
       "      <td>0.168473</td>\n",
       "      <td>0.178982</td>\n",
       "      <td>0.661910</td>\n",
       "      <td>0.006577</td>\n",
       "      <td>0.159913</td>\n",
       "      <td>0.073889</td>\n",
       "    </tr>\n",
       "    <tr>\n",
       "      <th>8</th>\n",
       "      <td>121.0</td>\n",
       "      <td>0.035396</td>\n",
       "      <td>0.140723</td>\n",
       "      <td>0.234005</td>\n",
       "      <td>0.151389</td>\n",
       "      <td>0.117907</td>\n",
       "      <td>0.084425</td>\n",
       "      <td>0.025195</td>\n",
       "      <td>0.112824</td>\n",
       "      <td>0.200453</td>\n",
       "      <td>...</td>\n",
       "      <td>0.428142</td>\n",
       "      <td>0.528519</td>\n",
       "      <td>0.628895</td>\n",
       "      <td>0.338531</td>\n",
       "      <td>0.048167</td>\n",
       "      <td>0.656421</td>\n",
       "      <td>0.632274</td>\n",
       "      <td>0.225484</td>\n",
       "      <td>0.547460</td>\n",
       "      <td>0.237937</td>\n",
       "    </tr>\n",
       "    <tr>\n",
       "      <th>9</th>\n",
       "      <td>18.0</td>\n",
       "      <td>0.141089</td>\n",
       "      <td>0.259478</td>\n",
       "      <td>0.127862</td>\n",
       "      <td>0.275341</td>\n",
       "      <td>0.241071</td>\n",
       "      <td>0.206800</td>\n",
       "      <td>0.007376</td>\n",
       "      <td>0.060192</td>\n",
       "      <td>0.113008</td>\n",
       "      <td>...</td>\n",
       "      <td>0.473041</td>\n",
       "      <td>0.641121</td>\n",
       "      <td>0.683333</td>\n",
       "      <td>0.086119</td>\n",
       "      <td>0.092369</td>\n",
       "      <td>0.098620</td>\n",
       "      <td>0.201081</td>\n",
       "      <td>0.049767</td>\n",
       "      <td>0.048599</td>\n",
       "      <td>0.047431</td>\n",
       "    </tr>\n",
       "  </tbody>\n",
       "</table>\n",
       "<p>10 rows × 71 columns</p>\n",
       "</div>"
      ],
      "text/plain": [
       "    area  nd_mean_2021-04-15  nd_mean_2021-04-16  nd_mean_2021-04-18  \\\n",
       "0   20.0            0.187150            0.072846            0.262300   \n",
       "1   45.0            0.245285            0.332928            0.349133   \n",
       "2   28.0            0.006391            0.013679            0.010367   \n",
       "3   19.0            0.293425            0.105976            0.318047   \n",
       "4   33.0            0.027983            0.130885            0.117227   \n",
       "5   10.0            0.320621            0.280111            0.307892   \n",
       "6   22.0            0.039325            0.065092            0.183984   \n",
       "7   83.0           41.509736            0.019472            0.030816   \n",
       "8  121.0            0.035396            0.140723            0.234005   \n",
       "9   18.0            0.141089            0.259478            0.127862   \n",
       "\n",
       "   nd_mean_2021-04-19  nd_mean_2021-04-20  nd_mean_2021-04-22  \\\n",
       "0            0.261778            0.063134            0.062981   \n",
       "1            0.287182            0.064671            0.097138   \n",
       "2            0.007055            0.063929            0.120804   \n",
       "3            0.052500            0.153700            0.001917   \n",
       "4            0.063492            0.040565            0.024416   \n",
       "5            0.255778            0.372666            0.174677   \n",
       "6            0.095285            0.121045            0.317724   \n",
       "7            0.250000            0.040852            0.057585   \n",
       "8            0.151389            0.117907            0.084425   \n",
       "9            0.275341            0.241071            0.206800   \n",
       "\n",
       "   nd_mean_2021-04-23  nd_mean_2021-04-25  nd_mean_2021-04-26  ...  \\\n",
       "0            0.070279            0.077577            0.104442  ...   \n",
       "1            0.024539            0.173578            0.152467  ...   \n",
       "2            0.112471            0.041751            0.037839  ...   \n",
       "3            0.045054            0.072589            0.011531  ...   \n",
       "4            0.163886            0.109385            0.065578  ...   \n",
       "5            0.188795            0.007760            0.327109  ...   \n",
       "6            0.113229            0.246601            0.092715  ...   \n",
       "7            0.074318            0.164460            0.254601  ...   \n",
       "8            0.025195            0.112824            0.200453  ...   \n",
       "9            0.007376            0.060192            0.113008  ...   \n",
       "\n",
       "   nd_mean_2021-07-29  nd_mean_2021-07-31  nd_mean_2021-08-01  \\\n",
       "0            0.727516            0.741187            0.754859   \n",
       "1            0.666918            0.089721            0.706226   \n",
       "2            0.321827            0.411168            0.384232   \n",
       "3            0.149104            0.055983            0.152193   \n",
       "4            0.833694            0.611108            0.772962   \n",
       "5            0.206912            0.146268            0.082678   \n",
       "6            0.635466            0.588876            0.572164   \n",
       "7            0.602259            0.703777            0.805295   \n",
       "8            0.428142            0.528519            0.628895   \n",
       "9            0.473041            0.641121            0.683333   \n",
       "\n",
       "   nd_mean_2021-08-07  nd_mean_2021-08-10  nd_mean_2021-08-11  \\\n",
       "0            0.392871            0.030883            0.344449   \n",
       "1            0.184231            0.062582            0.618475   \n",
       "2            0.357296            0.045370            0.172080   \n",
       "3            0.060656            0.352723            0.379196   \n",
       "4            0.426777            0.080592            0.067906   \n",
       "5            0.019088            0.207015            0.406300   \n",
       "6            0.008740            0.082670            0.597229   \n",
       "7            0.778867            0.168473            0.178982   \n",
       "8            0.338531            0.048167            0.656421   \n",
       "9            0.086119            0.092369            0.098620   \n",
       "\n",
       "   nd_mean_2021-08-12  nd_mean_2021-08-13  nd_mean_2021-08-23  \\\n",
       "0            0.658016            0.126832            0.034858   \n",
       "1            0.601685            0.174914            0.177263   \n",
       "2            0.131344            0.090607            0.072367   \n",
       "3            0.327025            0.073492            0.061776   \n",
       "4            0.055220            0.157676            0.022251   \n",
       "5            0.402006            0.040244            0.209045   \n",
       "6            0.675592            0.138907            0.013020   \n",
       "7            0.661910            0.006577            0.159913   \n",
       "8            0.632274            0.225484            0.547460   \n",
       "9            0.201081            0.049767            0.048599   \n",
       "\n",
       "   nd_mean_2021-08-27  \n",
       "0            0.614770  \n",
       "1            0.179612  \n",
       "2            0.054127  \n",
       "3            0.378900  \n",
       "4            0.012048  \n",
       "5            0.377847  \n",
       "6            0.030898  \n",
       "7            0.073889  \n",
       "8            0.237937  \n",
       "9            0.047431  \n",
       "\n",
       "[10 rows x 71 columns]"
      ]
     },
     "execution_count": 38,
     "metadata": {},
     "output_type": "execute_result"
    }
   ],
   "source": [
    "df_3.head(10)"
   ]
  },
  {
   "cell_type": "code",
   "execution_count": 39,
   "metadata": {},
   "outputs": [],
   "source": [
    "y_3 = df[[\"crop\"]]"
   ]
  },
  {
   "cell_type": "code",
   "execution_count": 40,
   "metadata": {},
   "outputs": [],
   "source": [
    "x_train_3, x_test_3, y_train_3, y_test_3 = train_test_split(df_3, y_3, test_size=0.7, random_state=12345)"
   ]
  },
  {
   "cell_type": "code",
   "execution_count": 41,
   "metadata": {
    "scrolled": true
   },
   "outputs": [
    {
     "data": {
      "text/html": [
       "<div>\n",
       "<style scoped>\n",
       "    .dataframe tbody tr th:only-of-type {\n",
       "        vertical-align: middle;\n",
       "    }\n",
       "\n",
       "    .dataframe tbody tr th {\n",
       "        vertical-align: top;\n",
       "    }\n",
       "\n",
       "    .dataframe thead th {\n",
       "        text-align: right;\n",
       "    }\n",
       "</style>\n",
       "<table border=\"1\" class=\"dataframe\">\n",
       "  <thead>\n",
       "    <tr style=\"text-align: right;\">\n",
       "      <th></th>\n",
       "      <th>area</th>\n",
       "      <th>nd_mean_2021-04-15</th>\n",
       "      <th>nd_mean_2021-04-16</th>\n",
       "      <th>nd_mean_2021-04-18</th>\n",
       "      <th>nd_mean_2021-04-19</th>\n",
       "      <th>nd_mean_2021-04-20</th>\n",
       "      <th>nd_mean_2021-04-22</th>\n",
       "      <th>nd_mean_2021-04-23</th>\n",
       "      <th>nd_mean_2021-04-25</th>\n",
       "      <th>nd_mean_2021-04-26</th>\n",
       "      <th>...</th>\n",
       "      <th>nd_mean_2021-07-29</th>\n",
       "      <th>nd_mean_2021-07-31</th>\n",
       "      <th>nd_mean_2021-08-01</th>\n",
       "      <th>nd_mean_2021-08-07</th>\n",
       "      <th>nd_mean_2021-08-10</th>\n",
       "      <th>nd_mean_2021-08-11</th>\n",
       "      <th>nd_mean_2021-08-12</th>\n",
       "      <th>nd_mean_2021-08-13</th>\n",
       "      <th>nd_mean_2021-08-23</th>\n",
       "      <th>nd_mean_2021-08-27</th>\n",
       "    </tr>\n",
       "  </thead>\n",
       "  <tbody>\n",
       "    <tr>\n",
       "      <th>0</th>\n",
       "      <td>20.0</td>\n",
       "      <td>0.187150</td>\n",
       "      <td>0.072846</td>\n",
       "      <td>0.262300</td>\n",
       "      <td>0.261778</td>\n",
       "      <td>0.063134</td>\n",
       "      <td>0.062981</td>\n",
       "      <td>0.070279</td>\n",
       "      <td>0.077577</td>\n",
       "      <td>0.104442</td>\n",
       "      <td>...</td>\n",
       "      <td>0.727516</td>\n",
       "      <td>0.741187</td>\n",
       "      <td>0.754859</td>\n",
       "      <td>0.392871</td>\n",
       "      <td>0.030883</td>\n",
       "      <td>0.344449</td>\n",
       "      <td>0.658016</td>\n",
       "      <td>0.126832</td>\n",
       "      <td>0.034858</td>\n",
       "      <td>0.614770</td>\n",
       "    </tr>\n",
       "    <tr>\n",
       "      <th>1</th>\n",
       "      <td>45.0</td>\n",
       "      <td>0.245285</td>\n",
       "      <td>0.332928</td>\n",
       "      <td>0.349133</td>\n",
       "      <td>0.287182</td>\n",
       "      <td>0.064671</td>\n",
       "      <td>0.097138</td>\n",
       "      <td>0.024539</td>\n",
       "      <td>0.173578</td>\n",
       "      <td>0.152467</td>\n",
       "      <td>...</td>\n",
       "      <td>0.666918</td>\n",
       "      <td>0.089721</td>\n",
       "      <td>0.706226</td>\n",
       "      <td>0.184231</td>\n",
       "      <td>0.062582</td>\n",
       "      <td>0.618475</td>\n",
       "      <td>0.601685</td>\n",
       "      <td>0.174914</td>\n",
       "      <td>0.177263</td>\n",
       "      <td>0.179612</td>\n",
       "    </tr>\n",
       "    <tr>\n",
       "      <th>2</th>\n",
       "      <td>28.0</td>\n",
       "      <td>0.006391</td>\n",
       "      <td>0.013679</td>\n",
       "      <td>0.010367</td>\n",
       "      <td>0.007055</td>\n",
       "      <td>0.063929</td>\n",
       "      <td>0.120804</td>\n",
       "      <td>0.112471</td>\n",
       "      <td>0.041751</td>\n",
       "      <td>0.037839</td>\n",
       "      <td>...</td>\n",
       "      <td>0.321827</td>\n",
       "      <td>0.411168</td>\n",
       "      <td>0.384232</td>\n",
       "      <td>0.357296</td>\n",
       "      <td>0.045370</td>\n",
       "      <td>0.172080</td>\n",
       "      <td>0.131344</td>\n",
       "      <td>0.090607</td>\n",
       "      <td>0.072367</td>\n",
       "      <td>0.054127</td>\n",
       "    </tr>\n",
       "    <tr>\n",
       "      <th>3</th>\n",
       "      <td>19.0</td>\n",
       "      <td>0.293425</td>\n",
       "      <td>0.105976</td>\n",
       "      <td>0.318047</td>\n",
       "      <td>0.052500</td>\n",
       "      <td>0.153700</td>\n",
       "      <td>0.001917</td>\n",
       "      <td>0.045054</td>\n",
       "      <td>0.072589</td>\n",
       "      <td>0.011531</td>\n",
       "      <td>...</td>\n",
       "      <td>0.149104</td>\n",
       "      <td>0.055983</td>\n",
       "      <td>0.152193</td>\n",
       "      <td>0.060656</td>\n",
       "      <td>0.352723</td>\n",
       "      <td>0.379196</td>\n",
       "      <td>0.327025</td>\n",
       "      <td>0.073492</td>\n",
       "      <td>0.061776</td>\n",
       "      <td>0.378900</td>\n",
       "    </tr>\n",
       "    <tr>\n",
       "      <th>4</th>\n",
       "      <td>33.0</td>\n",
       "      <td>0.027983</td>\n",
       "      <td>0.130885</td>\n",
       "      <td>0.117227</td>\n",
       "      <td>0.063492</td>\n",
       "      <td>0.040565</td>\n",
       "      <td>0.024416</td>\n",
       "      <td>0.163886</td>\n",
       "      <td>0.109385</td>\n",
       "      <td>0.065578</td>\n",
       "      <td>...</td>\n",
       "      <td>0.833694</td>\n",
       "      <td>0.611108</td>\n",
       "      <td>0.772962</td>\n",
       "      <td>0.426777</td>\n",
       "      <td>0.080592</td>\n",
       "      <td>0.067906</td>\n",
       "      <td>0.055220</td>\n",
       "      <td>0.157676</td>\n",
       "      <td>0.022251</td>\n",
       "      <td>0.012048</td>\n",
       "    </tr>\n",
       "    <tr>\n",
       "      <th>...</th>\n",
       "      <td>...</td>\n",
       "      <td>...</td>\n",
       "      <td>...</td>\n",
       "      <td>...</td>\n",
       "      <td>...</td>\n",
       "      <td>...</td>\n",
       "      <td>...</td>\n",
       "      <td>...</td>\n",
       "      <td>...</td>\n",
       "      <td>...</td>\n",
       "      <td>...</td>\n",
       "      <td>...</td>\n",
       "      <td>...</td>\n",
       "      <td>...</td>\n",
       "      <td>...</td>\n",
       "      <td>...</td>\n",
       "      <td>...</td>\n",
       "      <td>...</td>\n",
       "      <td>...</td>\n",
       "      <td>...</td>\n",
       "      <td>...</td>\n",
       "    </tr>\n",
       "    <tr>\n",
       "      <th>4825</th>\n",
       "      <td>74.0</td>\n",
       "      <td>0.066154</td>\n",
       "      <td>0.028770</td>\n",
       "      <td>0.033526</td>\n",
       "      <td>0.038282</td>\n",
       "      <td>0.146806</td>\n",
       "      <td>0.255329</td>\n",
       "      <td>0.095812</td>\n",
       "      <td>0.241602</td>\n",
       "      <td>0.148166</td>\n",
       "      <td>...</td>\n",
       "      <td>0.683847</td>\n",
       "      <td>0.379482</td>\n",
       "      <td>0.700605</td>\n",
       "      <td>0.645532</td>\n",
       "      <td>0.352311</td>\n",
       "      <td>0.059090</td>\n",
       "      <td>0.631144</td>\n",
       "      <td>0.042483</td>\n",
       "      <td>0.118901</td>\n",
       "      <td>0.022464</td>\n",
       "    </tr>\n",
       "    <tr>\n",
       "      <th>4826</th>\n",
       "      <td>109.0</td>\n",
       "      <td>0.243867</td>\n",
       "      <td>0.035939</td>\n",
       "      <td>0.013403</td>\n",
       "      <td>0.030722</td>\n",
       "      <td>0.246513</td>\n",
       "      <td>0.033869</td>\n",
       "      <td>0.028057</td>\n",
       "      <td>0.022246</td>\n",
       "      <td>0.029646</td>\n",
       "      <td>...</td>\n",
       "      <td>0.792938</td>\n",
       "      <td>0.800815</td>\n",
       "      <td>0.634428</td>\n",
       "      <td>0.783913</td>\n",
       "      <td>0.093728</td>\n",
       "      <td>0.435314</td>\n",
       "      <td>0.776900</td>\n",
       "      <td>0.055721</td>\n",
       "      <td>0.057945</td>\n",
       "      <td>0.044182</td>\n",
       "    </tr>\n",
       "    <tr>\n",
       "      <th>4827</th>\n",
       "      <td>58.0</td>\n",
       "      <td>0.090026</td>\n",
       "      <td>0.191255</td>\n",
       "      <td>0.019897</td>\n",
       "      <td>0.063581</td>\n",
       "      <td>0.101846</td>\n",
       "      <td>0.140111</td>\n",
       "      <td>0.143922</td>\n",
       "      <td>0.218746</td>\n",
       "      <td>0.323984</td>\n",
       "      <td>...</td>\n",
       "      <td>0.627561</td>\n",
       "      <td>0.740523</td>\n",
       "      <td>0.781434</td>\n",
       "      <td>0.783490</td>\n",
       "      <td>0.006700</td>\n",
       "      <td>0.132444</td>\n",
       "      <td>0.069834</td>\n",
       "      <td>0.007225</td>\n",
       "      <td>0.669367</td>\n",
       "      <td>0.145505</td>\n",
       "    </tr>\n",
       "    <tr>\n",
       "      <th>4828</th>\n",
       "      <td>14.0</td>\n",
       "      <td>0.301663</td>\n",
       "      <td>0.291399</td>\n",
       "      <td>0.295089</td>\n",
       "      <td>0.221428</td>\n",
       "      <td>0.326494</td>\n",
       "      <td>0.007247</td>\n",
       "      <td>0.006888</td>\n",
       "      <td>0.030981</td>\n",
       "      <td>0.055074</td>\n",
       "      <td>...</td>\n",
       "      <td>0.133080</td>\n",
       "      <td>0.235802</td>\n",
       "      <td>0.157713</td>\n",
       "      <td>0.079623</td>\n",
       "      <td>0.049245</td>\n",
       "      <td>0.506127</td>\n",
       "      <td>0.528256</td>\n",
       "      <td>0.031836</td>\n",
       "      <td>0.242494</td>\n",
       "      <td>0.453151</td>\n",
       "    </tr>\n",
       "    <tr>\n",
       "      <th>4829</th>\n",
       "      <td>75.0</td>\n",
       "      <td>0.264959</td>\n",
       "      <td>0.226925</td>\n",
       "      <td>0.156903</td>\n",
       "      <td>0.043076</td>\n",
       "      <td>0.146099</td>\n",
       "      <td>0.058611</td>\n",
       "      <td>0.092287</td>\n",
       "      <td>0.107308</td>\n",
       "      <td>0.440539</td>\n",
       "      <td>...</td>\n",
       "      <td>0.172210</td>\n",
       "      <td>0.724565</td>\n",
       "      <td>0.735739</td>\n",
       "      <td>0.017059</td>\n",
       "      <td>0.096632</td>\n",
       "      <td>0.114928</td>\n",
       "      <td>0.670171</td>\n",
       "      <td>0.358859</td>\n",
       "      <td>0.047547</td>\n",
       "      <td>0.096585</td>\n",
       "    </tr>\n",
       "  </tbody>\n",
       "</table>\n",
       "<p>4830 rows × 71 columns</p>\n",
       "</div>"
      ],
      "text/plain": [
       "       area  nd_mean_2021-04-15  nd_mean_2021-04-16  nd_mean_2021-04-18  \\\n",
       "0      20.0            0.187150            0.072846            0.262300   \n",
       "1      45.0            0.245285            0.332928            0.349133   \n",
       "2      28.0            0.006391            0.013679            0.010367   \n",
       "3      19.0            0.293425            0.105976            0.318047   \n",
       "4      33.0            0.027983            0.130885            0.117227   \n",
       "...     ...                 ...                 ...                 ...   \n",
       "4825   74.0            0.066154            0.028770            0.033526   \n",
       "4826  109.0            0.243867            0.035939            0.013403   \n",
       "4827   58.0            0.090026            0.191255            0.019897   \n",
       "4828   14.0            0.301663            0.291399            0.295089   \n",
       "4829   75.0            0.264959            0.226925            0.156903   \n",
       "\n",
       "      nd_mean_2021-04-19  nd_mean_2021-04-20  nd_mean_2021-04-22  \\\n",
       "0               0.261778            0.063134            0.062981   \n",
       "1               0.287182            0.064671            0.097138   \n",
       "2               0.007055            0.063929            0.120804   \n",
       "3               0.052500            0.153700            0.001917   \n",
       "4               0.063492            0.040565            0.024416   \n",
       "...                  ...                 ...                 ...   \n",
       "4825            0.038282            0.146806            0.255329   \n",
       "4826            0.030722            0.246513            0.033869   \n",
       "4827            0.063581            0.101846            0.140111   \n",
       "4828            0.221428            0.326494            0.007247   \n",
       "4829            0.043076            0.146099            0.058611   \n",
       "\n",
       "      nd_mean_2021-04-23  nd_mean_2021-04-25  nd_mean_2021-04-26  ...  \\\n",
       "0               0.070279            0.077577            0.104442  ...   \n",
       "1               0.024539            0.173578            0.152467  ...   \n",
       "2               0.112471            0.041751            0.037839  ...   \n",
       "3               0.045054            0.072589            0.011531  ...   \n",
       "4               0.163886            0.109385            0.065578  ...   \n",
       "...                  ...                 ...                 ...  ...   \n",
       "4825            0.095812            0.241602            0.148166  ...   \n",
       "4826            0.028057            0.022246            0.029646  ...   \n",
       "4827            0.143922            0.218746            0.323984  ...   \n",
       "4828            0.006888            0.030981            0.055074  ...   \n",
       "4829            0.092287            0.107308            0.440539  ...   \n",
       "\n",
       "      nd_mean_2021-07-29  nd_mean_2021-07-31  nd_mean_2021-08-01  \\\n",
       "0               0.727516            0.741187            0.754859   \n",
       "1               0.666918            0.089721            0.706226   \n",
       "2               0.321827            0.411168            0.384232   \n",
       "3               0.149104            0.055983            0.152193   \n",
       "4               0.833694            0.611108            0.772962   \n",
       "...                  ...                 ...                 ...   \n",
       "4825            0.683847            0.379482            0.700605   \n",
       "4826            0.792938            0.800815            0.634428   \n",
       "4827            0.627561            0.740523            0.781434   \n",
       "4828            0.133080            0.235802            0.157713   \n",
       "4829            0.172210            0.724565            0.735739   \n",
       "\n",
       "      nd_mean_2021-08-07  nd_mean_2021-08-10  nd_mean_2021-08-11  \\\n",
       "0               0.392871            0.030883            0.344449   \n",
       "1               0.184231            0.062582            0.618475   \n",
       "2               0.357296            0.045370            0.172080   \n",
       "3               0.060656            0.352723            0.379196   \n",
       "4               0.426777            0.080592            0.067906   \n",
       "...                  ...                 ...                 ...   \n",
       "4825            0.645532            0.352311            0.059090   \n",
       "4826            0.783913            0.093728            0.435314   \n",
       "4827            0.783490            0.006700            0.132444   \n",
       "4828            0.079623            0.049245            0.506127   \n",
       "4829            0.017059            0.096632            0.114928   \n",
       "\n",
       "      nd_mean_2021-08-12  nd_mean_2021-08-13  nd_mean_2021-08-23  \\\n",
       "0               0.658016            0.126832            0.034858   \n",
       "1               0.601685            0.174914            0.177263   \n",
       "2               0.131344            0.090607            0.072367   \n",
       "3               0.327025            0.073492            0.061776   \n",
       "4               0.055220            0.157676            0.022251   \n",
       "...                  ...                 ...                 ...   \n",
       "4825            0.631144            0.042483            0.118901   \n",
       "4826            0.776900            0.055721            0.057945   \n",
       "4827            0.069834            0.007225            0.669367   \n",
       "4828            0.528256            0.031836            0.242494   \n",
       "4829            0.670171            0.358859            0.047547   \n",
       "\n",
       "      nd_mean_2021-08-27  \n",
       "0               0.614770  \n",
       "1               0.179612  \n",
       "2               0.054127  \n",
       "3               0.378900  \n",
       "4               0.012048  \n",
       "...                  ...  \n",
       "4825            0.022464  \n",
       "4826            0.044182  \n",
       "4827            0.145505  \n",
       "4828            0.453151  \n",
       "4829            0.096585  \n",
       "\n",
       "[4830 rows x 71 columns]"
      ]
     },
     "metadata": {},
     "output_type": "display_data"
    }
   ],
   "source": [
    "display(df_3)"
   ]
  },
  {
   "cell_type": "code",
   "execution_count": 43,
   "metadata": {
    "scrolled": true
   },
   "outputs": [
    {
     "data": {
      "text/plain": [
       "'Наилучшее recall:'"
      ]
     },
     "metadata": {},
     "output_type": "display_data"
    },
    {
     "data": {
      "text/plain": [
       "0.9096066884509347"
      ]
     },
     "metadata": {},
     "output_type": "display_data"
    },
    {
     "data": {
      "text/plain": [
       "'Наилучшая максимальной глубина:'"
      ]
     },
     "metadata": {},
     "output_type": "display_data"
    },
    {
     "data": {
      "text/plain": [
       "14"
      ]
     },
     "metadata": {},
     "output_type": "display_data"
    },
    {
     "data": {
      "text/plain": [
       "'Наилучшее количество итераций:'"
      ]
     },
     "metadata": {},
     "output_type": "display_data"
    },
    {
     "data": {
      "text/plain": [
       "1300"
      ]
     },
     "metadata": {},
     "output_type": "display_data"
    },
    {
     "data": {
      "text/plain": [
       "None"
      ]
     },
     "metadata": {},
     "output_type": "display_data"
    }
   ],
   "source": [
    "display(forest(x_train_3, x_test_3, y_train_3, y_test_3))"
   ]
  },
  {
   "cell_type": "code",
   "execution_count": 44,
   "metadata": {
    "scrolled": true
   },
   "outputs": [
    {
     "name": "stdout",
     "output_type": "stream",
     "text": [
      "Learning rate set to 0.300275\n",
      "0:\tlearn: 1.5523049\ttotal: 96.9ms\tremaining: 20.3s\n",
      "210:\tlearn: 0.0735959\ttotal: 28.7s\tremaining: 0us\n",
      "Learning rate set to 0.300275\n",
      "0:\tlearn: 1.5394568\ttotal: 163ms\tremaining: 34.1s\n",
      "210:\tlearn: 0.0519882\ttotal: 43.5s\tremaining: 0us\n",
      "Learning rate set to 0.300275\n",
      "0:\tlearn: 1.5127884\ttotal: 447ms\tremaining: 1m 33s\n",
      "210:\tlearn: 0.0374494\ttotal: 56.8s\tremaining: 0us\n",
      "Learning rate set to 0.216349\n",
      "0:\tlearn: 1.6474477\ttotal: 79.9ms\tremaining: 24.8s\n",
      "300:\tlearn: 0.0730719\ttotal: 29s\tremaining: 964ms\n",
      "310:\tlearn: 0.0705611\ttotal: 29.5s\tremaining: 0us\n",
      "Learning rate set to 0.216349\n",
      "0:\tlearn: 1.6390458\ttotal: 98.2ms\tremaining: 30.5s\n",
      "300:\tlearn: 0.0518408\ttotal: 47.6s\tremaining: 1.58s\n",
      "310:\tlearn: 0.0494276\ttotal: 49.4s\tremaining: 0us\n",
      "Learning rate set to 0.216349\n",
      "0:\tlearn: 1.6193886\ttotal: 406ms\tremaining: 2m 5s\n",
      "300:\tlearn: 0.0337452\ttotal: 1m 5s\tremaining: 2.17s\n",
      "310:\tlearn: 0.0321037\ttotal: 1m 7s\tremaining: 0us\n",
      "Learning rate set to 0.170939\n",
      "0:\tlearn: 1.7040805\ttotal: 46.6ms\tremaining: 19.1s\n",
      "300:\tlearn: 0.0906168\ttotal: 29.1s\tremaining: 10.6s\n",
      "410:\tlearn: 0.0641823\ttotal: 37.2s\tremaining: 0us\n",
      "Learning rate set to 0.170939\n",
      "0:\tlearn: 1.6978138\ttotal: 382ms\tremaining: 2m 36s\n",
      "300:\tlearn: 0.0673421\ttotal: 55.9s\tremaining: 20.4s\n",
      "410:\tlearn: 0.0452064\ttotal: 1m 12s\tremaining: 0us\n",
      "Learning rate set to 0.170939\n",
      "0:\tlearn: 1.6821368\ttotal: 249ms\tremaining: 1m 41s\n",
      "300:\tlearn: 0.0481689\ttotal: 1m 5s\tremaining: 24s\n",
      "410:\tlearn: 0.0315527\ttotal: 1m 35s\tremaining: 0us\n"
     ]
    },
    {
     "data": {
      "text/plain": [
       "'Наилучшее recall:'"
      ]
     },
     "metadata": {},
     "output_type": "display_data"
    },
    {
     "data": {
      "text/plain": [
       "0.9233090617071156"
      ]
     },
     "metadata": {},
     "output_type": "display_data"
    },
    {
     "data": {
      "text/plain": [
       "'Наилучшая максимальной глубина:'"
      ]
     },
     "metadata": {},
     "output_type": "display_data"
    },
    {
     "data": {
      "text/plain": [
       "6"
      ]
     },
     "metadata": {},
     "output_type": "display_data"
    },
    {
     "data": {
      "text/plain": [
       "'Наилучшее количество итераций:'"
      ]
     },
     "metadata": {},
     "output_type": "display_data"
    },
    {
     "data": {
      "text/plain": [
       "411"
      ]
     },
     "metadata": {},
     "output_type": "display_data"
    },
    {
     "data": {
      "text/plain": [
       "None"
      ]
     },
     "metadata": {},
     "output_type": "display_data"
    }
   ],
   "source": [
    "display(cat(x_train_3, x_test_3, y_train_3, y_test_3))"
   ]
  },
  {
   "cell_type": "markdown",
   "metadata": {},
   "source": [
    "Замена нулевых значений на среднее соседних столбцов приводит к значительному ухудшению качества предсказаний модели."
   ]
  },
  {
   "cell_type": "markdown",
   "metadata": {},
   "source": [
    "### Нормализация данных"
   ]
  },
  {
   "cell_type": "code",
   "execution_count": 45,
   "metadata": {},
   "outputs": [],
   "source": [
    "df_2 = df.copy()"
   ]
  },
  {
   "cell_type": "code",
   "execution_count": 46,
   "metadata": {},
   "outputs": [],
   "source": [
    "x_2 = df_2.drop([\"id\",\".geo\",\"crop\"], axis = 1)\n",
    "y_2 = df_2[[\"crop\"]]"
   ]
  },
  {
   "cell_type": "code",
   "execution_count": 47,
   "metadata": {},
   "outputs": [
    {
     "data": {
      "text/html": [
       "<div>\n",
       "<style scoped>\n",
       "    .dataframe tbody tr th:only-of-type {\n",
       "        vertical-align: middle;\n",
       "    }\n",
       "\n",
       "    .dataframe tbody tr th {\n",
       "        vertical-align: top;\n",
       "    }\n",
       "\n",
       "    .dataframe thead th {\n",
       "        text-align: right;\n",
       "    }\n",
       "</style>\n",
       "<table border=\"1\" class=\"dataframe\">\n",
       "  <thead>\n",
       "    <tr style=\"text-align: right;\">\n",
       "      <th></th>\n",
       "      <th>area</th>\n",
       "      <th>nd_mean_2021-04-15</th>\n",
       "      <th>nd_mean_2021-04-16</th>\n",
       "      <th>nd_mean_2021-04-18</th>\n",
       "      <th>nd_mean_2021-04-19</th>\n",
       "      <th>nd_mean_2021-04-20</th>\n",
       "      <th>nd_mean_2021-04-22</th>\n",
       "      <th>nd_mean_2021-04-23</th>\n",
       "      <th>nd_mean_2021-04-25</th>\n",
       "      <th>nd_mean_2021-04-26</th>\n",
       "      <th>...</th>\n",
       "      <th>nd_mean_2021-07-29</th>\n",
       "      <th>nd_mean_2021-07-31</th>\n",
       "      <th>nd_mean_2021-08-01</th>\n",
       "      <th>nd_mean_2021-08-07</th>\n",
       "      <th>nd_mean_2021-08-10</th>\n",
       "      <th>nd_mean_2021-08-11</th>\n",
       "      <th>nd_mean_2021-08-12</th>\n",
       "      <th>nd_mean_2021-08-13</th>\n",
       "      <th>nd_mean_2021-08-23</th>\n",
       "      <th>nd_mean_2021-08-27</th>\n",
       "    </tr>\n",
       "  </thead>\n",
       "  <tbody>\n",
       "    <tr>\n",
       "      <th>0</th>\n",
       "      <td>0.076923</td>\n",
       "      <td>0.342493</td>\n",
       "      <td>0.073755</td>\n",
       "      <td>0.335615</td>\n",
       "      <td>0.344333</td>\n",
       "      <td>0.114754</td>\n",
       "      <td>0.082388</td>\n",
       "      <td>0.045922</td>\n",
       "      <td>0.109569</td>\n",
       "      <td>0.106164</td>\n",
       "      <td>...</td>\n",
       "      <td>0.773172</td>\n",
       "      <td>0.007404</td>\n",
       "      <td>0.800899</td>\n",
       "      <td>0.000000</td>\n",
       "      <td>0.037903</td>\n",
       "      <td>0.000000</td>\n",
       "      <td>0.718557</td>\n",
       "      <td>0.141552</td>\n",
       "      <td>0.038077</td>\n",
       "      <td>0.781251</td>\n",
       "    </tr>\n",
       "    <tr>\n",
       "      <th>1</th>\n",
       "      <td>0.269231</td>\n",
       "      <td>0.441478</td>\n",
       "      <td>0.337083</td>\n",
       "      <td>0.437334</td>\n",
       "      <td>0.377749</td>\n",
       "      <td>0.117547</td>\n",
       "      <td>0.127071</td>\n",
       "      <td>0.083517</td>\n",
       "      <td>0.226964</td>\n",
       "      <td>0.154981</td>\n",
       "      <td>...</td>\n",
       "      <td>0.708771</td>\n",
       "      <td>0.102257</td>\n",
       "      <td>0.749300</td>\n",
       "      <td>0.216724</td>\n",
       "      <td>0.076809</td>\n",
       "      <td>0.709462</td>\n",
       "      <td>0.657043</td>\n",
       "      <td>0.195214</td>\n",
       "      <td>0.000000</td>\n",
       "      <td>0.228251</td>\n",
       "    </tr>\n",
       "    <tr>\n",
       "      <th>2</th>\n",
       "      <td>0.138462</td>\n",
       "      <td>0.034716</td>\n",
       "      <td>0.013850</td>\n",
       "      <td>0.028350</td>\n",
       "      <td>0.009280</td>\n",
       "      <td>0.000000</td>\n",
       "      <td>0.158030</td>\n",
       "      <td>0.218232</td>\n",
       "      <td>0.065759</td>\n",
       "      <td>0.038463</td>\n",
       "      <td>...</td>\n",
       "      <td>0.342024</td>\n",
       "      <td>0.442090</td>\n",
       "      <td>0.000000</td>\n",
       "      <td>0.420313</td>\n",
       "      <td>0.055684</td>\n",
       "      <td>0.197396</td>\n",
       "      <td>0.000000</td>\n",
       "      <td>0.101123</td>\n",
       "      <td>0.000000</td>\n",
       "      <td>0.068785</td>\n",
       "    </tr>\n",
       "    <tr>\n",
       "      <th>3</th>\n",
       "      <td>0.069231</td>\n",
       "      <td>0.523447</td>\n",
       "      <td>0.107299</td>\n",
       "      <td>0.400920</td>\n",
       "      <td>0.069057</td>\n",
       "      <td>0.279366</td>\n",
       "      <td>0.002508</td>\n",
       "      <td>0.114947</td>\n",
       "      <td>0.103470</td>\n",
       "      <td>0.011721</td>\n",
       "      <td>...</td>\n",
       "      <td>0.000000</td>\n",
       "      <td>0.066589</td>\n",
       "      <td>0.161476</td>\n",
       "      <td>0.071354</td>\n",
       "      <td>0.432912</td>\n",
       "      <td>0.434982</td>\n",
       "      <td>0.357113</td>\n",
       "      <td>0.082021</td>\n",
       "      <td>0.067482</td>\n",
       "      <td>0.481507</td>\n",
       "    </tr>\n",
       "    <tr>\n",
       "      <th>4</th>\n",
       "      <td>0.176923</td>\n",
       "      <td>0.071480</td>\n",
       "      <td>0.132519</td>\n",
       "      <td>0.165674</td>\n",
       "      <td>0.083515</td>\n",
       "      <td>0.073732</td>\n",
       "      <td>0.031939</td>\n",
       "      <td>0.297000</td>\n",
       "      <td>0.148465</td>\n",
       "      <td>0.000000</td>\n",
       "      <td>...</td>\n",
       "      <td>0.886013</td>\n",
       "      <td>0.653466</td>\n",
       "      <td>0.820106</td>\n",
       "      <td>0.000000</td>\n",
       "      <td>0.098913</td>\n",
       "      <td>0.000000</td>\n",
       "      <td>0.060301</td>\n",
       "      <td>0.175975</td>\n",
       "      <td>0.024306</td>\n",
       "      <td>0.015311</td>\n",
       "    </tr>\n",
       "  </tbody>\n",
       "</table>\n",
       "<p>5 rows × 71 columns</p>\n",
       "</div>"
      ],
      "text/plain": [
       "       area  nd_mean_2021-04-15  nd_mean_2021-04-16  nd_mean_2021-04-18  \\\n",
       "0  0.076923            0.342493            0.073755            0.335615   \n",
       "1  0.269231            0.441478            0.337083            0.437334   \n",
       "2  0.138462            0.034716            0.013850            0.028350   \n",
       "3  0.069231            0.523447            0.107299            0.400920   \n",
       "4  0.176923            0.071480            0.132519            0.165674   \n",
       "\n",
       "   nd_mean_2021-04-19  nd_mean_2021-04-20  nd_mean_2021-04-22  \\\n",
       "0            0.344333            0.114754            0.082388   \n",
       "1            0.377749            0.117547            0.127071   \n",
       "2            0.009280            0.000000            0.158030   \n",
       "3            0.069057            0.279366            0.002508   \n",
       "4            0.083515            0.073732            0.031939   \n",
       "\n",
       "   nd_mean_2021-04-23  nd_mean_2021-04-25  nd_mean_2021-04-26  ...  \\\n",
       "0            0.045922            0.109569            0.106164  ...   \n",
       "1            0.083517            0.226964            0.154981  ...   \n",
       "2            0.218232            0.065759            0.038463  ...   \n",
       "3            0.114947            0.103470            0.011721  ...   \n",
       "4            0.297000            0.148465            0.000000  ...   \n",
       "\n",
       "   nd_mean_2021-07-29  nd_mean_2021-07-31  nd_mean_2021-08-01  \\\n",
       "0            0.773172            0.007404            0.800899   \n",
       "1            0.708771            0.102257            0.749300   \n",
       "2            0.342024            0.442090            0.000000   \n",
       "3            0.000000            0.066589            0.161476   \n",
       "4            0.886013            0.653466            0.820106   \n",
       "\n",
       "   nd_mean_2021-08-07  nd_mean_2021-08-10  nd_mean_2021-08-11  \\\n",
       "0            0.000000            0.037903            0.000000   \n",
       "1            0.216724            0.076809            0.709462   \n",
       "2            0.420313            0.055684            0.197396   \n",
       "3            0.071354            0.432912            0.434982   \n",
       "4            0.000000            0.098913            0.000000   \n",
       "\n",
       "   nd_mean_2021-08-12  nd_mean_2021-08-13  nd_mean_2021-08-23  \\\n",
       "0            0.718557            0.141552            0.038077   \n",
       "1            0.657043            0.195214            0.000000   \n",
       "2            0.000000            0.101123            0.000000   \n",
       "3            0.357113            0.082021            0.067482   \n",
       "4            0.060301            0.175975            0.024306   \n",
       "\n",
       "   nd_mean_2021-08-27  \n",
       "0            0.781251  \n",
       "1            0.228251  \n",
       "2            0.068785  \n",
       "3            0.481507  \n",
       "4            0.015311  \n",
       "\n",
       "[5 rows x 71 columns]"
      ]
     },
     "execution_count": 47,
     "metadata": {},
     "output_type": "execute_result"
    }
   ],
   "source": [
    "from sklearn import preprocessing\n",
    "scaler = preprocessing.MinMaxScaler()\n",
    "names = x_2.columns\n",
    "d = scaler.fit_transform(x_2)\n",
    "\n",
    "\n",
    "\n",
    "scaler_df = pd.DataFrame(d, columns = names)\n",
    "scaler_df.head()"
   ]
  },
  {
   "cell_type": "code",
   "execution_count": 48,
   "metadata": {},
   "outputs": [],
   "source": [
    "x_train_2, x_test_2, y_train_2, y_test_2 = train_test_split(scaler_df, y_2, test_size=0.7, random_state=12345)"
   ]
  },
  {
   "cell_type": "code",
   "execution_count": 49,
   "metadata": {
    "scrolled": false
   },
   "outputs": [
    {
     "name": "stdout",
     "output_type": "stream",
     "text": [
      "Learning rate set to 0.300275\n",
      "0:\tlearn: 1.5272335\ttotal: 60.1ms\tremaining: 12.6s\n",
      "210:\tlearn: 0.0437688\ttotal: 11.5s\tremaining: 0us\n",
      "Learning rate set to 0.300275\n",
      "0:\tlearn: 1.5398151\ttotal: 115ms\tremaining: 24.1s\n",
      "210:\tlearn: 0.0298738\ttotal: 33.4s\tremaining: 0us\n",
      "Learning rate set to 0.300275\n",
      "0:\tlearn: 1.5042362\ttotal: 180ms\tremaining: 37.8s\n",
      "210:\tlearn: 0.0226374\ttotal: 1m 4s\tremaining: 0us\n",
      "Learning rate set to 0.216349\n",
      "0:\tlearn: 1.6265749\ttotal: 49.7ms\tremaining: 15.4s\n",
      "300:\tlearn: 0.0407359\ttotal: 25.8s\tremaining: 858ms\n",
      "310:\tlearn: 0.0392370\ttotal: 27.3s\tremaining: 0us\n",
      "Learning rate set to 0.216349\n",
      "0:\tlearn: 1.6382961\ttotal: 120ms\tremaining: 37.2s\n",
      "300:\tlearn: 0.0279221\ttotal: 40.8s\tremaining: 1.36s\n",
      "310:\tlearn: 0.0266775\ttotal: 42.7s\tremaining: 0us\n",
      "Learning rate set to 0.216349\n",
      "0:\tlearn: 1.6125301\ttotal: 488ms\tremaining: 2m 31s\n",
      "300:\tlearn: 0.0200405\ttotal: 1m 16s\tremaining: 2.54s\n",
      "310:\tlearn: 0.0190573\ttotal: 1m 18s\tremaining: 0us\n",
      "Learning rate set to 0.170939\n",
      "0:\tlearn: 1.6865450\ttotal: 171ms\tremaining: 1m 9s\n",
      "300:\tlearn: 0.0546578\ttotal: 23.5s\tremaining: 8.58s\n",
      "410:\tlearn: 0.0365521\ttotal: 37.6s\tremaining: 0us\n",
      "Learning rate set to 0.170939\n",
      "0:\tlearn: 1.6968611\ttotal: 538ms\tremaining: 3m 40s\n",
      "300:\tlearn: 0.0380949\ttotal: 51.6s\tremaining: 18.9s\n",
      "410:\tlearn: 0.0243896\ttotal: 1m 6s\tremaining: 0us\n",
      "Learning rate set to 0.170939\n",
      "0:\tlearn: 1.6764723\ttotal: 294ms\tremaining: 2m\n",
      "300:\tlearn: 0.0306897\ttotal: 1m 28s\tremaining: 32.3s\n",
      "410:\tlearn: 0.0198643\ttotal: 1m 54s\tremaining: 0us\n"
     ]
    },
    {
     "data": {
      "text/plain": [
       "'Наилучшее recall:'"
      ]
     },
     "metadata": {},
     "output_type": "display_data"
    },
    {
     "data": {
      "text/plain": [
       "0.9530046393529966"
      ]
     },
     "metadata": {},
     "output_type": "display_data"
    },
    {
     "data": {
      "text/plain": [
       "'Наилучшая максимальной глубина:'"
      ]
     },
     "metadata": {},
     "output_type": "display_data"
    },
    {
     "data": {
      "text/plain": [
       "5"
      ]
     },
     "metadata": {},
     "output_type": "display_data"
    },
    {
     "data": {
      "text/plain": [
       "'Наилучшее количество итераций:'"
      ]
     },
     "metadata": {},
     "output_type": "display_data"
    },
    {
     "data": {
      "text/plain": [
       "411"
      ]
     },
     "metadata": {},
     "output_type": "display_data"
    },
    {
     "data": {
      "text/plain": [
       "None"
      ]
     },
     "metadata": {},
     "output_type": "display_data"
    }
   ],
   "source": [
    "display(cat(x_train, x_test, y_train, y_test))"
   ]
  },
  {
   "cell_type": "markdown",
   "metadata": {},
   "source": [
    "**Вывод** \n",
    "\n",
    "Нормлизация данных не улучшила качество тестовых моделей"
   ]
  },
  {
   "cell_type": "markdown",
   "metadata": {},
   "source": [
    "### Подготовим тестовый датасет"
   ]
  },
  {
   "cell_type": "code",
   "execution_count": 50,
   "metadata": {},
   "outputs": [],
   "source": [
    "df_test = pd.read_csv(r'C:\\project_jupyter\\innopolis\\test_dataset_test.csv')\n",
    "df_samp = pd.read_csv(r'C:\\project_jupyter\\innopolis\\sample_solution.csv')"
   ]
  },
  {
   "cell_type": "code",
   "execution_count": 51,
   "metadata": {},
   "outputs": [],
   "source": [
    "df_test = df_test[sorted(df_test.columns)]"
   ]
  },
  {
   "cell_type": "code",
   "execution_count": 52,
   "metadata": {
    "scrolled": false
   },
   "outputs": [
    {
     "data": {
      "text/html": [
       "<div>\n",
       "<style scoped>\n",
       "    .dataframe tbody tr th:only-of-type {\n",
       "        vertical-align: middle;\n",
       "    }\n",
       "\n",
       "    .dataframe tbody tr th {\n",
       "        vertical-align: top;\n",
       "    }\n",
       "\n",
       "    .dataframe thead th {\n",
       "        text-align: right;\n",
       "    }\n",
       "</style>\n",
       "<table border=\"1\" class=\"dataframe\">\n",
       "  <thead>\n",
       "    <tr style=\"text-align: right;\">\n",
       "      <th></th>\n",
       "      <th>.geo</th>\n",
       "      <th>area</th>\n",
       "      <th>id</th>\n",
       "      <th>nd_mean_2021-04-15</th>\n",
       "      <th>nd_mean_2021-04-16</th>\n",
       "      <th>nd_mean_2021-04-18</th>\n",
       "      <th>nd_mean_2021-04-19</th>\n",
       "      <th>nd_mean_2021-04-20</th>\n",
       "      <th>nd_mean_2021-04-22</th>\n",
       "      <th>nd_mean_2021-04-23</th>\n",
       "      <th>...</th>\n",
       "      <th>nd_mean_2021-07-29</th>\n",
       "      <th>nd_mean_2021-07-31</th>\n",
       "      <th>nd_mean_2021-08-01</th>\n",
       "      <th>nd_mean_2021-08-07</th>\n",
       "      <th>nd_mean_2021-08-10</th>\n",
       "      <th>nd_mean_2021-08-11</th>\n",
       "      <th>nd_mean_2021-08-12</th>\n",
       "      <th>nd_mean_2021-08-13</th>\n",
       "      <th>nd_mean_2021-08-23</th>\n",
       "      <th>nd_mean_2021-08-27</th>\n",
       "    </tr>\n",
       "  </thead>\n",
       "  <tbody>\n",
       "    <tr>\n",
       "      <th>0</th>\n",
       "      <td>{\"type\":\"Polygon\",\"coordinates\":[[[35.96545926...</td>\n",
       "      <td>26</td>\n",
       "      <td>611</td>\n",
       "      <td>0.083038</td>\n",
       "      <td>0.196691</td>\n",
       "      <td>0.244827</td>\n",
       "      <td>0.000000</td>\n",
       "      <td>0.241219</td>\n",
       "      <td>0.259303</td>\n",
       "      <td>0.064947</td>\n",
       "      <td>...</td>\n",
       "      <td>0.719171</td>\n",
       "      <td>0.000000</td>\n",
       "      <td>0.593911</td>\n",
       "      <td>0.000000</td>\n",
       "      <td>0.000000</td>\n",
       "      <td>0.192016</td>\n",
       "      <td>0.164840</td>\n",
       "      <td>0.714292</td>\n",
       "      <td>0.065030</td>\n",
       "      <td>0.084197</td>\n",
       "    </tr>\n",
       "    <tr>\n",
       "      <th>1</th>\n",
       "      <td>{\"type\":\"Polygon\",\"coordinates\":[[[39.50520518...</td>\n",
       "      <td>98</td>\n",
       "      <td>6417</td>\n",
       "      <td>0.122470</td>\n",
       "      <td>0.091192</td>\n",
       "      <td>0.241003</td>\n",
       "      <td>0.000000</td>\n",
       "      <td>0.181600</td>\n",
       "      <td>0.125823</td>\n",
       "      <td>0.108175</td>\n",
       "      <td>...</td>\n",
       "      <td>0.317670</td>\n",
       "      <td>0.329803</td>\n",
       "      <td>0.000000</td>\n",
       "      <td>0.007428</td>\n",
       "      <td>0.000000</td>\n",
       "      <td>0.106484</td>\n",
       "      <td>0.167479</td>\n",
       "      <td>0.000000</td>\n",
       "      <td>0.000000</td>\n",
       "      <td>0.108945</td>\n",
       "    </tr>\n",
       "    <tr>\n",
       "      <th>2</th>\n",
       "      <td>{\"type\":\"Polygon\",\"coordinates\":[[[39.30105409...</td>\n",
       "      <td>21</td>\n",
       "      <td>3352</td>\n",
       "      <td>0.259347</td>\n",
       "      <td>0.000000</td>\n",
       "      <td>0.297489</td>\n",
       "      <td>0.033368</td>\n",
       "      <td>0.000000</td>\n",
       "      <td>0.285057</td>\n",
       "      <td>0.374026</td>\n",
       "      <td>...</td>\n",
       "      <td>0.534127</td>\n",
       "      <td>0.000000</td>\n",
       "      <td>0.549128</td>\n",
       "      <td>0.000000</td>\n",
       "      <td>0.026141</td>\n",
       "      <td>0.469352</td>\n",
       "      <td>0.477381</td>\n",
       "      <td>0.037838</td>\n",
       "      <td>0.000000</td>\n",
       "      <td>0.158279</td>\n",
       "    </tr>\n",
       "    <tr>\n",
       "      <th>3</th>\n",
       "      <td>{\"type\":\"Polygon\",\"coordinates\":[[[33.08144648...</td>\n",
       "      <td>18</td>\n",
       "      <td>4224</td>\n",
       "      <td>0.166209</td>\n",
       "      <td>0.111243</td>\n",
       "      <td>0.000000</td>\n",
       "      <td>0.201012</td>\n",
       "      <td>0.083885</td>\n",
       "      <td>0.000000</td>\n",
       "      <td>0.015033</td>\n",
       "      <td>...</td>\n",
       "      <td>0.765292</td>\n",
       "      <td>0.597874</td>\n",
       "      <td>0.681923</td>\n",
       "      <td>0.035716</td>\n",
       "      <td>0.693845</td>\n",
       "      <td>0.614671</td>\n",
       "      <td>0.634286</td>\n",
       "      <td>0.108990</td>\n",
       "      <td>0.532947</td>\n",
       "      <td>0.237742</td>\n",
       "    </tr>\n",
       "    <tr>\n",
       "      <th>4</th>\n",
       "      <td>{\"type\":\"Polygon\",\"coordinates\":[[[45.10231339...</td>\n",
       "      <td>53</td>\n",
       "      <td>3102</td>\n",
       "      <td>0.010862</td>\n",
       "      <td>0.000000</td>\n",
       "      <td>0.067479</td>\n",
       "      <td>0.234954</td>\n",
       "      <td>0.000000</td>\n",
       "      <td>0.000000</td>\n",
       "      <td>0.000000</td>\n",
       "      <td>...</td>\n",
       "      <td>0.000000</td>\n",
       "      <td>0.134136</td>\n",
       "      <td>0.780305</td>\n",
       "      <td>0.030224</td>\n",
       "      <td>0.046893</td>\n",
       "      <td>0.000000</td>\n",
       "      <td>0.779191</td>\n",
       "      <td>0.048622</td>\n",
       "      <td>0.650742</td>\n",
       "      <td>0.121296</td>\n",
       "    </tr>\n",
       "  </tbody>\n",
       "</table>\n",
       "<p>5 rows × 73 columns</p>\n",
       "</div>"
      ],
      "text/plain": [
       "                                                .geo  area    id  \\\n",
       "0  {\"type\":\"Polygon\",\"coordinates\":[[[35.96545926...    26   611   \n",
       "1  {\"type\":\"Polygon\",\"coordinates\":[[[39.50520518...    98  6417   \n",
       "2  {\"type\":\"Polygon\",\"coordinates\":[[[39.30105409...    21  3352   \n",
       "3  {\"type\":\"Polygon\",\"coordinates\":[[[33.08144648...    18  4224   \n",
       "4  {\"type\":\"Polygon\",\"coordinates\":[[[45.10231339...    53  3102   \n",
       "\n",
       "   nd_mean_2021-04-15  nd_mean_2021-04-16  nd_mean_2021-04-18  \\\n",
       "0            0.083038            0.196691            0.244827   \n",
       "1            0.122470            0.091192            0.241003   \n",
       "2            0.259347            0.000000            0.297489   \n",
       "3            0.166209            0.111243            0.000000   \n",
       "4            0.010862            0.000000            0.067479   \n",
       "\n",
       "   nd_mean_2021-04-19  nd_mean_2021-04-20  nd_mean_2021-04-22  \\\n",
       "0            0.000000            0.241219            0.259303   \n",
       "1            0.000000            0.181600            0.125823   \n",
       "2            0.033368            0.000000            0.285057   \n",
       "3            0.201012            0.083885            0.000000   \n",
       "4            0.234954            0.000000            0.000000   \n",
       "\n",
       "   nd_mean_2021-04-23  ...  nd_mean_2021-07-29  nd_mean_2021-07-31  \\\n",
       "0            0.064947  ...            0.719171            0.000000   \n",
       "1            0.108175  ...            0.317670            0.329803   \n",
       "2            0.374026  ...            0.534127            0.000000   \n",
       "3            0.015033  ...            0.765292            0.597874   \n",
       "4            0.000000  ...            0.000000            0.134136   \n",
       "\n",
       "   nd_mean_2021-08-01  nd_mean_2021-08-07  nd_mean_2021-08-10  \\\n",
       "0            0.593911            0.000000            0.000000   \n",
       "1            0.000000            0.007428            0.000000   \n",
       "2            0.549128            0.000000            0.026141   \n",
       "3            0.681923            0.035716            0.693845   \n",
       "4            0.780305            0.030224            0.046893   \n",
       "\n",
       "   nd_mean_2021-08-11  nd_mean_2021-08-12  nd_mean_2021-08-13  \\\n",
       "0            0.192016            0.164840            0.714292   \n",
       "1            0.106484            0.167479            0.000000   \n",
       "2            0.469352            0.477381            0.037838   \n",
       "3            0.614671            0.634286            0.108990   \n",
       "4            0.000000            0.779191            0.048622   \n",
       "\n",
       "   nd_mean_2021-08-23  nd_mean_2021-08-27  \n",
       "0            0.065030            0.084197  \n",
       "1            0.000000            0.108945  \n",
       "2            0.000000            0.158279  \n",
       "3            0.532947            0.237742  \n",
       "4            0.650742            0.121296  \n",
       "\n",
       "[5 rows x 73 columns]"
      ]
     },
     "execution_count": 52,
     "metadata": {},
     "output_type": "execute_result"
    }
   ],
   "source": [
    "df_test.head()"
   ]
  },
  {
   "cell_type": "markdown",
   "metadata": {
    "id": "6Y60HHS5jKeN"
   },
   "source": [
    "## Оценка точности"
   ]
  },
  {
   "cell_type": "code",
   "execution_count": 53,
   "metadata": {},
   "outputs": [],
   "source": [
    "x_1 = df_test.drop([\"id\",\".geo\"], axis = 1)\n"
   ]
  },
  {
   "cell_type": "code",
   "execution_count": 55,
   "metadata": {},
   "outputs": [],
   "source": [
    "df_test_pred = model_cb_best.predict(x_1)"
   ]
  },
  {
   "cell_type": "code",
   "execution_count": 56,
   "metadata": {
    "scrolled": true
   },
   "outputs": [
    {
     "data": {
      "text/html": [
       "<div>\n",
       "<style scoped>\n",
       "    .dataframe tbody tr th:only-of-type {\n",
       "        vertical-align: middle;\n",
       "    }\n",
       "\n",
       "    .dataframe tbody tr th {\n",
       "        vertical-align: top;\n",
       "    }\n",
       "\n",
       "    .dataframe thead th {\n",
       "        text-align: right;\n",
       "    }\n",
       "</style>\n",
       "<table border=\"1\" class=\"dataframe\">\n",
       "  <thead>\n",
       "    <tr style=\"text-align: right;\">\n",
       "      <th></th>\n",
       "      <th>id</th>\n",
       "      <th>crop</th>\n",
       "    </tr>\n",
       "  </thead>\n",
       "  <tbody>\n",
       "    <tr>\n",
       "      <th>0</th>\n",
       "      <td>611</td>\n",
       "      <td>3</td>\n",
       "    </tr>\n",
       "    <tr>\n",
       "      <th>1</th>\n",
       "      <td>6417</td>\n",
       "      <td>2</td>\n",
       "    </tr>\n",
       "    <tr>\n",
       "      <th>2</th>\n",
       "      <td>3352</td>\n",
       "      <td>3</td>\n",
       "    </tr>\n",
       "    <tr>\n",
       "      <th>3</th>\n",
       "      <td>4224</td>\n",
       "      <td>1</td>\n",
       "    </tr>\n",
       "    <tr>\n",
       "      <th>4</th>\n",
       "      <td>3102</td>\n",
       "      <td>6</td>\n",
       "    </tr>\n",
       "  </tbody>\n",
       "</table>\n",
       "</div>"
      ],
      "text/plain": [
       "     id  crop\n",
       "0   611     3\n",
       "1  6417     2\n",
       "2  3352     3\n",
       "3  4224     1\n",
       "4  3102     6"
      ]
     },
     "execution_count": 56,
     "metadata": {},
     "output_type": "execute_result"
    }
   ],
   "source": [
    "df_samp[\"crop\"] = df_test_pred\n",
    "df_samp.head()"
   ]
  },
  {
   "cell_type": "code",
   "execution_count": 57,
   "metadata": {},
   "outputs": [],
   "source": [
    "df_samp.to_csv(r'C:\\project_jupyter\\innopolis\\y_1.csv', index=False)"
   ]
  },
  {
   "cell_type": "markdown",
   "metadata": {},
   "source": [
    "## Общий вывод"
   ]
  },
  {
   "cell_type": "markdown",
   "metadata": {},
   "source": [
    "В данной задачи стояла цель по классификации агрокультур на основе изменения показателя вегетационных индексов во временной последовательности.\n",
    "\n",
    "Целевой признак был сбалансирован по классам. \n",
    "\n",
    "Тестировали метрику **RECALL** на моделях случайного леса и CatBoost. Тестирование проводили на выборках:\n",
    "\n",
    "* 1)Отсортированный датасет со всеми признаками\n",
    "* 2)Посмотрим какие признаки являются самыми важными у модели, проведем тестирование с учетом исключения части менее важных признаков\n",
    "* 3)Замена нулевых значений на среднее арифмитическое двух соседних столбцов\n",
    "* 4)Нормализация данных\n",
    "\n",
    "\n",
    "Лучшее качество показал отсортированный датасет со всеми признаками. \n",
    "\n",
    "RECALL на Catboost - 0.953; RECALL на RandoomForest-0.9559\n",
    "\n",
    "Нормализация данных не улучшила качество модели, модели без части менее важных признаков и со средним арифтмитическим для нулевых значений показывали худшее качество.\n",
    "\n",
    "По итогам обучения модели по всем признакам и проверки метрики на тестовом датасете RECALL-0.962547"
   ]
  }
 ],
 "metadata": {
  "colab": {
   "provenance": []
  },
  "kernelspec": {
   "display_name": "Python 3",
   "language": "python",
   "name": "python3"
  }
 },
 "nbformat": 4,
 "nbformat_minor": 1
}
